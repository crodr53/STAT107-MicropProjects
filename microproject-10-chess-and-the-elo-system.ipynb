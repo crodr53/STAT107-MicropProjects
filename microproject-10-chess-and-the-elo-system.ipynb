{
 "cells": [
  {
   "attachments": {},
   "cell_type": "markdown",
   "metadata": {},
   "source": [
    "<h1 style=\"text-align: center\">\n",
    "<div style=\"color: #DD3403; font-size: 60%\">Data Science DISCOVERY MicroProject</div>\n",
    "<span style=\"\">MicroProject #10: Chess and The Elo System</span>\n",
    "<div style=\"font-size: 60%;\"><a href=\"https://discovery.cs.illinois.edu/microproject/chess/\">https://discovery.cs.illinois.edu/microproject/chess/</a></div>\n",
    "</h1>\n",
    "\n",
    "<hr style=\"color: #DD3403;\">"
   ]
  },
  {
   "attachments": {},
   "cell_type": "markdown",
   "metadata": {},
   "source": [
    "## Data Source: Lichess.org Open Database\n",
    "\n",
    "The website [lichess.com](https://lichess.org) is an open source and free platform for playing chess online.  As part of their website, lichess provides the [\"lichess.org open database\"](https://database.lichess.org/) that contains an absolutely massive number of chess games, puzzles, and engine evaluations. Billions of games are stored in the database with about a hundred million being added each month.\n",
    "\n",
    "In this MicroProject, you will analyze a small collection of the data and explore using Python functions to evaluate the Elo system and check the accuracy and efficacy of the Elo rating.  Let's nerd out! 🎉\n",
    "\n",
    "\n",
    "### Background Knowledge\n",
    "\n",
    "To finish this MicroProject, we assume you already know:\n",
    "\n",
    "- All topics covered in *DISCOVERY Module 1: Basics of Data Science with Python* ([review the module here](https://discovery.cs.illinois.edu/learn/))\n",
    "- Working with functions in Python ([review Python functions here](https://discovery.cs.illinois.edu/learn/Simulation-and-Distributions/Functions-in-Python/))\n",
    "- Writing simulations in Python ([review Python simulations here](https://discovery.cs.illinois.edu/learn/Simulation-and-Distributions/Simple-Simulations-in-Python/))\n",
    "\n",
    "Let's get started! :)"
   ]
  },
  {
   "attachments": {},
   "cell_type": "markdown",
   "metadata": {},
   "source": [
    "<hr style=\"color: #DD3403;\">"
   ]
  },
  {
   "cell_type": "markdown",
   "metadata": {},
   "source": [
    "## Part 1: Importing the lichess.com Dataset\n",
    "\n",
    "As part of this MicroProject, we have selected the 121,114 games played in January 2013, provided for you in the dataset `lichess_games_1-2013.csv` (218 games were excluded due to missing data).\n",
    "Load the `lichess_games_1-2013.csv` dataset into a DataFrame stored in the Python variable `df`:"
   ]
  },
  {
   "cell_type": "code",
   "execution_count": 1,
   "metadata": {},
   "outputs": [
    {
     "data": {
      "text/html": [
       "<div>\n",
       "<style scoped>\n",
       "    .dataframe tbody tr th:only-of-type {\n",
       "        vertical-align: middle;\n",
       "    }\n",
       "\n",
       "    .dataframe tbody tr th {\n",
       "        vertical-align: top;\n",
       "    }\n",
       "\n",
       "    .dataframe thead th {\n",
       "        text-align: right;\n",
       "    }\n",
       "</style>\n",
       "<table border=\"1\" class=\"dataframe\">\n",
       "  <thead>\n",
       "    <tr style=\"text-align: right;\">\n",
       "      <th></th>\n",
       "      <th>WhiteElo</th>\n",
       "      <th>BlackElo</th>\n",
       "      <th>Result</th>\n",
       "      <th>Termination</th>\n",
       "      <th>Opening</th>\n",
       "      <th>ECO</th>\n",
       "      <th>TimeControl</th>\n",
       "    </tr>\n",
       "  </thead>\n",
       "  <tbody>\n",
       "    <tr>\n",
       "      <th>0</th>\n",
       "      <td>1639</td>\n",
       "      <td>1403</td>\n",
       "      <td>1-0</td>\n",
       "      <td>Normal</td>\n",
       "      <td>French Defense: Normal Variation</td>\n",
       "      <td>C00</td>\n",
       "      <td>600+8</td>\n",
       "    </tr>\n",
       "    <tr>\n",
       "      <th>1</th>\n",
       "      <td>1654</td>\n",
       "      <td>1919</td>\n",
       "      <td>1-0</td>\n",
       "      <td>Normal</td>\n",
       "      <td>Queen's Pawn Game: Colle System, Anti-Colle</td>\n",
       "      <td>D04</td>\n",
       "      <td>480+2</td>\n",
       "    </tr>\n",
       "    <tr>\n",
       "      <th>2</th>\n",
       "      <td>1643</td>\n",
       "      <td>1747</td>\n",
       "      <td>1-0</td>\n",
       "      <td>Normal</td>\n",
       "      <td>Four Knights Game: Italian Variation</td>\n",
       "      <td>C50</td>\n",
       "      <td>420+17</td>\n",
       "    </tr>\n",
       "    <tr>\n",
       "      <th>3</th>\n",
       "      <td>1824</td>\n",
       "      <td>1973</td>\n",
       "      <td>0-1</td>\n",
       "      <td>Normal</td>\n",
       "      <td>Caro-Kann Defense: Goldman Variation</td>\n",
       "      <td>B12</td>\n",
       "      <td>60+1</td>\n",
       "    </tr>\n",
       "    <tr>\n",
       "      <th>4</th>\n",
       "      <td>1765</td>\n",
       "      <td>1815</td>\n",
       "      <td>0-1</td>\n",
       "      <td>Normal</td>\n",
       "      <td>French Defense: La Bourdonnais Variation</td>\n",
       "      <td>C00</td>\n",
       "      <td>60+1</td>\n",
       "    </tr>\n",
       "    <tr>\n",
       "      <th>...</th>\n",
       "      <td>...</td>\n",
       "      <td>...</td>\n",
       "      <td>...</td>\n",
       "      <td>...</td>\n",
       "      <td>...</td>\n",
       "      <td>...</td>\n",
       "      <td>...</td>\n",
       "    </tr>\n",
       "    <tr>\n",
       "      <th>121109</th>\n",
       "      <td>1854</td>\n",
       "      <td>1937</td>\n",
       "      <td>0-1</td>\n",
       "      <td>Normal</td>\n",
       "      <td>King's Indian Defense: Saemisch Variation</td>\n",
       "      <td>E80</td>\n",
       "      <td>600+10</td>\n",
       "    </tr>\n",
       "    <tr>\n",
       "      <th>121110</th>\n",
       "      <td>1500</td>\n",
       "      <td>1266</td>\n",
       "      <td>0-1</td>\n",
       "      <td>Time forfeit</td>\n",
       "      <td>Scandinavian Defense</td>\n",
       "      <td>B01</td>\n",
       "      <td>720+0</td>\n",
       "    </tr>\n",
       "    <tr>\n",
       "      <th>121111</th>\n",
       "      <td>1431</td>\n",
       "      <td>1523</td>\n",
       "      <td>0-1</td>\n",
       "      <td>Normal</td>\n",
       "      <td>Scandinavian Defense: Mieses-Kotroc Variation</td>\n",
       "      <td>B01</td>\n",
       "      <td>960+6</td>\n",
       "    </tr>\n",
       "    <tr>\n",
       "      <th>121112</th>\n",
       "      <td>1693</td>\n",
       "      <td>1479</td>\n",
       "      <td>1-0</td>\n",
       "      <td>Normal</td>\n",
       "      <td>Barnes Defense</td>\n",
       "      <td>B00</td>\n",
       "      <td>180+1</td>\n",
       "    </tr>\n",
       "    <tr>\n",
       "      <th>121113</th>\n",
       "      <td>1744</td>\n",
       "      <td>1762</td>\n",
       "      <td>0-1</td>\n",
       "      <td>Time forfeit</td>\n",
       "      <td>Caro-Kann Defense: Forgacs Variation</td>\n",
       "      <td>B15</td>\n",
       "      <td>300+0</td>\n",
       "    </tr>\n",
       "  </tbody>\n",
       "</table>\n",
       "<p>121114 rows × 7 columns</p>\n",
       "</div>"
      ],
      "text/plain": [
       "        WhiteElo  BlackElo Result   Termination  \\\n",
       "0           1639      1403    1-0        Normal   \n",
       "1           1654      1919    1-0        Normal   \n",
       "2           1643      1747    1-0        Normal   \n",
       "3           1824      1973    0-1        Normal   \n",
       "4           1765      1815    0-1        Normal   \n",
       "...          ...       ...    ...           ...   \n",
       "121109      1854      1937    0-1        Normal   \n",
       "121110      1500      1266    0-1  Time forfeit   \n",
       "121111      1431      1523    0-1        Normal   \n",
       "121112      1693      1479    1-0        Normal   \n",
       "121113      1744      1762    0-1  Time forfeit   \n",
       "\n",
       "                                              Opening  ECO TimeControl  \n",
       "0                    French Defense: Normal Variation  C00       600+8  \n",
       "1         Queen's Pawn Game: Colle System, Anti-Colle  D04       480+2  \n",
       "2                Four Knights Game: Italian Variation  C50      420+17  \n",
       "3                Caro-Kann Defense: Goldman Variation  B12        60+1  \n",
       "4            French Defense: La Bourdonnais Variation  C00        60+1  \n",
       "...                                               ...  ...         ...  \n",
       "121109      King's Indian Defense: Saemisch Variation  E80      600+10  \n",
       "121110                           Scandinavian Defense  B01       720+0  \n",
       "121111  Scandinavian Defense: Mieses-Kotroc Variation  B01       960+6  \n",
       "121112                                 Barnes Defense  B00       180+1  \n",
       "121113           Caro-Kann Defense: Forgacs Variation  B15       300+0  \n",
       "\n",
       "[121114 rows x 7 columns]"
      ]
     },
     "execution_count": 1,
     "metadata": {},
     "output_type": "execute_result"
    }
   ],
   "source": [
    "import pandas as pd\n",
    "import numpy as np\n",
    "\n",
    "df = pd.read_csv('lichess_games_1-2013.csv')\n",
    "df"
   ]
  },
  {
   "cell_type": "markdown",
   "metadata": {},
   "source": [
    "### Data Dictionary: Understanding the Data\n",
    "\n",
    "A chess game occurs between two players: one player who plays with the **white chess pieces** and a second player who plays with the **black chess pieces**.  Each player has a skill rating, called their \"Elo rating\", that measures their skill at the game of chess.\n",
    "\n",
    "- The columns `WhiteElo` and `BlackElo` contain data about the ratings of each player before the game begins.\n",
    "\n",
    "A chess match will always result in either the white pieces winning (represented by `1-0`, meaning that \"white scored one point\"), the black pieces winning (represented by `0-1`, meaning \"black scored one point\"), or a draw where neither player wins (represented by `1/2-1/2`, meaning both players scored a half-point).\n",
    "\n",
    "- The column `Result` contains either `1-0`, `0-1`, or `1/2-1/2`.\n",
    "\n",
    "To ensure a game of chess does not last forever, every chess match is played with a \"time control\".  The time control indicates the total number of seconds each player has for the entire game and how many additional seconds each player gets for each move played.  If a player runs out of time, they forfeit the game due to running out of time (called a `\"Time forfeit\"`).\n",
    "\n",
    "- The column `TimeControl` indicates the time control for the game.  A time control of `60+1` indicates each player has **60 seconds** to play the entire game with an additional **1 second** for each moved played.\n",
    "- The column `Termination` contains `\"Normal\"` for a normal game ending, or `\"Time forfeit\"` if a player runs out of time.\n",
    "\n",
    "Finally, the first several moves of a chess game determines the overall \"structure\" of the game in high-level chess.  Each common sequence of initial moves are given a name (ex: \"Queen's Gambit\", \"Scandinavian Defense\", \"Caro-Kann Defense\", etc).  The opening used in each game and the three character code from [Encyclopaedia of Chess Openings](https://en.wikipedia.org/wiki/Encyclopaedia_of_Chess_Openings) for the opening is provided as part of this dataset.\n",
    "\n",
    "- The column `Opening` contains the opening name.\n",
    "- The column `ECO` contains the [Encyclopaedia of Chess Openings](https://en.wikipedia.org/wiki/Encyclopaedia_of_Chess_Openings) code for the opening."
   ]
  },
  {
   "cell_type": "markdown",
   "metadata": {},
   "source": [
    "<hr style=\"color: #DD3403;\">"
   ]
  },
  {
   "cell_type": "markdown",
   "metadata": {},
   "source": [
    "## Part 2: The Elo System"
   ]
  },
  {
   "cell_type": "markdown",
   "metadata": {},
   "source": [
    "A player's Elo changes after each game, and the change depends on the Elo of the opponent. Someone who wins against a higher-rated player gains more Elo than if they win against a lower-rated player. This reflects the fact that a higher-rated player is considered more likely to win. But exactly how likely?\n",
    "\n",
    "Suppose two players, A and B, are playing a game of chess. A simplified [Elo formula](https://en.wikipedia.org/wiki/Elo_rating_system#Mathematical_details) for the probability that A wins is:\n",
    "$$P(\\text{A wins}) = \\frac{1}{1 + 10^{(-r/400)}}$$\n",
    "where $$r = \\text{A's Elo} - \\text{B's Elo}$$\n",
    "\n",
    "\n",
    "### Example Calculation\n",
    "\n",
    "For example, if A has an Elo of 1000 and B has an Elo of 1200:\n",
    "\n",
    "$$r = \\text{A's Elo} - \\text{B's Elo}$$\n",
    "$$r = \\text{1000} - \\text{1200}$$\n",
    "$$r = -200$$\n",
    "\n",
    "Then, solving for the probability:\n",
    "\n",
    "$$P(\\text{A wins}) = \\frac{1}{1 + 10^{(-r/400)}}$$\n",
    "$$P(\\text{A wins}) = \\frac{1}{1 + 10^{(-(-200)/400)}}$$\n",
    "$$P(\\text{A wins}) = 0.2403 = 24.03\\%$$\n",
    "\n",
    "It makes sense that A has a low chance of winning, since they are rated 200 points lower than B.\n",
    "\n",
    "\n",
    "### Simplified Formula Assumption\n",
    "\n",
    "This formula assumes that there are only two results: A wins or B wins. [A more complicated formula](https://en.wikipedia.org/wiki/Elo_rating_system#Formal_derivation_for_win/draw/loss_games) accounts for draws, but we won't use it here.\n",
    "\n",
    "This means that for this MicroProject (and any time you cannot have a tie in an Elo system):\n",
    "\n",
    "$$P(\\text{B wins}) = 1 - P(\\text{A wins})$$"
   ]
  },
  {
   "cell_type": "markdown",
   "metadata": {},
   "source": [
    "### Part 2.1: Probability of Winning Formula"
   ]
  },
  {
   "cell_type": "markdown",
   "metadata": {},
   "source": [
    "Create a function `p_A_wins` that takes two arguments, `elo_A` and `elo_B`, and returns the probability that player A wins using the formula outlined earlier:"
   ]
  },
  {
   "cell_type": "code",
   "execution_count": 6,
   "metadata": {},
   "outputs": [],
   "source": [
    "def p_A_wins(elo_A, elo_B):\n",
    "    r = elo_A - elo_B\n",
    "    return 1 / (1 + 10 ** (-r / 400))\n",
    "    "
   ]
  },
  {
   "cell_type": "markdown",
   "metadata": {},
   "source": [
    "Keep in mind that the formula from this section is a very rough approximation. In reality, the probability of winning is affected by many factors, such as whether the player is playing white or black, the time control, and whether their current Elo truly reflects their skill level."
   ]
  },
  {
   "cell_type": "code",
   "execution_count": 7,
   "metadata": {},
   "outputs": [
    {
     "name": "stdout",
     "output_type": "stream",
     "text": [
      "🎉 All Tests Passed! 🎉\n"
     ]
    }
   ],
   "source": [
    "### TEST CASE for Part 2.1: Probability of Winning Formula\n",
    "import math\n",
    "tada = \"\\N{PARTY POPPER}\"\n",
    "\n",
    "assert(\"p_A_wins\" in vars()), \"Make sure to define the function `p_A_wins`.\"\n",
    "assert(math.isclose(p_A_wins(2000, 2000), 0.5)), \"Your function does not return the correct probability.\"\n",
    "assert(math.isclose(p_A_wins(1000, 1200), 0.2402530733520421)), \"Your function does not return the correct probability.\"\n",
    "assert(math.isclose(p_A_wins(1000, 2000), 0.0031523091832602115)), \"Your function does not return the correct probability.\"\n",
    "assert(math.isclose(p_A_wins(1500, 1200), 0.8490204427886767)), \"Your function does not return the correct probability.\"\n",
    "print(f\"{tada} All Tests Passed! {tada}\") "
   ]
  },
  {
   "cell_type": "markdown",
   "metadata": {},
   "source": [
    "### Part 2.2: Applying Your Elo Formula\n",
    "\n",
    "A major [chess cheating scandal](https://en.wikipedia.org/wiki/Carlsen%E2%80%93Niemann_controversy) in 2022 had a previous World Champion, Magnus Carlsen, accusing his opponent Hans Niemann of cheating after [losing to him](https://www.chess.com/events/2022-sinquefield-cup/03/Carlsen_Magnus-Niemann_Hans_Moke).\n",
    "\n",
    "At the time, Hans Niemann had an Elo of 2688, and Magnus Carlsen had an Elo of 2861. Use your function to estimate the probability of Hans Niemann winning and store that probability in the variable `p_Hans_wins`:"
   ]
  },
  {
   "cell_type": "code",
   "execution_count": 8,
   "metadata": {},
   "outputs": [
    {
     "data": {
      "text/plain": [
       "0.269754586702576"
      ]
     },
     "execution_count": 8,
     "metadata": {},
     "output_type": "execute_result"
    }
   ],
   "source": [
    "p_Hans_wins = p_A_wins(2688, 2861)\n",
    "p_Hans_wins"
   ]
  },
  {
   "cell_type": "code",
   "execution_count": 9,
   "metadata": {},
   "outputs": [
    {
     "name": "stdout",
     "output_type": "stream",
     "text": [
      "🎉 All Tests Passed! 🎉\n"
     ]
    }
   ],
   "source": [
    "### TEST CASE for Part 2.2: Applying Your Elo Formula\n",
    "import math\n",
    "tada = \"\\N{PARTY POPPER}\"\n",
    "\n",
    "assert(\"p_Hans_wins\" in vars()), \"Make sure to define the variable `p_Hans_wins`.\"\n",
    "assert(not math.isclose(p_Hans_wins, 0.730245413297424)), \"Your value for p_Hans_wins is incorrect. Remember that your function returns the probability of the first player winning.\"\n",
    "assert(math.isclose(p_Hans_wins, 0.269754586702576)), \"Your value for p_Hans_wins is incorrect.\"\n",
    "\n",
    "print(f\"{tada} All Tests Passed! {tada}\") "
   ]
  },
  {
   "cell_type": "markdown",
   "metadata": {},
   "source": [
    "### Part 2.3: Your Elo\n",
    "\n",
    "Let's take a look at your probabilities of winning against different opponents!\n",
    "- If you have a chess Elo, put it in the variable `your_elo`.\n",
    "- If you don't have an Elo, feel free to use `1200` or another reasonable value.  *(An Elo of `500` would represent someone who understands the rules of chess, but uses very little strategy; an Elo of `1200` might be someone who plays recreationally; and an Elo of `2000` begins to be range of players who play professionally.)*"
   ]
  },
  {
   "cell_type": "code",
   "execution_count": 12,
   "metadata": {},
   "outputs": [
    {
     "data": {
      "text/plain": [
       "300"
      ]
     },
     "execution_count": 12,
     "metadata": {},
     "output_type": "execute_result"
    }
   ],
   "source": [
    "your_elo = 300\n",
    "your_elo"
   ]
  },
  {
   "cell_type": "markdown",
   "metadata": {},
   "source": [
    "The lowest possible Elo on Lichess is 400. Calculate the probability of winning against a player with that Elo (use the variable your_elo that you defined above)."
   ]
  },
  {
   "cell_type": "code",
   "execution_count": 13,
   "metadata": {},
   "outputs": [
    {
     "data": {
      "text/plain": [
       "0.35993500019711494"
      ]
     },
     "execution_count": 13,
     "metadata": {},
     "output_type": "execute_result"
    }
   ],
   "source": [
    "p_win_400 = p_A_wins(your_elo, 400)\n",
    "p_win_400"
   ]
  },
  {
   "cell_type": "markdown",
   "metadata": {},
   "source": [
    "Two equally rated players should have an exactly 50% chance of winning.  Let's verify this by calculating the probability of winning when you play a game against someone with **the exact same Elo rating as yourself**:"
   ]
  },
  {
   "cell_type": "code",
   "execution_count": 15,
   "metadata": {},
   "outputs": [
    {
     "data": {
      "text/plain": [
       "0.5"
      ]
     },
     "execution_count": 15,
     "metadata": {},
     "output_type": "execute_result"
    }
   ],
   "source": [
    "p_win_yourself = p_A_wins(your_elo, 300)\n",
    "p_win_yourself"
   ]
  },
  {
   "cell_type": "markdown",
   "metadata": {},
   "source": [
    "### Part 2.4: Average Elo\n",
    "\n",
    "Now calculate the average Elo of every playing in the dataset. Make sure to include both white and black players.\n",
    "\n",
    "*Hint: There are exactly as many white players as black players in the dataset, so you can average the two means.*"
   ]
  },
  {
   "cell_type": "code",
   "execution_count": 32,
   "metadata": {},
   "outputs": [
    {
     "data": {
      "text/plain": [
       "np.float64(1600.8983024258137)"
      ]
     },
     "execution_count": 32,
     "metadata": {},
     "output_type": "execute_result"
    }
   ],
   "source": [
    "average_elo = (df['WhiteElo'].mean() + df['BlackElo'].mean()) / 2\n",
    "average_elo"
   ]
  },
  {
   "cell_type": "markdown",
   "metadata": {},
   "source": [
    "Now calculate the probability of winning against a player with the average Elo."
   ]
  },
  {
   "cell_type": "code",
   "execution_count": 33,
   "metadata": {},
   "outputs": [
    {
     "data": {
      "text/plain": [
       "np.float64(0.0005591281395146847)"
      ]
     },
     "execution_count": 33,
     "metadata": {},
     "output_type": "execute_result"
    }
   ],
   "source": [
    "p_win_average_elo = p_A_wins(your_elo, average_elo)\n",
    "p_win_average_elo"
   ]
  },
  {
   "cell_type": "markdown",
   "metadata": {},
   "source": [
    "The highest Elo ever reached by a human was **2882** by Magnus Carlsen in 2014. Calculate the probability of winning against Magnus Carlsen at his peak."
   ]
  },
  {
   "cell_type": "code",
   "execution_count": 34,
   "metadata": {},
   "outputs": [
    {
     "data": {
      "text/plain": [
       "3.50751750925734e-07"
      ]
     },
     "execution_count": 34,
     "metadata": {},
     "output_type": "execute_result"
    }
   ],
   "source": [
    "p_win_magnus = p_A_wins(your_elo, 2882)\n",
    "p_win_magnus"
   ]
  },
  {
   "cell_type": "code",
   "execution_count": 35,
   "metadata": {},
   "outputs": [
    {
     "name": "stdout",
     "output_type": "stream",
     "text": [
      "🎉 All Tests Passed! 🎉\n"
     ]
    }
   ],
   "source": [
    "### TEST CASE for Part 2.3 and Part 2.4: Elo Calculations\n",
    "\n",
    "_p = lambda a, b: 1 / (1 + 10 ** ((b - a) / 400))\n",
    "\n",
    "assert(\"your_elo\" in vars()), \"Make sure to define the variable `your_elo`.\"\n",
    "assert(100 < your_elo < 3000), \"Your Elo is not in a reasonable range.\"\n",
    "assert(\"p_win_400\" in vars()), \"Make sure to define the variable `p_win_400`.\"\n",
    "assert(math.isclose(p_win_400, _p(your_elo, 400))), \"Your value for p_win_400 is incorrect.\"\n",
    "assert(\"average_elo\" in vars()), \"Make sure to define the variable `average_elo`.\"\n",
    "assert(math.isclose(average_elo, 1600.8983024258137)), \"Your value for average_elo is incorrect.\"\n",
    "assert(\"p_win_yourself\" in vars()), \"Make sure to define the variable `p_win_yourself`.\"\n",
    "assert(math.isclose(p_win_yourself, 0.5)), \"Your value for p_win_yourself is incorrect.\"\n",
    "assert(\"p_win_average_elo\" in vars()), \"Make sure to define the variable `p_win_average_elo`.\"\n",
    "assert(math.isclose(p_win_average_elo, _p(your_elo, average_elo))), \"Your value for p_win_average_elo is incorrect.\"\n",
    "assert(\"p_win_magnus\" in vars()), \"Make sure to define the variable `p_win_magnus`.\"\n",
    "assert(math.isclose(p_win_magnus, _p(your_elo, 2882))), \"Your value for p_win_magnus is incorrect.\"\n",
    "\n",
    "print(f\"{tada} All Tests Passed! {tada}\") "
   ]
  },
  {
   "cell_type": "markdown",
   "metadata": {},
   "source": [
    "### Part 2.5: Plotting Your Winning Chances"
   ]
  },
  {
   "cell_type": "markdown",
   "metadata": {},
   "source": [
    "We've looked at a few different win probabilities. Now let's plot a bunch of different ones to see how the probability changes with Elo!\n",
    "\n",
    "Create a DataFrame called `df_win_prob` with the columns `Elo` and `p_win`.\n",
    "- You should consider all values of Elo from 400 to 2900 (inclusive).\n",
    "- The `p_win` column should contain the probability of you winning against a player with that Elo.\n",
    "\n",
    "**Creating this can be done in a way very similar to a simulation**, where you are recording every possible Elo value (in our specified range) and are calculating the probability of winning against each Elo value given your own Elo value.  \n",
    "\n",
    "It may be useful to use the two-argument `range` function in Python.  Traditionally, we usually use the one-argument `range` function that starts at `0` and stops at the number you specify.  For example, `range(100)` starts at `0`, stops at `100` and includes all the numbers `0...99`.\n",
    "\n",
    "```py\n",
    "for i in range(100):\n",
    "  print(i)\n",
    "# Result: 0  1  2  ...  98  99\n",
    "```\n",
    "\n",
    "Using the two argument `range` function, you specify the **start** and the **stop**.  If we want to start at `42` instead of `0`, the following code starts at `42` instead of the default of `0`:\n",
    "\n",
    "```py\n",
    "for i in range(42, 100):\n",
    "  print(i)\n",
    "# Result: 42  43  44  ...  98  99\n",
    "```\n",
    "\n",
    "It may be useful to do something like this for your `Elo`, similar to:\n",
    "\n",
    "```py\n",
    "for Elo in range(10, 20):\n",
    "  print(Elo)\n",
    "# Result: 10  11  12  ...  18  19\n",
    "```\n",
    "\n",
    "Create a DataFrame called `df_win_prob` that considers the probability of you winning for every Elo in the range `400..2900`, with the columns `Elo` and `p_win`:"
   ]
  },
  {
   "cell_type": "code",
   "execution_count": 43,
   "metadata": {},
   "outputs": [
    {
     "data": {
      "text/html": [
       "<div>\n",
       "<style scoped>\n",
       "    .dataframe tbody tr th:only-of-type {\n",
       "        vertical-align: middle;\n",
       "    }\n",
       "\n",
       "    .dataframe tbody tr th {\n",
       "        vertical-align: top;\n",
       "    }\n",
       "\n",
       "    .dataframe thead th {\n",
       "        text-align: right;\n",
       "    }\n",
       "</style>\n",
       "<table border=\"1\" class=\"dataframe\">\n",
       "  <thead>\n",
       "    <tr style=\"text-align: right;\">\n",
       "      <th></th>\n",
       "      <th>Elo</th>\n",
       "      <th>p_win</th>\n",
       "    </tr>\n",
       "  </thead>\n",
       "  <tbody>\n",
       "    <tr>\n",
       "      <th>0</th>\n",
       "      <td>400</td>\n",
       "      <td>3.599350e-01</td>\n",
       "    </tr>\n",
       "    <tr>\n",
       "      <th>1</th>\n",
       "      <td>401</td>\n",
       "      <td>3.586099e-01</td>\n",
       "    </tr>\n",
       "    <tr>\n",
       "      <th>2</th>\n",
       "      <td>402</td>\n",
       "      <td>3.572869e-01</td>\n",
       "    </tr>\n",
       "    <tr>\n",
       "      <th>3</th>\n",
       "      <td>403</td>\n",
       "      <td>3.559661e-01</td>\n",
       "    </tr>\n",
       "    <tr>\n",
       "      <th>4</th>\n",
       "      <td>404</td>\n",
       "      <td>3.546475e-01</td>\n",
       "    </tr>\n",
       "    <tr>\n",
       "      <th>...</th>\n",
       "      <td>...</td>\n",
       "      <td>...</td>\n",
       "    </tr>\n",
       "    <tr>\n",
       "      <th>2496</th>\n",
       "      <td>2896</td>\n",
       "      <td>3.235936e-07</td>\n",
       "    </tr>\n",
       "    <tr>\n",
       "      <th>2497</th>\n",
       "      <td>2897</td>\n",
       "      <td>3.217361e-07</td>\n",
       "    </tr>\n",
       "    <tr>\n",
       "      <th>2498</th>\n",
       "      <td>2898</td>\n",
       "      <td>3.198894e-07</td>\n",
       "    </tr>\n",
       "    <tr>\n",
       "      <th>2499</th>\n",
       "      <td>2899</td>\n",
       "      <td>3.180533e-07</td>\n",
       "    </tr>\n",
       "    <tr>\n",
       "      <th>2500</th>\n",
       "      <td>2900</td>\n",
       "      <td>3.162277e-07</td>\n",
       "    </tr>\n",
       "  </tbody>\n",
       "</table>\n",
       "<p>2501 rows × 2 columns</p>\n",
       "</div>"
      ],
      "text/plain": [
       "       Elo         p_win\n",
       "0      400  3.599350e-01\n",
       "1      401  3.586099e-01\n",
       "2      402  3.572869e-01\n",
       "3      403  3.559661e-01\n",
       "4      404  3.546475e-01\n",
       "...    ...           ...\n",
       "2496  2896  3.235936e-07\n",
       "2497  2897  3.217361e-07\n",
       "2498  2898  3.198894e-07\n",
       "2499  2899  3.180533e-07\n",
       "2500  2900  3.162277e-07\n",
       "\n",
       "[2501 rows x 2 columns]"
      ]
     },
     "execution_count": 43,
     "metadata": {},
     "output_type": "execute_result"
    }
   ],
   "source": [
    "# Create a DataFrame called `df_win_prob` that considers the probability of you\n",
    "# winning for every Elo in the range `400..2900`:\n",
    "elo_list = []\n",
    "p_win_list = []\n",
    "for Elo in range(400, 2901):\n",
    "    elo_list.append(Elo)\n",
    "    p_win_list.append(p_A_wins(your_elo, Elo))\n",
    "df_win_prob = pd.DataFrame({'Elo': elo_list, 'p_win': p_win_list\n",
    "})\n",
    "    \n",
    "\n",
    "df_win_prob"
   ]
  },
  {
   "cell_type": "markdown",
   "metadata": {},
   "source": [
    "Using `df_win_prob` and `plot.line`, plot a line chart.  The x-axis should be `Elo`, and the y-axis should be `p_win`."
   ]
  },
  {
   "cell_type": "code",
   "execution_count": 77,
   "metadata": {},
   "outputs": [
    {
     "data": {
      "text/plain": [
       "<Axes: xlabel='Elo'>"
      ]
     },
     "execution_count": 77,
     "metadata": {},
     "output_type": "execute_result"
    },
    {
     "data": {
      "image/png": "[encoded data removed]",
      "text/plain": [
       "<Figure size 640x480 with 1 Axes>"
      ]
     },
     "metadata": {},
     "output_type": "display_data"
    }
   ],
   "source": [
    "import matplotlib as plt\n",
    "df_win_prob.plot.line(x='Elo', y='p_win')"
   ]
  },
  {
   "cell_type": "code",
   "execution_count": 78,
   "metadata": {},
   "outputs": [
    {
     "name": "stdout",
     "output_type": "stream",
     "text": [
      "🎉 All Tests Passed! 🎉\n"
     ]
    }
   ],
   "source": [
    "### TEST CASE for Part 2.5: Plotting Your Winning Chances\n",
    "_p = lambda a, b: 1 / (1 + 10 ** ((b - a) / 400))\n",
    "assert(\"df_win_prob\" in vars()), \"Make sure to create the DataFrame `df_win_prob`.\"\n",
    "assert(\"Elo\" in df_win_prob and \"p_win\" in df_win_prob), \"Make sure to have the columns `Elo` and `p_win` in your DataFrame.\"\n",
    "\n",
    "assert(400 in df_win_prob.values ), \"Your DataFrame does not have the Elo 400.\"\n",
    "assert(2900 in df_win_prob.values ), \"Your DataFrame does not have the Elo 2900.\"\n",
    "assert(len(df_win_prob) == 2501), \"Your DataFrame does not have the correct number of rows.\"\n",
    "\n",
    "assert(set(df_win_prob.Elo) == set(range(400, 2900 + 1))), \"Your DataFrame does not have the correct Elo values.\"\n",
    "for i, row in df_win_prob.iterrows():\n",
    "    assert(math.isclose(row.p_win, _p(your_elo, row.Elo))), f\"Your DataFrame does not have the correct p_win value for Elo={row.Elo}.\"\n",
    "\n",
    "print(f\"{tada} All Tests Passed! {tada}\") "
   ]
  },
  {
   "cell_type": "markdown",
   "metadata": {},
   "source": [
    "<hr style=\"color: #DD3403;\">"
   ]
  },
  {
   "cell_type": "markdown",
   "metadata": {},
   "source": [
    "## Part 3: Probability vs. Reality"
   ]
  },
  {
   "cell_type": "markdown",
   "metadata": {},
   "source": [
    "Let's take everything we've done and put it together!\n",
    "\n",
    "- We have a function to calculate the probability of winning given two Elo ratings, and\n",
    "- We have a dataset of games where we know which side won the game.\n",
    "\n",
    "Let's find out if the Elo system really works in practice.\n",
    "\n",
    "### Part 3.1: Decisive Games\n",
    "\n",
    "Since our function doesn't allow for draws, filter the dataset to only include decisive (no draw) games. Store the result in a new DataFrame called `df_decisive`:"
   ]
  },
  {
   "cell_type": "code",
   "execution_count": 57,
   "metadata": {},
   "outputs": [
    {
     "data": {
      "text/html": [
       "<div>\n",
       "<style scoped>\n",
       "    .dataframe tbody tr th:only-of-type {\n",
       "        vertical-align: middle;\n",
       "    }\n",
       "\n",
       "    .dataframe tbody tr th {\n",
       "        vertical-align: top;\n",
       "    }\n",
       "\n",
       "    .dataframe thead th {\n",
       "        text-align: right;\n",
       "    }\n",
       "</style>\n",
       "<table border=\"1\" class=\"dataframe\">\n",
       "  <thead>\n",
       "    <tr style=\"text-align: right;\">\n",
       "      <th></th>\n",
       "      <th>WhiteElo</th>\n",
       "      <th>BlackElo</th>\n",
       "      <th>Result</th>\n",
       "      <th>Termination</th>\n",
       "      <th>Opening</th>\n",
       "      <th>ECO</th>\n",
       "      <th>TimeControl</th>\n",
       "    </tr>\n",
       "  </thead>\n",
       "  <tbody>\n",
       "    <tr>\n",
       "      <th>0</th>\n",
       "      <td>1639</td>\n",
       "      <td>1403</td>\n",
       "      <td>1-0</td>\n",
       "      <td>Normal</td>\n",
       "      <td>French Defense: Normal Variation</td>\n",
       "      <td>C00</td>\n",
       "      <td>600+8</td>\n",
       "    </tr>\n",
       "    <tr>\n",
       "      <th>1</th>\n",
       "      <td>1654</td>\n",
       "      <td>1919</td>\n",
       "      <td>1-0</td>\n",
       "      <td>Normal</td>\n",
       "      <td>Queen's Pawn Game: Colle System, Anti-Colle</td>\n",
       "      <td>D04</td>\n",
       "      <td>480+2</td>\n",
       "    </tr>\n",
       "    <tr>\n",
       "      <th>2</th>\n",
       "      <td>1643</td>\n",
       "      <td>1747</td>\n",
       "      <td>1-0</td>\n",
       "      <td>Normal</td>\n",
       "      <td>Four Knights Game: Italian Variation</td>\n",
       "      <td>C50</td>\n",
       "      <td>420+17</td>\n",
       "    </tr>\n",
       "    <tr>\n",
       "      <th>3</th>\n",
       "      <td>1824</td>\n",
       "      <td>1973</td>\n",
       "      <td>0-1</td>\n",
       "      <td>Normal</td>\n",
       "      <td>Caro-Kann Defense: Goldman Variation</td>\n",
       "      <td>B12</td>\n",
       "      <td>60+1</td>\n",
       "    </tr>\n",
       "    <tr>\n",
       "      <th>4</th>\n",
       "      <td>1765</td>\n",
       "      <td>1815</td>\n",
       "      <td>0-1</td>\n",
       "      <td>Normal</td>\n",
       "      <td>French Defense: La Bourdonnais Variation</td>\n",
       "      <td>C00</td>\n",
       "      <td>60+1</td>\n",
       "    </tr>\n",
       "    <tr>\n",
       "      <th>...</th>\n",
       "      <td>...</td>\n",
       "      <td>...</td>\n",
       "      <td>...</td>\n",
       "      <td>...</td>\n",
       "      <td>...</td>\n",
       "      <td>...</td>\n",
       "      <td>...</td>\n",
       "    </tr>\n",
       "    <tr>\n",
       "      <th>121109</th>\n",
       "      <td>1854</td>\n",
       "      <td>1937</td>\n",
       "      <td>0-1</td>\n",
       "      <td>Normal</td>\n",
       "      <td>King's Indian Defense: Saemisch Variation</td>\n",
       "      <td>E80</td>\n",
       "      <td>600+10</td>\n",
       "    </tr>\n",
       "    <tr>\n",
       "      <th>121110</th>\n",
       "      <td>1500</td>\n",
       "      <td>1266</td>\n",
       "      <td>0-1</td>\n",
       "      <td>Time forfeit</td>\n",
       "      <td>Scandinavian Defense</td>\n",
       "      <td>B01</td>\n",
       "      <td>720+0</td>\n",
       "    </tr>\n",
       "    <tr>\n",
       "      <th>121111</th>\n",
       "      <td>1431</td>\n",
       "      <td>1523</td>\n",
       "      <td>0-1</td>\n",
       "      <td>Normal</td>\n",
       "      <td>Scandinavian Defense: Mieses-Kotroc Variation</td>\n",
       "      <td>B01</td>\n",
       "      <td>960+6</td>\n",
       "    </tr>\n",
       "    <tr>\n",
       "      <th>121112</th>\n",
       "      <td>1693</td>\n",
       "      <td>1479</td>\n",
       "      <td>1-0</td>\n",
       "      <td>Normal</td>\n",
       "      <td>Barnes Defense</td>\n",
       "      <td>B00</td>\n",
       "      <td>180+1</td>\n",
       "    </tr>\n",
       "    <tr>\n",
       "      <th>121113</th>\n",
       "      <td>1744</td>\n",
       "      <td>1762</td>\n",
       "      <td>0-1</td>\n",
       "      <td>Time forfeit</td>\n",
       "      <td>Caro-Kann Defense: Forgacs Variation</td>\n",
       "      <td>B15</td>\n",
       "      <td>300+0</td>\n",
       "    </tr>\n",
       "  </tbody>\n",
       "</table>\n",
       "<p>117148 rows × 7 columns</p>\n",
       "</div>"
      ],
      "text/plain": [
       "        WhiteElo  BlackElo Result   Termination  \\\n",
       "0           1639      1403    1-0        Normal   \n",
       "1           1654      1919    1-0        Normal   \n",
       "2           1643      1747    1-0        Normal   \n",
       "3           1824      1973    0-1        Normal   \n",
       "4           1765      1815    0-1        Normal   \n",
       "...          ...       ...    ...           ...   \n",
       "121109      1854      1937    0-1        Normal   \n",
       "121110      1500      1266    0-1  Time forfeit   \n",
       "121111      1431      1523    0-1        Normal   \n",
       "121112      1693      1479    1-0        Normal   \n",
       "121113      1744      1762    0-1  Time forfeit   \n",
       "\n",
       "                                              Opening  ECO TimeControl  \n",
       "0                    French Defense: Normal Variation  C00       600+8  \n",
       "1         Queen's Pawn Game: Colle System, Anti-Colle  D04       480+2  \n",
       "2                Four Knights Game: Italian Variation  C50      420+17  \n",
       "3                Caro-Kann Defense: Goldman Variation  B12        60+1  \n",
       "4            French Defense: La Bourdonnais Variation  C00        60+1  \n",
       "...                                               ...  ...         ...  \n",
       "121109      King's Indian Defense: Saemisch Variation  E80      600+10  \n",
       "121110                           Scandinavian Defense  B01       720+0  \n",
       "121111  Scandinavian Defense: Mieses-Kotroc Variation  B01       960+6  \n",
       "121112                                 Barnes Defense  B00       180+1  \n",
       "121113           Caro-Kann Defense: Forgacs Variation  B15       300+0  \n",
       "\n",
       "[117148 rows x 7 columns]"
      ]
     },
     "execution_count": 57,
     "metadata": {},
     "output_type": "execute_result"
    }
   ],
   "source": [
    "df_decisive = df[df['Result'] != '1/2-1/2']\n",
    "df_decisive"
   ]
  },
  {
   "cell_type": "code",
   "execution_count": 58,
   "metadata": {},
   "outputs": [
    {
     "name": "stdout",
     "output_type": "stream",
     "text": [
      "🎉 All Tests Passed! 🎉\n"
     ]
    }
   ],
   "source": [
    "### TEST CASE for Part 3.1: Decisive Games\n",
    "assert(\"df_decisive\" in vars()), \"Make sure to create the DataFrame `df_decisive`.\"\n",
    "assert(set(df_decisive.Result.unique()) == {\"1-0\", \"0-1\"}), \"Make sure to filter the DataFrame to only include decisive games.\"\n",
    "print(f\"{tada} All Tests Passed! {tada}\") "
   ]
  },
  {
   "cell_type": "markdown",
   "metadata": {},
   "source": [
    "### Part 3.2: Probability of White Winning\n",
    "\n",
    "The code below creates a copy of your `df_decisive` DataFrame and adds a new column `p_win_white` that is the probability that white is expected to win the game given the Elo differences.  This code uses the `p_A_wins` you defined earlier and the `apply` function of the DataFrame.\n",
    "\n",
    "Run the code to add the column:"
   ]
  },
  {
   "cell_type": "code",
   "execution_count": 59,
   "metadata": {},
   "outputs": [
    {
     "data": {
      "text/html": [
       "<div>\n",
       "<style scoped>\n",
       "    .dataframe tbody tr th:only-of-type {\n",
       "        vertical-align: middle;\n",
       "    }\n",
       "\n",
       "    .dataframe tbody tr th {\n",
       "        vertical-align: top;\n",
       "    }\n",
       "\n",
       "    .dataframe thead th {\n",
       "        text-align: right;\n",
       "    }\n",
       "</style>\n",
       "<table border=\"1\" class=\"dataframe\">\n",
       "  <thead>\n",
       "    <tr style=\"text-align: right;\">\n",
       "      <th></th>\n",
       "      <th>WhiteElo</th>\n",
       "      <th>BlackElo</th>\n",
       "      <th>Result</th>\n",
       "      <th>Termination</th>\n",
       "      <th>Opening</th>\n",
       "      <th>ECO</th>\n",
       "      <th>TimeControl</th>\n",
       "      <th>p_win_white</th>\n",
       "    </tr>\n",
       "  </thead>\n",
       "  <tbody>\n",
       "    <tr>\n",
       "      <th>0</th>\n",
       "      <td>1639</td>\n",
       "      <td>1403</td>\n",
       "      <td>1-0</td>\n",
       "      <td>Normal</td>\n",
       "      <td>French Defense: Normal Variation</td>\n",
       "      <td>C00</td>\n",
       "      <td>600+8</td>\n",
       "      <td>0.795520</td>\n",
       "    </tr>\n",
       "    <tr>\n",
       "      <th>1</th>\n",
       "      <td>1654</td>\n",
       "      <td>1919</td>\n",
       "      <td>1-0</td>\n",
       "      <td>Normal</td>\n",
       "      <td>Queen's Pawn Game: Colle System, Anti-Colle</td>\n",
       "      <td>D04</td>\n",
       "      <td>480+2</td>\n",
       "      <td>0.178659</td>\n",
       "    </tr>\n",
       "    <tr>\n",
       "      <th>2</th>\n",
       "      <td>1643</td>\n",
       "      <td>1747</td>\n",
       "      <td>1-0</td>\n",
       "      <td>Normal</td>\n",
       "      <td>Four Knights Game: Italian Variation</td>\n",
       "      <td>C50</td>\n",
       "      <td>420+17</td>\n",
       "      <td>0.354648</td>\n",
       "    </tr>\n",
       "    <tr>\n",
       "      <th>3</th>\n",
       "      <td>1824</td>\n",
       "      <td>1973</td>\n",
       "      <td>0-1</td>\n",
       "      <td>Normal</td>\n",
       "      <td>Caro-Kann Defense: Goldman Variation</td>\n",
       "      <td>B12</td>\n",
       "      <td>60+1</td>\n",
       "      <td>0.297817</td>\n",
       "    </tr>\n",
       "    <tr>\n",
       "      <th>4</th>\n",
       "      <td>1765</td>\n",
       "      <td>1815</td>\n",
       "      <td>0-1</td>\n",
       "      <td>Normal</td>\n",
       "      <td>French Defense: La Bourdonnais Variation</td>\n",
       "      <td>C00</td>\n",
       "      <td>60+1</td>\n",
       "      <td>0.428537</td>\n",
       "    </tr>\n",
       "    <tr>\n",
       "      <th>...</th>\n",
       "      <td>...</td>\n",
       "      <td>...</td>\n",
       "      <td>...</td>\n",
       "      <td>...</td>\n",
       "      <td>...</td>\n",
       "      <td>...</td>\n",
       "      <td>...</td>\n",
       "      <td>...</td>\n",
       "    </tr>\n",
       "    <tr>\n",
       "      <th>121109</th>\n",
       "      <td>1854</td>\n",
       "      <td>1937</td>\n",
       "      <td>0-1</td>\n",
       "      <td>Normal</td>\n",
       "      <td>King's Indian Defense: Saemisch Variation</td>\n",
       "      <td>E80</td>\n",
       "      <td>600+10</td>\n",
       "      <td>0.382775</td>\n",
       "    </tr>\n",
       "    <tr>\n",
       "      <th>121110</th>\n",
       "      <td>1500</td>\n",
       "      <td>1266</td>\n",
       "      <td>0-1</td>\n",
       "      <td>Time forfeit</td>\n",
       "      <td>Scandinavian Defense</td>\n",
       "      <td>B01</td>\n",
       "      <td>720+0</td>\n",
       "      <td>0.793641</td>\n",
       "    </tr>\n",
       "    <tr>\n",
       "      <th>121111</th>\n",
       "      <td>1431</td>\n",
       "      <td>1523</td>\n",
       "      <td>0-1</td>\n",
       "      <td>Normal</td>\n",
       "      <td>Scandinavian Defense: Mieses-Kotroc Variation</td>\n",
       "      <td>B01</td>\n",
       "      <td>960+6</td>\n",
       "      <td>0.370611</td>\n",
       "    </tr>\n",
       "    <tr>\n",
       "      <th>121112</th>\n",
       "      <td>1693</td>\n",
       "      <td>1479</td>\n",
       "      <td>1-0</td>\n",
       "      <td>Normal</td>\n",
       "      <td>Barnes Defense</td>\n",
       "      <td>B00</td>\n",
       "      <td>180+1</td>\n",
       "      <td>0.774148</td>\n",
       "    </tr>\n",
       "    <tr>\n",
       "      <th>121113</th>\n",
       "      <td>1744</td>\n",
       "      <td>1762</td>\n",
       "      <td>0-1</td>\n",
       "      <td>Time forfeit</td>\n",
       "      <td>Caro-Kann Defense: Forgacs Variation</td>\n",
       "      <td>B15</td>\n",
       "      <td>300+0</td>\n",
       "      <td>0.474119</td>\n",
       "    </tr>\n",
       "  </tbody>\n",
       "</table>\n",
       "<p>117148 rows × 8 columns</p>\n",
       "</div>"
      ],
      "text/plain": [
       "        WhiteElo  BlackElo Result   Termination  \\\n",
       "0           1639      1403    1-0        Normal   \n",
       "1           1654      1919    1-0        Normal   \n",
       "2           1643      1747    1-0        Normal   \n",
       "3           1824      1973    0-1        Normal   \n",
       "4           1765      1815    0-1        Normal   \n",
       "...          ...       ...    ...           ...   \n",
       "121109      1854      1937    0-1        Normal   \n",
       "121110      1500      1266    0-1  Time forfeit   \n",
       "121111      1431      1523    0-1        Normal   \n",
       "121112      1693      1479    1-0        Normal   \n",
       "121113      1744      1762    0-1  Time forfeit   \n",
       "\n",
       "                                              Opening  ECO TimeControl  \\\n",
       "0                    French Defense: Normal Variation  C00       600+8   \n",
       "1         Queen's Pawn Game: Colle System, Anti-Colle  D04       480+2   \n",
       "2                Four Knights Game: Italian Variation  C50      420+17   \n",
       "3                Caro-Kann Defense: Goldman Variation  B12        60+1   \n",
       "4            French Defense: La Bourdonnais Variation  C00        60+1   \n",
       "...                                               ...  ...         ...   \n",
       "121109      King's Indian Defense: Saemisch Variation  E80      600+10   \n",
       "121110                           Scandinavian Defense  B01       720+0   \n",
       "121111  Scandinavian Defense: Mieses-Kotroc Variation  B01       960+6   \n",
       "121112                                 Barnes Defense  B00       180+1   \n",
       "121113           Caro-Kann Defense: Forgacs Variation  B15       300+0   \n",
       "\n",
       "        p_win_white  \n",
       "0          0.795520  \n",
       "1          0.178659  \n",
       "2          0.354648  \n",
       "3          0.297817  \n",
       "4          0.428537  \n",
       "...             ...  \n",
       "121109     0.382775  \n",
       "121110     0.793641  \n",
       "121111     0.370611  \n",
       "121112     0.774148  \n",
       "121113     0.474119  \n",
       "\n",
       "[117148 rows x 8 columns]"
      ]
     },
     "execution_count": 59,
     "metadata": {},
     "output_type": "execute_result"
    }
   ],
   "source": [
    "df_decisive = df_decisive.copy(deep=True)\n",
    "df_decisive[\"p_win_white\"] = df_decisive.apply(lambda row: p_A_wins(row[\"WhiteElo\"], row[\"BlackElo\"]), axis=1)\n",
    "df_decisive"
   ]
  },
  {
   "cell_type": "markdown",
   "metadata": {},
   "source": [
    "### Part 3.3: Unlikely Upsets\n",
    "\n",
    "Let's explore games that are **unlikely upsets**.  We'll define an **unlikely upset** to be a game where:\n",
    "\n",
    "- Black wins (0-1) when there is at least a 90% probability that white was to win, **OR**\n",
    "- White wins (1-0) when there is at least a 90% probability that black was to win\n",
    "\n",
    "Find all the unlikely upsets in `df_decisive` and save it as a new DataFrame `df_upsets`:"
   ]
  },
  {
   "cell_type": "code",
   "execution_count": 81,
   "metadata": {},
   "outputs": [
    {
     "data": {
      "text/html": [
       "<div>\n",
       "<style scoped>\n",
       "    .dataframe tbody tr th:only-of-type {\n",
       "        vertical-align: middle;\n",
       "    }\n",
       "\n",
       "    .dataframe tbody tr th {\n",
       "        vertical-align: top;\n",
       "    }\n",
       "\n",
       "    .dataframe thead th {\n",
       "        text-align: right;\n",
       "    }\n",
       "</style>\n",
       "<table border=\"1\" class=\"dataframe\">\n",
       "  <thead>\n",
       "    <tr style=\"text-align: right;\">\n",
       "      <th></th>\n",
       "      <th>WhiteElo</th>\n",
       "      <th>BlackElo</th>\n",
       "      <th>Result</th>\n",
       "      <th>Termination</th>\n",
       "      <th>Opening</th>\n",
       "      <th>ECO</th>\n",
       "      <th>TimeControl</th>\n",
       "      <th>p_win_white</th>\n",
       "    </tr>\n",
       "  </thead>\n",
       "  <tbody>\n",
       "    <tr>\n",
       "      <th>310</th>\n",
       "      <td>1506</td>\n",
       "      <td>1914</td>\n",
       "      <td>1-0</td>\n",
       "      <td>Time forfeit</td>\n",
       "      <td>Hungarian Opening: Sicilian Invitation</td>\n",
       "      <td>A00</td>\n",
       "      <td>0+1</td>\n",
       "      <td>0.087174</td>\n",
       "    </tr>\n",
       "    <tr>\n",
       "      <th>348</th>\n",
       "      <td>1035</td>\n",
       "      <td>1608</td>\n",
       "      <td>1-0</td>\n",
       "      <td>Time forfeit</td>\n",
       "      <td>Van't Kruijs Opening</td>\n",
       "      <td>A00</td>\n",
       "      <td>480+16</td>\n",
       "      <td>0.035624</td>\n",
       "    </tr>\n",
       "    <tr>\n",
       "      <th>363</th>\n",
       "      <td>1502</td>\n",
       "      <td>1894</td>\n",
       "      <td>1-0</td>\n",
       "      <td>Normal</td>\n",
       "      <td>Hungarian Opening: Sicilian Invitation</td>\n",
       "      <td>A00</td>\n",
       "      <td>0+1</td>\n",
       "      <td>0.094787</td>\n",
       "    </tr>\n",
       "    <tr>\n",
       "      <th>427</th>\n",
       "      <td>1482</td>\n",
       "      <td>1899</td>\n",
       "      <td>1-0</td>\n",
       "      <td>Time forfeit</td>\n",
       "      <td>Queen's Pawn Game: Franco-Sicilian Defense</td>\n",
       "      <td>C00</td>\n",
       "      <td>0+1</td>\n",
       "      <td>0.083139</td>\n",
       "    </tr>\n",
       "    <tr>\n",
       "      <th>670</th>\n",
       "      <td>1068</td>\n",
       "      <td>1587</td>\n",
       "      <td>1-0</td>\n",
       "      <td>Normal</td>\n",
       "      <td>Center Game: Normal Variation</td>\n",
       "      <td>C22</td>\n",
       "      <td>300+4</td>\n",
       "      <td>0.047989</td>\n",
       "    </tr>\n",
       "    <tr>\n",
       "      <th>...</th>\n",
       "      <td>...</td>\n",
       "      <td>...</td>\n",
       "      <td>...</td>\n",
       "      <td>...</td>\n",
       "      <td>...</td>\n",
       "      <td>...</td>\n",
       "      <td>...</td>\n",
       "      <td>...</td>\n",
       "    </tr>\n",
       "    <tr>\n",
       "      <th>120687</th>\n",
       "      <td>1726</td>\n",
       "      <td>1204</td>\n",
       "      <td>0-1</td>\n",
       "      <td>Normal</td>\n",
       "      <td>King's Pawn Game: Wayward Queen Attack</td>\n",
       "      <td>C20</td>\n",
       "      <td>60+0</td>\n",
       "      <td>0.952794</td>\n",
       "    </tr>\n",
       "    <tr>\n",
       "      <th>120850</th>\n",
       "      <td>1682</td>\n",
       "      <td>1242</td>\n",
       "      <td>0-1</td>\n",
       "      <td>Normal</td>\n",
       "      <td>French Defense: Classical Variation, Steinitz ...</td>\n",
       "      <td>C11</td>\n",
       "      <td>120+0</td>\n",
       "      <td>0.926412</td>\n",
       "    </tr>\n",
       "    <tr>\n",
       "      <th>120903</th>\n",
       "      <td>1832</td>\n",
       "      <td>1336</td>\n",
       "      <td>0-1</td>\n",
       "      <td>Time forfeit</td>\n",
       "      <td>Owen Defense</td>\n",
       "      <td>B00</td>\n",
       "      <td>300+0</td>\n",
       "      <td>0.945587</td>\n",
       "    </tr>\n",
       "    <tr>\n",
       "      <th>121048</th>\n",
       "      <td>1400</td>\n",
       "      <td>1800</td>\n",
       "      <td>1-0</td>\n",
       "      <td>Normal</td>\n",
       "      <td>Bishop's Opening: Berlin Defense</td>\n",
       "      <td>C24</td>\n",
       "      <td>300+0</td>\n",
       "      <td>0.090909</td>\n",
       "    </tr>\n",
       "    <tr>\n",
       "      <th>121056</th>\n",
       "      <td>1288</td>\n",
       "      <td>1671</td>\n",
       "      <td>1-0</td>\n",
       "      <td>Normal</td>\n",
       "      <td>Scotch Game</td>\n",
       "      <td>C45</td>\n",
       "      <td>240+0</td>\n",
       "      <td>0.099327</td>\n",
       "    </tr>\n",
       "  </tbody>\n",
       "</table>\n",
       "<p>793 rows × 8 columns</p>\n",
       "</div>"
      ],
      "text/plain": [
       "        WhiteElo  BlackElo Result   Termination  \\\n",
       "310         1506      1914    1-0  Time forfeit   \n",
       "348         1035      1608    1-0  Time forfeit   \n",
       "363         1502      1894    1-0        Normal   \n",
       "427         1482      1899    1-0  Time forfeit   \n",
       "670         1068      1587    1-0        Normal   \n",
       "...          ...       ...    ...           ...   \n",
       "120687      1726      1204    0-1        Normal   \n",
       "120850      1682      1242    0-1        Normal   \n",
       "120903      1832      1336    0-1  Time forfeit   \n",
       "121048      1400      1800    1-0        Normal   \n",
       "121056      1288      1671    1-0        Normal   \n",
       "\n",
       "                                                  Opening  ECO TimeControl  \\\n",
       "310                Hungarian Opening: Sicilian Invitation  A00         0+1   \n",
       "348                                  Van't Kruijs Opening  A00      480+16   \n",
       "363                Hungarian Opening: Sicilian Invitation  A00         0+1   \n",
       "427            Queen's Pawn Game: Franco-Sicilian Defense  C00         0+1   \n",
       "670                         Center Game: Normal Variation  C22       300+4   \n",
       "...                                                   ...  ...         ...   \n",
       "120687             King's Pawn Game: Wayward Queen Attack  C20        60+0   \n",
       "120850  French Defense: Classical Variation, Steinitz ...  C11       120+0   \n",
       "120903                                       Owen Defense  B00       300+0   \n",
       "121048                   Bishop's Opening: Berlin Defense  C24       300+0   \n",
       "121056                                        Scotch Game  C45       240+0   \n",
       "\n",
       "        p_win_white  \n",
       "310        0.087174  \n",
       "348        0.035624  \n",
       "363        0.094787  \n",
       "427        0.083139  \n",
       "670        0.047989  \n",
       "...             ...  \n",
       "120687     0.952794  \n",
       "120850     0.926412  \n",
       "120903     0.945587  \n",
       "121048     0.090909  \n",
       "121056     0.099327  \n",
       "\n",
       "[793 rows x 8 columns]"
      ]
     },
     "execution_count": 81,
     "metadata": {},
     "output_type": "execute_result"
    }
   ],
   "source": [
    "df_upsets = df_decisive[\n",
    "    ((df_decisive['Result'] == '0-1') & (df_decisive['p_win_white'] >= 0.9)) |\n",
    "    ((df_decisive['Result'] == '1-0') & (df_decisive['p_win_white'] <= 0.1))\n",
    "]\n",
    "df_upsets"
   ]
  },
  {
   "cell_type": "markdown",
   "metadata": {},
   "source": [
    "### Part 3.4: Likely Wins\n",
    "\n",
    "To see how common unlikely upsets are, we need to also find out how often **likely wins** occurs.  We'll define an **likely win** to be a game where:\n",
    "\n",
    "- White wins when there is at least a 90% probability that white was to win, **OR**\n",
    "- Black wins when there is at least a 90% probability that black was to win\n",
    "\n",
    "Find all the likely wins in `df_decisive` and save it as a new DataFrame `df_likely`:"
   ]
  },
  {
   "cell_type": "code",
   "execution_count": 82,
   "metadata": {},
   "outputs": [
    {
     "data": {
      "text/html": [
       "<div>\n",
       "<style scoped>\n",
       "    .dataframe tbody tr th:only-of-type {\n",
       "        vertical-align: middle;\n",
       "    }\n",
       "\n",
       "    .dataframe tbody tr th {\n",
       "        vertical-align: top;\n",
       "    }\n",
       "\n",
       "    .dataframe thead th {\n",
       "        text-align: right;\n",
       "    }\n",
       "</style>\n",
       "<table border=\"1\" class=\"dataframe\">\n",
       "  <thead>\n",
       "    <tr style=\"text-align: right;\">\n",
       "      <th></th>\n",
       "      <th>WhiteElo</th>\n",
       "      <th>BlackElo</th>\n",
       "      <th>Result</th>\n",
       "      <th>Termination</th>\n",
       "      <th>Opening</th>\n",
       "      <th>ECO</th>\n",
       "      <th>TimeControl</th>\n",
       "      <th>p_win_white</th>\n",
       "    </tr>\n",
       "  </thead>\n",
       "  <tbody>\n",
       "    <tr>\n",
       "      <th>62</th>\n",
       "      <td>1649</td>\n",
       "      <td>1242</td>\n",
       "      <td>1-0</td>\n",
       "      <td>Normal</td>\n",
       "      <td>Nimzo-Larsen Attack: Classical Variation</td>\n",
       "      <td>A01</td>\n",
       "      <td>60+0</td>\n",
       "      <td>0.912367</td>\n",
       "    </tr>\n",
       "    <tr>\n",
       "      <th>70</th>\n",
       "      <td>1220</td>\n",
       "      <td>1652</td>\n",
       "      <td>0-1</td>\n",
       "      <td>Time forfeit</td>\n",
       "      <td>English Defense #2</td>\n",
       "      <td>A40</td>\n",
       "      <td>60+0</td>\n",
       "      <td>0.076789</td>\n",
       "    </tr>\n",
       "    <tr>\n",
       "      <th>74</th>\n",
       "      <td>1499</td>\n",
       "      <td>1895</td>\n",
       "      <td>0-1</td>\n",
       "      <td>Normal</td>\n",
       "      <td>Italian Game: Anti-Fried Liver Defense</td>\n",
       "      <td>C55</td>\n",
       "      <td>660+0</td>\n",
       "      <td>0.092830</td>\n",
       "    </tr>\n",
       "    <tr>\n",
       "      <th>81</th>\n",
       "      <td>1203</td>\n",
       "      <td>1654</td>\n",
       "      <td>0-1</td>\n",
       "      <td>Normal</td>\n",
       "      <td>English Defense #2</td>\n",
       "      <td>A40</td>\n",
       "      <td>60+0</td>\n",
       "      <td>0.069386</td>\n",
       "    </tr>\n",
       "    <tr>\n",
       "      <th>93</th>\n",
       "      <td>1244</td>\n",
       "      <td>1857</td>\n",
       "      <td>0-1</td>\n",
       "      <td>Time forfeit</td>\n",
       "      <td>English Opening: Anglo-Indian Defense</td>\n",
       "      <td>A15</td>\n",
       "      <td>120+0</td>\n",
       "      <td>0.028506</td>\n",
       "    </tr>\n",
       "    <tr>\n",
       "      <th>...</th>\n",
       "      <td>...</td>\n",
       "      <td>...</td>\n",
       "      <td>...</td>\n",
       "      <td>...</td>\n",
       "      <td>...</td>\n",
       "      <td>...</td>\n",
       "      <td>...</td>\n",
       "      <td>...</td>\n",
       "    </tr>\n",
       "    <tr>\n",
       "      <th>121004</th>\n",
       "      <td>1500</td>\n",
       "      <td>1016</td>\n",
       "      <td>1-0</td>\n",
       "      <td>Time forfeit</td>\n",
       "      <td>King's Pawn Game: Wayward Queen Attack, Kiddie...</td>\n",
       "      <td>C20</td>\n",
       "      <td>60+0</td>\n",
       "      <td>0.941922</td>\n",
       "    </tr>\n",
       "    <tr>\n",
       "      <th>121030</th>\n",
       "      <td>1057</td>\n",
       "      <td>1486</td>\n",
       "      <td>0-1</td>\n",
       "      <td>Normal</td>\n",
       "      <td>Scotch Game: Scotch Gambit, Sarratt Variation</td>\n",
       "      <td>C44</td>\n",
       "      <td>60+2</td>\n",
       "      <td>0.078023</td>\n",
       "    </tr>\n",
       "    <tr>\n",
       "      <th>121041</th>\n",
       "      <td>1981</td>\n",
       "      <td>1234</td>\n",
       "      <td>1-0</td>\n",
       "      <td>Time forfeit</td>\n",
       "      <td>Queen's Gambit Accepted: Old Variation</td>\n",
       "      <td>D20</td>\n",
       "      <td>180+1</td>\n",
       "      <td>0.986614</td>\n",
       "    </tr>\n",
       "    <tr>\n",
       "      <th>121089</th>\n",
       "      <td>1578</td>\n",
       "      <td>2110</td>\n",
       "      <td>0-1</td>\n",
       "      <td>Normal</td>\n",
       "      <td>Owen Defense</td>\n",
       "      <td>B00</td>\n",
       "      <td>120+0</td>\n",
       "      <td>0.044684</td>\n",
       "    </tr>\n",
       "    <tr>\n",
       "      <th>121104</th>\n",
       "      <td>2073</td>\n",
       "      <td>1652</td>\n",
       "      <td>1-0</td>\n",
       "      <td>Normal</td>\n",
       "      <td>French Defense: Knight Variation</td>\n",
       "      <td>C00</td>\n",
       "      <td>0+1</td>\n",
       "      <td>0.918600</td>\n",
       "    </tr>\n",
       "  </tbody>\n",
       "</table>\n",
       "<p>7098 rows × 8 columns</p>\n",
       "</div>"
      ],
      "text/plain": [
       "        WhiteElo  BlackElo Result   Termination  \\\n",
       "62          1649      1242    1-0        Normal   \n",
       "70          1220      1652    0-1  Time forfeit   \n",
       "74          1499      1895    0-1        Normal   \n",
       "81          1203      1654    0-1        Normal   \n",
       "93          1244      1857    0-1  Time forfeit   \n",
       "...          ...       ...    ...           ...   \n",
       "121004      1500      1016    1-0  Time forfeit   \n",
       "121030      1057      1486    0-1        Normal   \n",
       "121041      1981      1234    1-0  Time forfeit   \n",
       "121089      1578      2110    0-1        Normal   \n",
       "121104      2073      1652    1-0        Normal   \n",
       "\n",
       "                                                  Opening  ECO TimeControl  \\\n",
       "62               Nimzo-Larsen Attack: Classical Variation  A01        60+0   \n",
       "70                                     English Defense #2  A40        60+0   \n",
       "74                 Italian Game: Anti-Fried Liver Defense  C55       660+0   \n",
       "81                                     English Defense #2  A40        60+0   \n",
       "93                  English Opening: Anglo-Indian Defense  A15       120+0   \n",
       "...                                                   ...  ...         ...   \n",
       "121004  King's Pawn Game: Wayward Queen Attack, Kiddie...  C20        60+0   \n",
       "121030      Scotch Game: Scotch Gambit, Sarratt Variation  C44        60+2   \n",
       "121041             Queen's Gambit Accepted: Old Variation  D20       180+1   \n",
       "121089                                       Owen Defense  B00       120+0   \n",
       "121104                   French Defense: Knight Variation  C00         0+1   \n",
       "\n",
       "        p_win_white  \n",
       "62         0.912367  \n",
       "70         0.076789  \n",
       "74         0.092830  \n",
       "81         0.069386  \n",
       "93         0.028506  \n",
       "...             ...  \n",
       "121004     0.941922  \n",
       "121030     0.078023  \n",
       "121041     0.986614  \n",
       "121089     0.044684  \n",
       "121104     0.918600  \n",
       "\n",
       "[7098 rows x 8 columns]"
      ]
     },
     "execution_count": 82,
     "metadata": {},
     "output_type": "execute_result"
    }
   ],
   "source": [
    "df_likely = df_decisive[\n",
    "    ((df_decisive['Result'] == '1-0') & (df_decisive['p_win_white'] >= 0.9)) |\n",
    "    ((df_decisive['Result'] == '0-1') & (df_decisive['p_win_white'] <= 0.1))\n",
    "]\n",
    "df_likely"
   ]
  },
  {
   "cell_type": "markdown",
   "metadata": {},
   "source": [
    "### Puzzle 3.5: Percentage of Likely Wins\n",
    "\n",
    "If our Elo formula is an accurate representation of a player's skill, among games where there's a 90% or greater chance for one side to win, that side should **actually win 90% of the time**.\n",
    "\n",
    "Calculate the probability that there was an likely win given that there was a 90% or greater chance for one side to win (using df_likely and df_upset that you defined above), and store it as the variable `p_likely_win`."
   ]
  },
  {
   "cell_type": "code",
   "execution_count": 83,
   "metadata": {},
   "outputs": [
    {
     "data": {
      "text/plain": [
       "0.899505766062603"
      ]
     },
     "execution_count": 83,
     "metadata": {},
     "output_type": "execute_result"
    }
   ],
   "source": [
    "P_likely_win = len(df_likely) / (len(df_likely) + len(df_upsets))\n",
    "P_likely_win"
   ]
  },
  {
   "cell_type": "code",
   "execution_count": 84,
   "metadata": {},
   "outputs": [
    {
     "name": "stdout",
     "output_type": "stream",
     "text": [
      "🎉 All Tests Passed! 🎉\n",
      "\n",
      "You calculated: P(likely win) = 89.95% among all games in a month of chess!\n",
      "...this is almost exactly 90%, which highlights the Elo system seems to be working!\n"
     ]
    }
   ],
   "source": [
    "### TEST CASE for Part 3: Probability vs. Reality\n",
    "assert(\"df_likely\" in vars()), \"Make sure to create the DataFrame `df_decisive`.\"\n",
    "assert(len(df_likely) == 7098), \"Your `df_likely` is incorrect.\"\n",
    "assert(len(df_upsets) == 793), \"Your `df_upsets` is incorrect.\"\n",
    "assert(math.isclose(P_likely_win, 0.899505766062603)), \"Your `P_likely_win` is incorrect.\"\n",
    "\n",
    "print(f\"{tada} All Tests Passed! {tada}\") \n",
    "print()\n",
    "print(f\"You calculated: P(likely win) = {round(P_likely_win * 100, 2)}% among all games in a month of chess!\")\n",
    "print(\"...this is almost exactly 90%, which highlights the Elo system seems to be working!\")"
   ]
  },
  {
   "cell_type": "markdown",
   "metadata": {},
   "source": [
    "<hr style=\"color: #DD3403;\">"
   ]
  },
  {
   "cell_type": "markdown",
   "metadata": {},
   "source": [
    "## JKLMNOP: Just Keep Letting Me Nerd Out Please\n",
    "\n",
    "This MicroProject contains just 0.1% of the games played **in just a single month** in the [lichess.org open database](https://database.lichess.org/), and the dataset available is absolutely huge!  If you enjoy the game of Chess, or looking for a technical puzzle, check out the database and nerd out with any of the billions of chess games available! :)"
   ]
  },
  {
   "cell_type": "markdown",
   "metadata": {},
   "source": [
    "<hr style=\"color: #DD3403;\">"
   ]
  },
  {
   "cell_type": "markdown",
   "metadata": {},
   "source": [
    "## Submission\n",
    "\n",
    "You're almost done!  All you need to do is to commit your lab to GitHub and run the GitHub Actions Grader:\n",
    "\n",
    "1.  ⚠️ **Make certain to save your work.** ⚠️ To do this, go to **File => Save All**\n",
    "\n",
    "2.  After you have saved, exit this notebook and return to https://discovery.cs.illinois.edu/microproject/chess/ and complete the section **\"Commit and Grade Your Notebook\"**.\n",
    "\n",
    "3. If you see a 100% grade result on your GitHub Action, you've completed this MicroProject! 🎉\n"
   ]
  }
 ],
 "metadata": {
  "kernelspec": {
   "display_name": "Python 3",
   "language": "python",
   "name": "python3"
  },
  "language_info": {
   "codemirror_mode": {
    "name": "ipython",
    "version": 3
   },
   "file_extension": ".py",
   "mimetype": "text/x-python",
   "name": "python",
   "nbconvert_exporter": "python",
   "pygments_lexer": "ipython3",
   "version": "3.13.2"
  },
  "vscode": {
   "interpreter": {
    "hash": "369f2c481f4da34e4445cda3fffd2e751bd1c4d706f27375911949ba6bb62e1c"
   }
  }
 },
 "nbformat": 4,
 "nbformat_minor": 2
}
