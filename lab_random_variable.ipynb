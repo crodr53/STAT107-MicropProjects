{
 "cells": [
  {
   "attachments": {},
   "cell_type": "markdown",
   "metadata": {},
   "source": [
    "# Lab: Random Variable 💯\n",
    "\n",
    "In statistics and data science, random variables are used to model events that have uncertain outcomes.  For example, in DISCOVERY, we explore the **binomial distribution** to model flipping a coin, drawing from a deck of cards, guessing on a multiple choice exam, and many other events with a single, fixed probability of success.  However, what if there are multiple different outcomes?  This lab will explore creating custom discrete distributions in Python to model complex events!\n",
    "\n",
    "In this lab, you will explore a dataset of the real final scores of students in DISCOVERY!  Before we get to that, let's nerd out with the basics of a distribution! :)\n",
    "\n",
    "\n",
    "A few tips to remember:\n",
    "\n",
    "- **You are not alone on your journey in learning programming!**  You have your lab TA, your CAs, your lab group, and the professors (Prof. Wade and Prof. Karle), who are all here to help you out!\n",
    "- If you find yourself stuck for more than a few minutes, ask a neighbor or course staff for help!  When you are giving help to your neighbor, explain the **idea and approach** to the problem without sharing the answer itself so they can have the same **<i>ah-hah</i>** moment!\n",
    "- We are here to help you!  Don't feel embarrassed or shy to ask us for help!\n",
    "\n",
    "Let's get started!"
   ]
  },
  {
   "cell_type": "code",
   "execution_count": 32,
   "metadata": {},
   "outputs": [],
   "source": [
    "# Meet your CAs and TA if you haven't already!\n",
    "# First name is enough, we'll know who they are! :)\n",
    "ta_name = \"Tyler\"\n",
    "ca1_name = \"Talia\"\n",
    "ca2_name = \"Renee\"\n",
    "ca3_name = \"\"\n",
    "\n",
    "# Say hello to each other!\n",
    "# - Groups of 3 are ideal :)\n",
    "# - However, groups of 2 or 4 are fine too!\n",
    "#\n",
    "# QOTD to Ask Your Group: \"What's your favorite RSO on campus?\"\n",
    "partner1_name = \"Advait\"\n",
    "partner1_netid = \"advaitg2\"\n",
    "partner1_rso = \"Project Code\"\n",
    "\n",
    "partner2_name = \"Ravi\"\n",
    "partner2_netid = \"ravip2\"\n",
    "partner2_rso = \"Badminton rso\"\n",
    "\n",
    "partner3_name = \"\"\n",
    "partner3_netid = \"\"\n",
    "partner3_rso = \"\"\n",
    "\n",
    "# Which lab section are you in? Record it below! It should start with a Y and have \n",
    "# 2 numbers after the Y. If you're unsure - ask your TA/CAs!\n",
    "lab_section = \"Y10\""
   ]
  },
  {
   "cell_type": "markdown",
   "metadata": {},
   "source": [
    "### Remember to install `scipy`.\n",
    "- On Windows: `py -m pip install scipy`\n",
    "- On Mac: `python3 -m pip install scipy`\n",
    "\n",
    "If you get an error, other commands that may work when you have an unusual configuration:\n",
    "- `python -m pip install scipy`\n",
    "- `pip3 install scipy`\n",
    "- `pip install scipy`\n"
   ]
  },
  {
   "attachments": {},
   "cell_type": "markdown",
   "metadata": {},
   "source": [
    "## Random Variable #1: Modeling Flipping a Coin Twice\n",
    "\n",
    "In DISCOVERY, we introduce flipping a coin twice as an example of a random variable. Create a variable called `COIN` that models the distribution of the number of heads we see when we flip a coin two times:\n",
    "\n",
    "(Not sure?  Check out the DISCOVERY page on \"Python Functions for Random Distributions\" here:\n",
    "https://discovery.cs.illinois.edu/learn/Polling-Confidence-Intervals-and-Hypothesis-Testing/Python-Functions-for-Random-Distributions/)\n",
    "\n",
    "### Puzzle 1.1: `COIN` Random Variable"
   ]
  },
  {
   "cell_type": "code",
   "execution_count": 13,
   "metadata": {},
   "outputs": [],
   "source": [
    "from scipy.stats import binom\n",
    "import pandas as pd\n",
    "import numpy as np\n",
    "\n",
    "COIN = binom(n=2, p=0.5)"
   ]
  },
  {
   "attachments": {},
   "cell_type": "markdown",
   "metadata": {},
   "source": [
    "There are three different outcomes of flipping two coins and counting the number of heads:\n",
    "\n",
    "| `COIN` ~ Number of Heads | P(`COIN` = #) |\n",
    "| --------------: | ----------: |\n",
    "| 0 heads | 25% |\n",
    "| 1 head | 50% |\n",
    "| 2 heads | 25% |\n",
    "\n",
    "Each of these outcomes has a probability (shown in the table above). We can find the **expected value** and **standard error** of this random variable using functions in Python.\n"
   ]
  },
  {
   "attachments": {},
   "cell_type": "markdown",
   "metadata": {},
   "source": [
    "### Puzzle 1.2: Finding the EV of the `COIN` Distribution in Python\n",
    "\n",
    "Find the expected value (EV) of flipping a fair coin twice and counting how many heads you get. Store this in a variable called `EV_COIN`."
   ]
  },
  {
   "cell_type": "code",
   "execution_count": 14,
   "metadata": {},
   "outputs": [
    {
     "data": {
      "text/plain": [
       "1.0"
      ]
     },
     "execution_count": 14,
     "metadata": {},
     "output_type": "execute_result"
    }
   ],
   "source": [
    "EV_COIN = COIN.cdf(2).item()\n",
    "EV_COIN"
   ]
  },
  {
   "cell_type": "markdown",
   "metadata": {},
   "source": [
    "### 📝 Technical Note 📝\n",
    "\n",
    "By default, on some configurations, `COIN.mean()` will often give you a non-native value and display something similar to:\n",
    "\n",
    "> ```\n",
    "> np.float64(1.0)\n",
    "> ```\n",
    "\n",
    "You will see this occur when working with scientific libraries that build from a library called `numpy` or `np`.\n",
    "- It's okay to leave the value as a numpy data type, the value does not change.\n",
    "- However, if you find this messy, you can use `.item()` to extract the Python native value out of a numpy data type.\n",
    "\n",
    "For example, if you see np.float64(1.0), the following shows the result of using `.item()`:\n",
    "\n",
    "> > ```py\n",
    "> > COIN.mean()\n",
    "> > ```\n",
    ">\n",
    "> Output: np.float64(1.0)\n",
    ">\n",
    ">\n",
    "> > ```py\n",
    "> > COIN.mean().item()\n",
    "> > ```\n",
    ">\n",
    "> Output: 1.0\n",
    "\n",
    "All of the test cases in this lab will support either both numpy data types and Python primitive data types, so do whatever one you think looks the best! :)"
   ]
  },
  {
   "attachments": {},
   "cell_type": "markdown",
   "metadata": {},
   "source": [
    "### 🔬 Checkpoint Tests 🔬"
   ]
  },
  {
   "cell_type": "code",
   "execution_count": 15,
   "metadata": {},
   "outputs": [
    {
     "name": "stdout",
     "output_type": "stream",
     "text": [
      "🎉 All Tests Passed! 🎉\n"
     ]
    }
   ],
   "source": [
    "### TEST CASE for Random Variable #1: Modeling Flipping a Coin Twice\n",
    "tada = \"\\N{PARTY POPPER}\"\n",
    "import math\n",
    "assert(\"COIN\" in vars()), \"Make sure your random variable is named `COIN`.\"\n",
    "assert(COIN.mean() == 1), \"Check your parameters for your COIN distribution.\"\n",
    "assert(EV_COIN == 1), \"Your expected value is incorrect.\"\n",
    "assert(math.isclose(COIN.std(), 2**(1/2)/2)), \"Check your parameters for your COIN distribution.\"\n",
    "print(f\"{tada} All Tests Passed! {tada}\")"
   ]
  },
  {
   "attachments": {},
   "cell_type": "markdown",
   "metadata": {},
   "source": [
    "<hr style=\"color: #DD3403;\">"
   ]
  },
  {
   "attachments": {},
   "cell_type": "markdown",
   "metadata": {},
   "source": [
    "## Random Variable #2: The Value of a Dice Roll"
   ]
  },
  {
   "attachments": {},
   "cell_type": "markdown",
   "metadata": {},
   "source": [
    "A common distribution in statistics is to model the outcome of rolling a die.  Binominal distributions can only model cases of a zero (not successful) or a one (successful)  However, a single die has six equally likely outcomes: 1, 2, 3, 4, 5, or 6.\n",
    "\n",
    "To model this more complex event, we will use a **custom discrete distribution**."
   ]
  },
  {
   "attachments": {},
   "cell_type": "markdown",
   "metadata": {},
   "source": [
    "### Requirements of a Custom Discrete Distributions\n",
    "\n",
    "Similar to the binomial distribution, any custom discrete distribution we create must have three properties:\n",
    "\n",
    "1. The event we are modeling must have a **fixed outcome that is independent** (it does not matter what happened in the past),\n",
    "\n",
    "2. The event we are modeling must have a **probability that does not change** (no external factor changes the probability), **AND**\n",
    "\n",
    "3. The event we are modeling must have a **finite number of outcomes** (as opposed to the normal distribution that can have any possible Z-score, like 0.000332, 0.094322, or any number you can imagine; the normal distribution is NOT finite. For example: we cannot create a distribution of rolling a die that has an infinite number of sides.)"
   ]
  },
  {
   "attachments": {},
   "cell_type": "markdown",
   "metadata": {},
   "source": [
    "### Dice Distribution\n",
    "\n",
    "The following table describes the distribution of a six-sided die:\n",
    "\n",
    "| Outcome | Probability |\n",
    "| ------: | ----------: |\n",
    "| 1 | 1/6 |\n",
    "| 2 | 1/6 |\n",
    "| 3 | 1/6 |\n",
    "| 4 | 1/6 |\n",
    "| 5 | 1/6 |\n",
    "| 6 | 1/6 |"
   ]
  },
  {
   "attachments": {},
   "cell_type": "markdown",
   "metadata": {},
   "source": [
    "### Creating a Custom Discrete Distribution\n",
    "\n",
    "In Python, we must provide two parallel lists of outcomes and the probabilities, similar to the table above.  One list will contain all the outcomes and one list will contain all the probabilities.\n",
    "\n",
    "For example:\n",
    "\n",
    "> ```py\n",
    "> outcomes    = [   1,   2,   3,   4,   5,   6 ]\n",
    "> probability = [ 1/6, 1/6, 1/6, 1/6, 1/6, 1/6 ]\n",
    "> \n",
    "> # Programmers will often use a lot of extra spaces to make it line up visually,\n",
    "> # just like we did in the code above, but it is not required.\n",
    "> ```\n",
    "\n",
    "Once we have our two lists, the scipy.stats `rv_discrete` function can be used to make our distribution using the following code:\n",
    "\n",
    "> ```py\n",
    "> from scipy.stats import rv_discrete\n",
    "> DICE = rv_discrete( values=(outcomes, probability) )\n",
    "> ```\n",
    "\n",
    "### Puzzle 2.1: `DICE` Distribution\n",
    "\n",
    "Create the `DICE` distribution below:\n"
   ]
  },
  {
   "cell_type": "code",
   "execution_count": 17,
   "metadata": {},
   "outputs": [
    {
     "data": {
      "text/plain": [
       "<scipy.stats._distn_infrastructure.rv_sample at 0x25fea70bc50>"
      ]
     },
     "execution_count": 17,
     "metadata": {},
     "output_type": "execute_result"
    }
   ],
   "source": [
    "from scipy.stats import rv_discrete\n",
    "outcomes = [1, 2, 3, 4, 5, 6]\n",
    "prob = [1/6, 1/6, 1/6, 1/6, 1/6, 1/6]\n",
    "\n",
    "DICE = rv_discrete( values=(outcomes, prob))\n",
    "DICE\n"
   ]
  },
  {
   "attachments": {},
   "cell_type": "markdown",
   "metadata": {},
   "source": [
    "### Puzzle 2.2: EV and SE\n",
    "\n",
    "Once you have the `DICE` random variable, find the expected value (EV) and standard error (SE) for the `DICE` random variable. Name the variables `EV_DICE` and `SE_DICE`."
   ]
  },
  {
   "cell_type": "code",
   "execution_count": 18,
   "metadata": {},
   "outputs": [],
   "source": [
    "# Expected Value for `DICE`:\n",
    "EV_DICE = DICE.mean()"
   ]
  },
  {
   "cell_type": "code",
   "execution_count": 19,
   "metadata": {},
   "outputs": [],
   "source": [
    "# Standard Error for `DICE`:\n",
    "SE_DICE = DICE.std()"
   ]
  },
  {
   "attachments": {},
   "cell_type": "markdown",
   "metadata": {},
   "source": [
    "### 🔬 Checkpoint Tests 🔬"
   ]
  },
  {
   "cell_type": "code",
   "execution_count": 20,
   "metadata": {},
   "outputs": [
    {
     "name": "stdout",
     "output_type": "stream",
     "text": [
      "🎉 All Tests Passed! 🎉\n"
     ]
    }
   ],
   "source": [
    "### TEST CASE for Random Variable #2: The Value of a Dice Roll\n",
    "tada = \"\\N{PARTY POPPER}\"\n",
    "\n",
    "import math\n",
    "assert(\"DICE\" in vars()), \"Make sure your random variable is named `DICE`.\"\n",
    "assert(EV_DICE == 3.5), \"The expected value for your distribution is incorrect.\"\n",
    "assert(math.isclose(SE_DICE, (105 / 36)**0.5)), \"The standard deviation for your distribution is incorrect.\"\n",
    "print(f\"{tada} All Tests Passed! {tada}\")"
   ]
  },
  {
   "attachments": {},
   "cell_type": "markdown",
   "metadata": {},
   "source": [
    "<hr style=\"color: #DD3403;\">"
   ]
  },
  {
   "attachments": {},
   "cell_type": "markdown",
   "metadata": {},
   "source": [
    "## Random Variable #3: Customer in a Tea Shop\n",
    "\n",
    "Let's create a distribution to model a tea shop!  When a customer arrives, we have historical data to suggest the following pattern:\n",
    "\n",
    "| Description | Outcome | Probability |\n",
    "| ----------- | ------: | ----------: |\n",
    "| Customer buys a black tea | $ 4.49 | 20% |\n",
    "| Customer buys a bubble tea | $ 5.69 | 40% |\n",
    "| Customer buys a black tea and treat | $ 7.69 | 15% |\n",
    "| Customer buys a bubble tea and treat | $ 8.89 | 15% |\n",
    "| Customer buys nothing | $ 0.00 | 10% |\n",
    "\n",
    "\n",
    "### Puzzle 3.1: `TEA` Distribution\n",
    "Create a custom discrete distribution for this tea shop called `TEA`  (if you're not sure, re-read the previous section on how to create a custom distribution).\n"
   ]
  },
  {
   "cell_type": "code",
   "execution_count": 22,
   "metadata": {},
   "outputs": [
    {
     "data": {
      "text/plain": [
       "<scipy.stats._distn_infrastructure.rv_sample at 0x25fea70bd90>"
      ]
     },
     "execution_count": 22,
     "metadata": {},
     "output_type": "execute_result"
    }
   ],
   "source": [
    "outcomes = [4.49, 5.69, 7.69, 8.89, 0.00]\n",
    "probability = [20/100, 40/100, 15/100, 15/100, 10/100]\n",
    "\n",
    "TEA = rv_discrete( values=(outcomes, probability))\n",
    "TEA"
   ]
  },
  {
   "cell_type": "markdown",
   "metadata": {},
   "source": [
    "### Puzzle 3.2: EV and SE\n",
    "\n",
    "Once you have the `TEA` distribution, find the expected value (EV) and standard error (SE) of this new distribution. Name the variables `EV_TEA` and `SE_TEA`."
   ]
  },
  {
   "cell_type": "code",
   "execution_count": 141,
   "metadata": {},
   "outputs": [
    {
     "data": {
      "text/plain": [
       "np.float64(5.6610000000000005)"
      ]
     },
     "execution_count": 141,
     "metadata": {},
     "output_type": "execute_result"
    }
   ],
   "source": [
    "# Expected Value for `TEA`:\n",
    "EV_TEA = TEA.mean()\n",
    "EV_TEA"
   ]
  },
  {
   "cell_type": "code",
   "execution_count": 24,
   "metadata": {},
   "outputs": [],
   "source": [
    "# Standard Error for `TEA`:\n",
    "SE_TEA = TEA.std()"
   ]
  },
  {
   "cell_type": "code",
   "execution_count": 25,
   "metadata": {},
   "outputs": [
    {
     "name": "stdout",
     "output_type": "stream",
     "text": [
      "🎉 All Tests Passed! 🎉\n"
     ]
    }
   ],
   "source": [
    "### TEST CASE for Random Variable #3: Customer in a Tea Shop\n",
    "tada = \"\\N{PARTY POPPER}\"\n",
    "\n",
    "import math\n",
    "assert(\"TEA\" in vars()), \"Make sure your random variable is named `TEA`.\"\n",
    "assert(math.isclose(EV_TEA, 5.661)), \"The expected value for your distribution is incorrect.\"\n",
    "assert(math.isclose(SE_TEA, 2.379237062589603)), \"The standard deviation for your distribution is incorrect.\"\n",
    "print(f\"{tada} All Tests Passed! {tada}\")"
   ]
  },
  {
   "cell_type": "markdown",
   "metadata": {},
   "source": [
    "### Puzzle 3.3: Cumulative Distribution Function\n",
    "\n",
    "Find the CDF of TEA=6 in the code cell below. "
   ]
  },
  {
   "cell_type": "code",
   "execution_count": 34,
   "metadata": {},
   "outputs": [
    {
     "data": {
      "text/plain": [
       "0.7000000000000001"
      ]
     },
     "execution_count": 34,
     "metadata": {},
     "output_type": "execute_result"
    }
   ],
   "source": [
    "TEA.cdf(6).item()"
   ]
  },
  {
   "cell_type": "markdown",
   "metadata": {},
   "source": [
    "### Analysis\n",
    "\n",
    "**Q1**: What is the real-world meaning of `TEA.cdf(6)` in terms of your tea shop?  Explain the real-world significance of this to the tea shop owner (you will not earn points for just explaining the definition of CDF)."
   ]
  },
  {
   "cell_type": "markdown",
   "metadata": {},
   "source": [
    "The real world meaning of TEA.cdf(6) is the probability of somemone spending $6 or less at the TEA shop. The outcome of that is the proabbility of it happening."
   ]
  },
  {
   "cell_type": "markdown",
   "metadata": {},
   "source": [
    "### Puzzle 3.4: A Busy Day at the Tea Shop"
   ]
  },
  {
   "cell_type": "markdown",
   "metadata": {},
   "source": [
    "On a busy day, you know that only 70 customers will arrive to your tea shop.  Using Python, create a DataFrame called `df_tea` that contains 70 sample customers from the tea shop.\n",
    "\n",
    "> In order to use the `rvs` function, you will need to create an instance of the `TEA` distribution.  To do this, you can use the following code:\n",
    "> ```py\n",
    "> T = TEA()\n",
    "> ```\n",
    "> ...after this, you can use `T.mean()`, `T.std()`, `T.rvs(...)`, or any other function.\n",
    "\n",
    "*You can refer back to the lecture on [Python Functions for Random Distributions](https://discovery.cs.illinois.edu/learn/Polling-Confidence-Intervals-and-Hypothesis-Testing/Python-Functions-for-Random-Distributions/) to understand how you can create a DataFrame from samples from a distribution.* \n",
    "\n",
    "Make sure that the name of the column makes sense in the context of this problem!!"
   ]
  },
  {
   "cell_type": "code",
   "execution_count": 147,
   "metadata": {},
   "outputs": [
    {
     "data": {
      "text/html": [
       "<div>\n",
       "<style scoped>\n",
       "    .dataframe tbody tr th:only-of-type {\n",
       "        vertical-align: middle;\n",
       "    }\n",
       "\n",
       "    .dataframe tbody tr th {\n",
       "        vertical-align: top;\n",
       "    }\n",
       "\n",
       "    .dataframe thead th {\n",
       "        text-align: right;\n",
       "    }\n",
       "</style>\n",
       "<table border=\"1\" class=\"dataframe\">\n",
       "  <thead>\n",
       "    <tr style=\"text-align: right;\">\n",
       "      <th></th>\n",
       "      <th>money made</th>\n",
       "    </tr>\n",
       "  </thead>\n",
       "  <tbody>\n",
       "    <tr>\n",
       "      <th>0</th>\n",
       "      <td>8.89</td>\n",
       "    </tr>\n",
       "    <tr>\n",
       "      <th>1</th>\n",
       "      <td>0.00</td>\n",
       "    </tr>\n",
       "    <tr>\n",
       "      <th>2</th>\n",
       "      <td>7.69</td>\n",
       "    </tr>\n",
       "    <tr>\n",
       "      <th>3</th>\n",
       "      <td>5.69</td>\n",
       "    </tr>\n",
       "    <tr>\n",
       "      <th>4</th>\n",
       "      <td>5.69</td>\n",
       "    </tr>\n",
       "    <tr>\n",
       "      <th>...</th>\n",
       "      <td>...</td>\n",
       "    </tr>\n",
       "    <tr>\n",
       "      <th>65</th>\n",
       "      <td>0.00</td>\n",
       "    </tr>\n",
       "    <tr>\n",
       "      <th>66</th>\n",
       "      <td>7.69</td>\n",
       "    </tr>\n",
       "    <tr>\n",
       "      <th>67</th>\n",
       "      <td>5.69</td>\n",
       "    </tr>\n",
       "    <tr>\n",
       "      <th>68</th>\n",
       "      <td>7.69</td>\n",
       "    </tr>\n",
       "    <tr>\n",
       "      <th>69</th>\n",
       "      <td>5.69</td>\n",
       "    </tr>\n",
       "  </tbody>\n",
       "</table>\n",
       "<p>70 rows × 1 columns</p>\n",
       "</div>"
      ],
      "text/plain": [
       "    money made\n",
       "0         8.89\n",
       "1         0.00\n",
       "2         7.69\n",
       "3         5.69\n",
       "4         5.69\n",
       "..         ...\n",
       "65        0.00\n",
       "66        7.69\n",
       "67        5.69\n",
       "68        7.69\n",
       "69        5.69\n",
       "\n",
       "[70 rows x 1 columns]"
      ]
     },
     "execution_count": 147,
     "metadata": {},
     "output_type": "execute_result"
    }
   ],
   "source": [
    "# Create a DataFrame of 70 sample customers from the TEA distribution:\n",
    "T = TEA()\n",
    "\n",
    "T.rvs(70)\n",
    "\n",
    "df = pd.DataFrame( {\"money made\": T.rvs(70)})\n",
    "df"
   ]
  },
  {
   "cell_type": "markdown",
   "metadata": {},
   "source": [
    "**Q2: How much money did your tea shop make during the busy day you just simulated?**\n",
    "\n",
    "*Use the first cell below to write the Python code to compute the value, and then edit the Markdown cell to record your answer as a complete sentence.*"
   ]
  },
  {
   "cell_type": "code",
   "execution_count": 148,
   "metadata": {},
   "outputs": [
    {
     "data": {
      "text/plain": [
       "398.16"
      ]
     },
     "execution_count": 148,
     "metadata": {},
     "output_type": "execute_result"
    }
   ],
   "source": [
    "# Use this cell to write the Python code to compute the value, and then\n",
    "# edit the Markdown cell to record your answer as a complete sentence.\n",
    "df['money made'].sum().item()"
   ]
  },
  {
   "cell_type": "markdown",
   "metadata": {},
   "source": [
    "The tea shop made $398.16 during the days I just simulated."
   ]
  },
  {
   "cell_type": "markdown",
   "metadata": {},
   "source": [
    "**Q3: Based on the expected value of the TEA variable, was this simulated day a \"good day\" (above expected value) or a \"bad day\" (below expected value)?  Use specific numbers to explain why it was a good or bad day.**\n",
    "\n",
    "*(Note: This answer is specific to your simulation and may be different from others in your group!)*"
   ]
  },
  {
   "cell_type": "markdown",
   "metadata": {},
   "source": [
    "I would say the simulated day was a good day but just by a little just because the expected value is about 5.66 and the value I got here was 5.68. So it would be cosidered a good day."
   ]
  },
  {
   "cell_type": "code",
   "execution_count": 149,
   "metadata": {},
   "outputs": [
    {
     "data": {
      "text/plain": [
       "5.688000000000001"
      ]
     },
     "execution_count": 149,
     "metadata": {},
     "output_type": "execute_result"
    }
   ],
   "source": [
    "# Feel free to use this cell to do any calculations you need :) \n",
    "df['money made'].mean().item()"
   ]
  },
  {
   "cell_type": "markdown",
   "metadata": {},
   "source": [
    "**Q4**: To \"break even\" and cover all the costs of your tea shop, you need to make $300 each day.  Based on the expected value of the `TEA` random variable, what is the minimum number of customers needed in a given day to \"break even\" for the day?\n",
    "\n",
    "*In your answer, make sure to explain how you arrived at this number.  You can add a new Python cell if you need to use Python to do some math.  Just saying \"11 people\" is not enough, even if the number is correct.*"
   ]
  },
  {
   "cell_type": "code",
   "execution_count": 154,
   "metadata": {},
   "outputs": [],
   "source": [
    "# Use this cell to write the Python code to compute the value, and then\n",
    "# edit the Markdown cell to record your answer as a complete sentence.\n",
    "\n",
    "from scipy.stats import norm\n",
    "\n",
    "\n"
   ]
  },
  {
   "cell_type": "markdown",
   "metadata": {},
   "source": [
    "*(✏️ Edit this cell to replace this text with your answer. ✏️)*"
   ]
  },
  {
   "attachments": {},
   "cell_type": "markdown",
   "metadata": {},
   "source": [
    "<hr style=\"color: #DD3403;\">"
   ]
  },
  {
   "attachments": {},
   "cell_type": "markdown",
   "metadata": {},
   "source": [
    "## Random Variable #4: Final Grades in DISCOVERY\n",
    "\n",
    "Finally, we want to create a random variable called `DISCOVERY` that will model the final grades for this semester in DISCOVERY.  We can use historical data to build the custom discrete random variable.\n",
    "\n",
    "We have provided you with a dataset containing the **ACTUAL** final points for all 1,045 students in DISCOVERY during the Fall 2023 semester (slightly over one year ago).  Using `pandas`, read the `fa23-final-points.csv` dataset into a DataFrame and store it as `df`:"
   ]
  },
  {
   "cell_type": "code",
   "execution_count": 61,
   "metadata": {},
   "outputs": [
    {
     "data": {
      "text/html": [
       "<div>\n",
       "<style scoped>\n",
       "    .dataframe tbody tr th:only-of-type {\n",
       "        vertical-align: middle;\n",
       "    }\n",
       "\n",
       "    .dataframe tbody tr th {\n",
       "        vertical-align: top;\n",
       "    }\n",
       "\n",
       "    .dataframe thead th {\n",
       "        text-align: right;\n",
       "    }\n",
       "</style>\n",
       "<table border=\"1\" class=\"dataframe\">\n",
       "  <thead>\n",
       "    <tr style=\"text-align: right;\">\n",
       "      <th></th>\n",
       "      <th>Final Points</th>\n",
       "    </tr>\n",
       "  </thead>\n",
       "  <tbody>\n",
       "    <tr>\n",
       "      <th>0</th>\n",
       "      <td>1045</td>\n",
       "    </tr>\n",
       "    <tr>\n",
       "      <th>1</th>\n",
       "      <td>1043</td>\n",
       "    </tr>\n",
       "    <tr>\n",
       "      <th>2</th>\n",
       "      <td>1043</td>\n",
       "    </tr>\n",
       "    <tr>\n",
       "      <th>3</th>\n",
       "      <td>1036</td>\n",
       "    </tr>\n",
       "    <tr>\n",
       "      <th>4</th>\n",
       "      <td>1035</td>\n",
       "    </tr>\n",
       "    <tr>\n",
       "      <th>...</th>\n",
       "      <td>...</td>\n",
       "    </tr>\n",
       "    <tr>\n",
       "      <th>1040</th>\n",
       "      <td>598</td>\n",
       "    </tr>\n",
       "    <tr>\n",
       "      <th>1041</th>\n",
       "      <td>597</td>\n",
       "    </tr>\n",
       "    <tr>\n",
       "      <th>1042</th>\n",
       "      <td>511</td>\n",
       "    </tr>\n",
       "    <tr>\n",
       "      <th>1043</th>\n",
       "      <td>420</td>\n",
       "    </tr>\n",
       "    <tr>\n",
       "      <th>1044</th>\n",
       "      <td>231</td>\n",
       "    </tr>\n",
       "  </tbody>\n",
       "</table>\n",
       "<p>1045 rows × 1 columns</p>\n",
       "</div>"
      ],
      "text/plain": [
       "      Final Points\n",
       "0             1045\n",
       "1             1043\n",
       "2             1043\n",
       "3             1036\n",
       "4             1035\n",
       "...            ...\n",
       "1040           598\n",
       "1041           597\n",
       "1042           511\n",
       "1043           420\n",
       "1044           231\n",
       "\n",
       "[1045 rows x 1 columns]"
      ]
     },
     "execution_count": 61,
     "metadata": {},
     "output_type": "execute_result"
    }
   ],
   "source": [
    "df = pd.read_csv('fa23-final-points.csv')\n",
    "df"
   ]
  },
  {
   "cell_type": "markdown",
   "metadata": {},
   "source": [
    "### Puzzle 4.1: Visualize a Histogram of DISCOVERY\n",
    "\n",
    "Create a histogram of all the scores in DISCOVERY using **50 bins**. Make sure your histogram has a title and axis labels!"
   ]
  },
  {
   "cell_type": "code",
   "execution_count": 118,
   "metadata": {},
   "outputs": [
    {
     "data": {
      "text/plain": [
       "<Axes: ylabel='Frequency'>"
      ]
     },
     "execution_count": 118,
     "metadata": {},
     "output_type": "execute_result"
    },
    {
     "data": {
      "image/png": "[encoded data removed]",
      "text/plain": [
       "<Figure size 640x480 with 1 Axes>"
      ]
     },
     "metadata": {},
     "output_type": "display_data"
    }
   ],
   "source": [
    "# Create a histogram of the all the final scores in DISCOVERY:\n",
    "df.plot.hist(bins=50)"
   ]
  },
  {
   "cell_type": "markdown",
   "metadata": {},
   "source": [
    "### Puzzle 4.2: Counting Unique Values\n",
    "\n",
    "When you need to find the count of unique values contained in a DataFrame, the `.value_counts()` function will return a DataFrame that contains each unique value and the number of times that value appears.\n",
    "\n",
    "We'll want to reset the index to work with the data, so make sure to use `reset_index()` just like we did with groupby.  That means the full Python syntax to find all the unique values for `Final Points` is:\n",
    "\n",
    "> ```py\n",
    "> df.value_counts().reset_index()\n",
    "> ```\n",
    "\n",
    "Use this syntax to find all unique values for the `Final Points` column in `df` and assign this new DataFrame to the variable `df_courseFinalPoints`:"
   ]
  },
  {
   "cell_type": "code",
   "execution_count": 75,
   "metadata": {},
   "outputs": [
    {
     "data": {
      "text/html": [
       "<div>\n",
       "<style scoped>\n",
       "    .dataframe tbody tr th:only-of-type {\n",
       "        vertical-align: middle;\n",
       "    }\n",
       "\n",
       "    .dataframe tbody tr th {\n",
       "        vertical-align: top;\n",
       "    }\n",
       "\n",
       "    .dataframe thead th {\n",
       "        text-align: right;\n",
       "    }\n",
       "</style>\n",
       "<table border=\"1\" class=\"dataframe\">\n",
       "  <thead>\n",
       "    <tr style=\"text-align: right;\">\n",
       "      <th></th>\n",
       "      <th>Final Points</th>\n",
       "      <th>count</th>\n",
       "    </tr>\n",
       "  </thead>\n",
       "  <tbody>\n",
       "    <tr>\n",
       "      <th>0</th>\n",
       "      <td>963</td>\n",
       "      <td>15</td>\n",
       "    </tr>\n",
       "    <tr>\n",
       "      <th>1</th>\n",
       "      <td>969</td>\n",
       "      <td>14</td>\n",
       "    </tr>\n",
       "    <tr>\n",
       "      <th>2</th>\n",
       "      <td>973</td>\n",
       "      <td>13</td>\n",
       "    </tr>\n",
       "    <tr>\n",
       "      <th>3</th>\n",
       "      <td>967</td>\n",
       "      <td>13</td>\n",
       "    </tr>\n",
       "    <tr>\n",
       "      <th>4</th>\n",
       "      <td>955</td>\n",
       "      <td>13</td>\n",
       "    </tr>\n",
       "    <tr>\n",
       "      <th>...</th>\n",
       "      <td>...</td>\n",
       "      <td>...</td>\n",
       "    </tr>\n",
       "    <tr>\n",
       "      <th>259</th>\n",
       "      <td>1031</td>\n",
       "      <td>1</td>\n",
       "    </tr>\n",
       "    <tr>\n",
       "      <th>260</th>\n",
       "      <td>1029</td>\n",
       "      <td>1</td>\n",
       "    </tr>\n",
       "    <tr>\n",
       "      <th>261</th>\n",
       "      <td>1035</td>\n",
       "      <td>1</td>\n",
       "    </tr>\n",
       "    <tr>\n",
       "      <th>262</th>\n",
       "      <td>1036</td>\n",
       "      <td>1</td>\n",
       "    </tr>\n",
       "    <tr>\n",
       "      <th>263</th>\n",
       "      <td>1045</td>\n",
       "      <td>1</td>\n",
       "    </tr>\n",
       "  </tbody>\n",
       "</table>\n",
       "<p>264 rows × 2 columns</p>\n",
       "</div>"
      ],
      "text/plain": [
       "     Final Points  count\n",
       "0             963     15\n",
       "1             969     14\n",
       "2             973     13\n",
       "3             967     13\n",
       "4             955     13\n",
       "..            ...    ...\n",
       "259          1031      1\n",
       "260          1029      1\n",
       "261          1035      1\n",
       "262          1036      1\n",
       "263          1045      1\n",
       "\n",
       "[264 rows x 2 columns]"
      ]
     },
     "execution_count": 75,
     "metadata": {},
     "output_type": "execute_result"
    }
   ],
   "source": [
    "df_courseFinalPoints = df.value_counts().reset_index()\n",
    "df_courseFinalPoints"
   ]
  },
  {
   "cell_type": "code",
   "execution_count": 76,
   "metadata": {},
   "outputs": [
    {
     "name": "stdout",
     "output_type": "stream",
     "text": [
      "🎉 All Tests Passed! 🎉\n"
     ]
    }
   ],
   "source": [
    "### TEST CASE for `courseFinalPoints`\n",
    "tada = \"\\N{PARTY POPPER}\"\n",
    "\n",
    "assert(\"df_courseFinalPoints\" in vars()), \"Make sure your new DataFrame is stored in the variable `df_courseFinalPoints`.\"\n",
    "assert(\"Final Points\" in df_courseFinalPoints), \"Make sure to do .reset_index()\"\n",
    "assert(\"count\" in df_courseFinalPoints or 0 in df_courseFinalPoints), \"Make sure to do .reset_index()\"\n",
    "assert( len(df_courseFinalPoints) == 264), \"Your DataFrame is the wrong length.\"\n",
    "\n",
    "print(f\"{tada} All Tests Passed! {tada}\")"
   ]
  },
  {
   "cell_type": "markdown",
   "metadata": {},
   "source": [
    "### Building a Discrete Distribution for DISCOVERY\n",
    "\n",
    "Recall from Part 2 that we need to create two lists, `outcomes` and `probability`:\n",
    "\n",
    "> ```py\n",
    "> outcomes    = [   1,   2,   3,   4,   5,   6 ]\n",
    "> probability = [ 1/6, 1/6, 1/6, 1/6, 1/6, 1/6 ]\n",
    "> ```\n",
    "\n",
    "Applying this to the DataFrame you just created, the `outcomes` are the various final total points in DISCOVERY of the 1,045 students last Fall.  The `probability` is the likelihood of each outcome.  Looking at the first few rows, this means two lists of values might be:\n",
    "\n",
    "> ```py\n",
    "> # List of total final points in DISCOVERY:\n",
    "> outcomes    = [ 963, 969, 967, ... ]\n",
    ">\n",
    "> # Occurrences of each outcome:\n",
    "> occurrence   = [ 15,  14,  13, ... ]\n",
    "> ```\n",
    "\n",
    "*(Note we'll find the occurrence first, and then covert that to the final probability.)*"
   ]
  },
  {
   "cell_type": "markdown",
   "metadata": {},
   "source": [
    "### Puzzle 4.3: Extracting the List of Outcomes\n",
    "\n",
    "In your `df_courseFinalPoints` DataFrame, you have two columns: `Final Points` and `count` (or, on older versions of the library, just `0`).  To extract a list of values from a specific column, as a list, you'll use the `.values` method on the column.  For example, to get a list of values for the column `Illinois` from the DataFrame `df`, you can use the following code:\n",
    "\n",
    "> ```py\n",
    "> df[\"Illinois\"].values\n",
    "> ```\n",
    "\n",
    "Use your `df_courseFinalPoints` to find the list of all `outcomes` in DISCOVERY:"
   ]
  },
  {
   "cell_type": "code",
   "execution_count": 106,
   "metadata": {},
   "outputs": [
    {
     "data": {
      "text/plain": [
       "[963,\n",
       " 969,\n",
       " 973,\n",
       " 967,\n",
       " 955,\n",
       " 953,\n",
       " 979,\n",
       " 983,\n",
       " 987,\n",
       " 989,\n",
       " 993,\n",
       " 970,\n",
       " 972,\n",
       " 959,\n",
       " 966,\n",
       " 998,\n",
       " 986,\n",
       " 937,\n",
       " 990,\n",
       " 988,\n",
       " 996,\n",
       " 997,\n",
       " 950,\n",
       " 980,\n",
       " 982,\n",
       " 968,\n",
       " 981,\n",
       " 958,\n",
       " 956,\n",
       " 965,\n",
       " 995,\n",
       " 971,\n",
       " 1007,\n",
       " 992,\n",
       " 974,\n",
       " 976,\n",
       " 1000,\n",
       " 1004,\n",
       " 926,\n",
       " 943,\n",
       " 939,\n",
       " 936,\n",
       " 946,\n",
       " 944,\n",
       " 964,\n",
       " 994,\n",
       " 942,\n",
       " 947,\n",
       " 933,\n",
       " 1011,\n",
       " 920,\n",
       " 977,\n",
       " 1008,\n",
       " 978,\n",
       " 949,\n",
       " 931,\n",
       " 961,\n",
       " 960,\n",
       " 1001,\n",
       " 1003,\n",
       " 912,\n",
       " 934,\n",
       " 886,\n",
       " 914,\n",
       " 1020,\n",
       " 985,\n",
       " 984,\n",
       " 905,\n",
       " 941,\n",
       " 951,\n",
       " 839,\n",
       " 922,\n",
       " 1009,\n",
       " 1002,\n",
       " 991,\n",
       " 999,\n",
       " 962,\n",
       " 957,\n",
       " 952,\n",
       " 945,\n",
       " 940,\n",
       " 858,\n",
       " 876,\n",
       " 903,\n",
       " 1025,\n",
       " 707,\n",
       " 1013,\n",
       " 1015,\n",
       " 875,\n",
       " 1026,\n",
       " 873,\n",
       " 877,\n",
       " 1019,\n",
       " 773,\n",
       " 1006,\n",
       " 930,\n",
       " 824,\n",
       " 915,\n",
       " 913,\n",
       " 927,\n",
       " 928,\n",
       " 917,\n",
       " 904,\n",
       " 888,\n",
       " 954,\n",
       " 916,\n",
       " 907,\n",
       " 807,\n",
       " 896,\n",
       " 774,\n",
       " 812,\n",
       " 948,\n",
       " 735,\n",
       " 751,\n",
       " 1005,\n",
       " 919,\n",
       " 932,\n",
       " 923,\n",
       " 929,\n",
       " 832,\n",
       " 891,\n",
       " 909,\n",
       " 911,\n",
       " 902,\n",
       " 975,\n",
       " 1018,\n",
       " 1016,\n",
       " 870,\n",
       " 883,\n",
       " 882,\n",
       " 1027,\n",
       " 862,\n",
       " 863,\n",
       " 1012,\n",
       " 785,\n",
       " 1033,\n",
       " 866,\n",
       " 865,\n",
       " 822,\n",
       " 935,\n",
       " 938,\n",
       " 835,\n",
       " 828,\n",
       " 860,\n",
       " 918,\n",
       " 1043,\n",
       " 1032,\n",
       " 740,\n",
       " 766,\n",
       " 771,\n",
       " 734,\n",
       " 788,\n",
       " 841,\n",
       " 796,\n",
       " 805,\n",
       " 816,\n",
       " 859,\n",
       " 893,\n",
       " 925,\n",
       " 897,\n",
       " 874,\n",
       " 869,\n",
       " 1017,\n",
       " 885,\n",
       " 878,\n",
       " 880,\n",
       " 884,\n",
       " 881,\n",
       " 924,\n",
       " 847,\n",
       " 845,\n",
       " 910,\n",
       " 901,\n",
       " 895,\n",
       " 906,\n",
       " 868,\n",
       " 887,\n",
       " 871,\n",
       " 872,\n",
       " 1014,\n",
       " 1023,\n",
       " 1028,\n",
       " 864,\n",
       " 702,\n",
       " 420,\n",
       " 231,\n",
       " 511,\n",
       " 597,\n",
       " 645,\n",
       " 648,\n",
       " 598,\n",
       " 635,\n",
       " 669,\n",
       " 664,\n",
       " 670,\n",
       " 678,\n",
       " 690,\n",
       " 679,\n",
       " 1010,\n",
       " 921,\n",
       " 833,\n",
       " 831,\n",
       " 823,\n",
       " 829,\n",
       " 820,\n",
       " 821,\n",
       " 846,\n",
       " 844,\n",
       " 851,\n",
       " 850,\n",
       " 852,\n",
       " 853,\n",
       " 855,\n",
       " 854,\n",
       " 856,\n",
       " 861,\n",
       " 848,\n",
       " 899,\n",
       " 900,\n",
       " 894,\n",
       " 892,\n",
       " 898,\n",
       " 908,\n",
       " 793,\n",
       " 806,\n",
       " 801,\n",
       " 794,\n",
       " 799,\n",
       " 792,\n",
       " 791,\n",
       " 843,\n",
       " 840,\n",
       " 776,\n",
       " 772,\n",
       " 765,\n",
       " 763,\n",
       " 814,\n",
       " 815,\n",
       " 760,\n",
       " 762,\n",
       " 808,\n",
       " 810,\n",
       " 790,\n",
       " 717,\n",
       " 783,\n",
       " 787,\n",
       " 779,\n",
       " 778,\n",
       " 737,\n",
       " 732,\n",
       " 729,\n",
       " 730,\n",
       " 728,\n",
       " 723,\n",
       " 713,\n",
       " 744,\n",
       " 745,\n",
       " 742,\n",
       " 743,\n",
       " 1031,\n",
       " 1029,\n",
       " 1035,\n",
       " 1036,\n",
       " 1045]"
      ]
     },
     "execution_count": 106,
     "metadata": {},
     "output_type": "execute_result"
    }
   ],
   "source": [
    "outcomes = df_courseFinalPoints[\"Final Points\"].values.tolist()\n",
    "outcomes\n"
   ]
  },
  {
   "cell_type": "markdown",
   "metadata": {},
   "source": [
    "### Puzzle 4.4: Extracting the List of Occurrences\n",
    "\n",
    "Repeat the same process to find the list of all `occurrences`, or how many times each of the outcomes occurred:"
   ]
  },
  {
   "cell_type": "code",
   "execution_count": 111,
   "metadata": {},
   "outputs": [
    {
     "data": {
      "text/plain": [
       "array([15, 14, 13, 13, 13, 13, 12, 12, 12, 12, 12, 12, 12, 11, 11, 11, 11,\n",
       "       11, 11, 10, 10, 10, 10, 10, 10, 10,  9,  9,  9,  9,  9,  9,  9,  9,\n",
       "        9,  9,  8,  8,  8,  8,  8,  8,  8,  8,  8,  8,  7,  7,  7,  7,  7,\n",
       "        7,  7,  7,  7,  7,  7,  7,  6,  6,  6,  6,  6,  6,  6,  6,  6,  6,\n",
       "        6,  6,  6,  6,  5,  5,  5,  5,  5,  5,  5,  5,  5,  5,  5,  5,  5,\n",
       "        5,  4,  4,  4,  4,  4,  4,  4,  4,  4,  4,  4,  4,  4,  4,  4,  4,\n",
       "        4,  4,  4,  3,  3,  3,  3,  3,  3,  3,  3,  3,  3,  3,  3,  3,  3,\n",
       "        3,  3,  3,  3,  3,  3,  3,  3,  3,  3,  3,  3,  3,  3,  3,  3,  3,\n",
       "        2,  2,  2,  2,  2,  2,  2,  2,  2,  2,  2,  2,  2,  2,  2,  2,  2,\n",
       "        2,  2,  2,  2,  2,  2,  2,  2,  2,  2,  2,  2,  2,  2,  2,  2,  2,\n",
       "        2,  2,  2,  2,  2,  1,  1,  1,  1,  1,  1,  1,  1,  1,  1,  1,  1,\n",
       "        1,  1,  1,  1,  1,  1,  1,  1,  1,  1,  1,  1,  1,  1,  1,  1,  1,\n",
       "        1,  1,  1,  1,  1,  1,  1,  1,  1,  1,  1,  1,  1,  1,  1,  1,  1,\n",
       "        1,  1,  1,  1,  1,  1,  1,  1,  1,  1,  1,  1,  1,  1,  1,  1,  1,\n",
       "        1,  1,  1,  1,  1,  1,  1,  1,  1,  1,  1,  1,  1,  1,  1,  1,  1,\n",
       "        1,  1,  1,  1,  1,  1,  1,  1,  1])"
      ]
     },
     "execution_count": 111,
     "metadata": {},
     "output_type": "execute_result"
    }
   ],
   "source": [
    "\n",
    "occurrences = df_courseFinalPoints[\"count\"].values\n",
    "occurrences\n"
   ]
  },
  {
   "cell_type": "markdown",
   "metadata": {},
   "source": [
    "### Puzzle 4.5: Converting `occurrences` to a Probability\n",
    "\n",
    "To use this data to create a distribution, we need both the **outcome** and the **probability**.  Currently, we have the outcomes (`outcomes`), but we do not have a probability.  To convert `occurrences` to a probability, we need to divide `occurrences` by the total number of students to convert it to a probability.\n",
    "\n",
    "Create a new variable `probability` that is the `probability` for getting each value in `Final Points`.  \n",
    "\n",
    "*Hint 1: You can divide an entire list by a number, and it will divide each individual element of the list by that number; ex: `probability = counts / 10` will divide each value in `counts` by 10.*\n",
    "\n",
    "*Hint 2: To get the total number of students, think about what each value in `occurrences` represents.*"
   ]
  },
  {
   "cell_type": "code",
   "execution_count": 113,
   "metadata": {},
   "outputs": [
    {
     "data": {
      "text/plain": [
       "[0.014354066985645933,\n",
       " 0.013397129186602871,\n",
       " 0.012440191387559809,\n",
       " 0.012440191387559809,\n",
       " 0.012440191387559809,\n",
       " 0.012440191387559809,\n",
       " 0.011483253588516746,\n",
       " 0.011483253588516746,\n",
       " 0.011483253588516746,\n",
       " 0.011483253588516746,\n",
       " 0.011483253588516746,\n",
       " 0.011483253588516746,\n",
       " 0.011483253588516746,\n",
       " 0.010526315789473684,\n",
       " 0.010526315789473684,\n",
       " 0.010526315789473684,\n",
       " 0.010526315789473684,\n",
       " 0.010526315789473684,\n",
       " 0.010526315789473684,\n",
       " 0.009569377990430622,\n",
       " 0.009569377990430622,\n",
       " 0.009569377990430622,\n",
       " 0.009569377990430622,\n",
       " 0.009569377990430622,\n",
       " 0.009569377990430622,\n",
       " 0.009569377990430622,\n",
       " 0.00861244019138756,\n",
       " 0.00861244019138756,\n",
       " 0.00861244019138756,\n",
       " 0.00861244019138756,\n",
       " 0.00861244019138756,\n",
       " 0.00861244019138756,\n",
       " 0.00861244019138756,\n",
       " 0.00861244019138756,\n",
       " 0.00861244019138756,\n",
       " 0.00861244019138756,\n",
       " 0.007655502392344498,\n",
       " 0.007655502392344498,\n",
       " 0.007655502392344498,\n",
       " 0.007655502392344498,\n",
       " 0.007655502392344498,\n",
       " 0.007655502392344498,\n",
       " 0.007655502392344498,\n",
       " 0.007655502392344498,\n",
       " 0.007655502392344498,\n",
       " 0.007655502392344498,\n",
       " 0.0066985645933014355,\n",
       " 0.0066985645933014355,\n",
       " 0.0066985645933014355,\n",
       " 0.0066985645933014355,\n",
       " 0.0066985645933014355,\n",
       " 0.0066985645933014355,\n",
       " 0.0066985645933014355,\n",
       " 0.0066985645933014355,\n",
       " 0.0066985645933014355,\n",
       " 0.0066985645933014355,\n",
       " 0.0066985645933014355,\n",
       " 0.0066985645933014355,\n",
       " 0.005741626794258373,\n",
       " 0.005741626794258373,\n",
       " 0.005741626794258373,\n",
       " 0.005741626794258373,\n",
       " 0.005741626794258373,\n",
       " 0.005741626794258373,\n",
       " 0.005741626794258373,\n",
       " 0.005741626794258373,\n",
       " 0.005741626794258373,\n",
       " 0.005741626794258373,\n",
       " 0.005741626794258373,\n",
       " 0.005741626794258373,\n",
       " 0.005741626794258373,\n",
       " 0.005741626794258373,\n",
       " 0.004784688995215311,\n",
       " 0.004784688995215311,\n",
       " 0.004784688995215311,\n",
       " 0.004784688995215311,\n",
       " 0.004784688995215311,\n",
       " 0.004784688995215311,\n",
       " 0.004784688995215311,\n",
       " 0.004784688995215311,\n",
       " 0.004784688995215311,\n",
       " 0.004784688995215311,\n",
       " 0.004784688995215311,\n",
       " 0.004784688995215311,\n",
       " 0.004784688995215311,\n",
       " 0.004784688995215311,\n",
       " 0.003827751196172249,\n",
       " 0.003827751196172249,\n",
       " 0.003827751196172249,\n",
       " 0.003827751196172249,\n",
       " 0.003827751196172249,\n",
       " 0.003827751196172249,\n",
       " 0.003827751196172249,\n",
       " 0.003827751196172249,\n",
       " 0.003827751196172249,\n",
       " 0.003827751196172249,\n",
       " 0.003827751196172249,\n",
       " 0.003827751196172249,\n",
       " 0.003827751196172249,\n",
       " 0.003827751196172249,\n",
       " 0.003827751196172249,\n",
       " 0.003827751196172249,\n",
       " 0.003827751196172249,\n",
       " 0.003827751196172249,\n",
       " 0.003827751196172249,\n",
       " 0.0028708133971291866,\n",
       " 0.0028708133971291866,\n",
       " 0.0028708133971291866,\n",
       " 0.0028708133971291866,\n",
       " 0.0028708133971291866,\n",
       " 0.0028708133971291866,\n",
       " 0.0028708133971291866,\n",
       " 0.0028708133971291866,\n",
       " 0.0028708133971291866,\n",
       " 0.0028708133971291866,\n",
       " 0.0028708133971291866,\n",
       " 0.0028708133971291866,\n",
       " 0.0028708133971291866,\n",
       " 0.0028708133971291866,\n",
       " 0.0028708133971291866,\n",
       " 0.0028708133971291866,\n",
       " 0.0028708133971291866,\n",
       " 0.0028708133971291866,\n",
       " 0.0028708133971291866,\n",
       " 0.0028708133971291866,\n",
       " 0.0028708133971291866,\n",
       " 0.0028708133971291866,\n",
       " 0.0028708133971291866,\n",
       " 0.0028708133971291866,\n",
       " 0.0028708133971291866,\n",
       " 0.0028708133971291866,\n",
       " 0.0028708133971291866,\n",
       " 0.0028708133971291866,\n",
       " 0.0028708133971291866,\n",
       " 0.0028708133971291866,\n",
       " 0.0028708133971291866,\n",
       " 0.0019138755980861245,\n",
       " 0.0019138755980861245,\n",
       " 0.0019138755980861245,\n",
       " 0.0019138755980861245,\n",
       " 0.0019138755980861245,\n",
       " 0.0019138755980861245,\n",
       " 0.0019138755980861245,\n",
       " 0.0019138755980861245,\n",
       " 0.0019138755980861245,\n",
       " 0.0019138755980861245,\n",
       " 0.0019138755980861245,\n",
       " 0.0019138755980861245,\n",
       " 0.0019138755980861245,\n",
       " 0.0019138755980861245,\n",
       " 0.0019138755980861245,\n",
       " 0.0019138755980861245,\n",
       " 0.0019138755980861245,\n",
       " 0.0019138755980861245,\n",
       " 0.0019138755980861245,\n",
       " 0.0019138755980861245,\n",
       " 0.0019138755980861245,\n",
       " 0.0019138755980861245,\n",
       " 0.0019138755980861245,\n",
       " 0.0019138755980861245,\n",
       " 0.0019138755980861245,\n",
       " 0.0019138755980861245,\n",
       " 0.0019138755980861245,\n",
       " 0.0019138755980861245,\n",
       " 0.0019138755980861245,\n",
       " 0.0019138755980861245,\n",
       " 0.0019138755980861245,\n",
       " 0.0019138755980861245,\n",
       " 0.0019138755980861245,\n",
       " 0.0019138755980861245,\n",
       " 0.0019138755980861245,\n",
       " 0.0019138755980861245,\n",
       " 0.0019138755980861245,\n",
       " 0.0019138755980861245,\n",
       " 0.0019138755980861245,\n",
       " 0.0009569377990430622,\n",
       " 0.0009569377990430622,\n",
       " 0.0009569377990430622,\n",
       " 0.0009569377990430622,\n",
       " 0.0009569377990430622,\n",
       " 0.0009569377990430622,\n",
       " 0.0009569377990430622,\n",
       " 0.0009569377990430622,\n",
       " 0.0009569377990430622,\n",
       " 0.0009569377990430622,\n",
       " 0.0009569377990430622,\n",
       " 0.0009569377990430622,\n",
       " 0.0009569377990430622,\n",
       " 0.0009569377990430622,\n",
       " 0.0009569377990430622,\n",
       " 0.0009569377990430622,\n",
       " 0.0009569377990430622,\n",
       " 0.0009569377990430622,\n",
       " 0.0009569377990430622,\n",
       " 0.0009569377990430622,\n",
       " 0.0009569377990430622,\n",
       " 0.0009569377990430622,\n",
       " 0.0009569377990430622,\n",
       " 0.0009569377990430622,\n",
       " 0.0009569377990430622,\n",
       " 0.0009569377990430622,\n",
       " 0.0009569377990430622,\n",
       " 0.0009569377990430622,\n",
       " 0.0009569377990430622,\n",
       " 0.0009569377990430622,\n",
       " 0.0009569377990430622,\n",
       " 0.0009569377990430622,\n",
       " 0.0009569377990430622,\n",
       " 0.0009569377990430622,\n",
       " 0.0009569377990430622,\n",
       " 0.0009569377990430622,\n",
       " 0.0009569377990430622,\n",
       " 0.0009569377990430622,\n",
       " 0.0009569377990430622,\n",
       " 0.0009569377990430622,\n",
       " 0.0009569377990430622,\n",
       " 0.0009569377990430622,\n",
       " 0.0009569377990430622,\n",
       " 0.0009569377990430622,\n",
       " 0.0009569377990430622,\n",
       " 0.0009569377990430622,\n",
       " 0.0009569377990430622,\n",
       " 0.0009569377990430622,\n",
       " 0.0009569377990430622,\n",
       " 0.0009569377990430622,\n",
       " 0.0009569377990430622,\n",
       " 0.0009569377990430622,\n",
       " 0.0009569377990430622,\n",
       " 0.0009569377990430622,\n",
       " 0.0009569377990430622,\n",
       " 0.0009569377990430622,\n",
       " 0.0009569377990430622,\n",
       " 0.0009569377990430622,\n",
       " 0.0009569377990430622,\n",
       " 0.0009569377990430622,\n",
       " 0.0009569377990430622,\n",
       " 0.0009569377990430622,\n",
       " 0.0009569377990430622,\n",
       " 0.0009569377990430622,\n",
       " 0.0009569377990430622,\n",
       " 0.0009569377990430622,\n",
       " 0.0009569377990430622,\n",
       " 0.0009569377990430622,\n",
       " 0.0009569377990430622,\n",
       " 0.0009569377990430622,\n",
       " 0.0009569377990430622,\n",
       " 0.0009569377990430622,\n",
       " 0.0009569377990430622,\n",
       " 0.0009569377990430622,\n",
       " 0.0009569377990430622,\n",
       " 0.0009569377990430622,\n",
       " 0.0009569377990430622,\n",
       " 0.0009569377990430622,\n",
       " 0.0009569377990430622,\n",
       " 0.0009569377990430622,\n",
       " 0.0009569377990430622,\n",
       " 0.0009569377990430622,\n",
       " 0.0009569377990430622,\n",
       " 0.0009569377990430622,\n",
       " 0.0009569377990430622,\n",
       " 0.0009569377990430622,\n",
       " 0.0009569377990430622,\n",
       " 0.0009569377990430622,\n",
       " 0.0009569377990430622]"
      ]
     },
     "execution_count": 113,
     "metadata": {},
     "output_type": "execute_result"
    }
   ],
   "source": [
    "total_students = occurrences.sum()\n",
    "\n",
    "probability = occurrences / total_students\n",
    "probability.tolist()"
   ]
  },
  {
   "cell_type": "markdown",
   "metadata": {},
   "source": [
    "### Puzzle 4.6: Create the DISCOVERY distribution\n",
    "\n",
    "Using `rv_discrete` (see Section 2 to refresh your memory), create the `DISCOVERY` discrete random variable:"
   ]
  },
  {
   "cell_type": "code",
   "execution_count": 114,
   "metadata": {},
   "outputs": [
    {
     "data": {
      "text/plain": [
       "<scipy.stats._distn_infrastructure.rv_sample at 0x25ff17afd90>"
      ]
     },
     "execution_count": 114,
     "metadata": {},
     "output_type": "execute_result"
    }
   ],
   "source": [
    "from scipy.stats import rv_discrete\n",
    "DISCOVERY = rv_discrete( values=(outcomes, probability))\n",
    "DISCOVERY"
   ]
  },
  {
   "attachments": {},
   "cell_type": "markdown",
   "metadata": {},
   "source": [
    "### Puzzle 4.7: Statistics \n",
    "\n",
    "**Average Score**: Using the `DISCOVERY` distribution, what is the average score (or \"expected value\"), in points, in DISCOVERY?  Store your result in `avg_score`:"
   ]
  },
  {
   "cell_type": "code",
   "execution_count": 117,
   "metadata": {},
   "outputs": [
    {
     "data": {
      "text/plain": [
       "934.5502392344499"
      ]
     },
     "execution_count": 117,
     "metadata": {},
     "output_type": "execute_result"
    }
   ],
   "source": [
    "avg_score = DISCOVERY.mean().item()\n",
    "avg_score"
   ]
  },
  {
   "attachments": {},
   "cell_type": "markdown",
   "metadata": {},
   "source": [
    "**Median Score**: Using the `DISCOVERY` distribution, what is the median score (the 50th percentile), in points, in DISCOVERY?  Store your result in `median_score`:"
   ]
  },
  {
   "cell_type": "code",
   "execution_count": 120,
   "metadata": {},
   "outputs": [
    {
     "data": {
      "text/plain": [
       "958.0"
      ]
     },
     "execution_count": 120,
     "metadata": {},
     "output_type": "execute_result"
    }
   ],
   "source": [
    "median_score = DISCOVERY.ppf(0.5).item()\n",
    "median_score"
   ]
  },
  {
   "attachments": {},
   "cell_type": "markdown",
   "metadata": {},
   "source": [
    "### Puzzle 4.8: Earning an \"A\" in DISCOVERY\n",
    "\n",
    "What percentage of students earned an \"A\" in DISCOVERY?  Earning an \"A\" requires a student to earn 930 points.  Store the percentage of people in `pct_A`:\n",
    "\n",
    "**Make sure to use distribution functions and not dataframe conditionals to calculate** `pct_A`**.**\n",
    "\n",
    "(Not sure how to find this?  Check out the DISCOVERY page on \"Python Functions for Random Distributions\" here:\n",
    "https://discovery.cs.illinois.edu/learn/Polling-Confidence-Intervals-and-Hypothesis-Testing/Python-Functions-for-Random-Distributions/)"
   ]
  },
  {
   "cell_type": "code",
   "execution_count": 133,
   "metadata": {},
   "outputs": [
    {
     "data": {
      "text/plain": [
       "0.6813397129186605"
      ]
     },
     "execution_count": 133,
     "metadata": {},
     "output_type": "execute_result"
    }
   ],
   "source": [
    "pct_A = (1 - DISCOVERY.cdf(929)).item()\n",
    "pct_A"
   ]
  },
  {
   "attachments": {},
   "cell_type": "markdown",
   "metadata": {},
   "source": [
    "### 🔬 Checkpoint Tests 🔬"
   ]
  },
  {
   "cell_type": "code",
   "execution_count": 134,
   "metadata": {},
   "outputs": [
    {
     "name": "stdout",
     "output_type": "stream",
     "text": [
      "🎉 All Tests Passed! 🎉\n"
     ]
    }
   ],
   "source": [
    "### TEST CASE for Random Variable #4: Final Scores in DISCOVERY\n",
    "tada = \"\\N{PARTY POPPER}\"\n",
    "\n",
    "import math\n",
    "assert(\"DISCOVERY\" in vars())\n",
    "assert(\"avg_score\" in vars())\n",
    "assert(math.isclose(avg_score, 934.5502392344499)), \"Your average score is incorrect.\"\n",
    "assert(math.isclose(median_score, 958)), \"Your median score is incorrect.\"\n",
    "assert(pct_A > 0.50), \"There were more than 50% As... are you sure the function is doing what you expect it to be doing?\"\n",
    "assert(not math.isclose(pct_A, 1 - 0.32248803827751177)), \"If you earn a 930, you still get an \\\"A\\\".  If looks like your solution excluded 930 as an \\\"A\\\" -- make sure to include it.\"\n",
    "assert(math.isclose(pct_A, 1 - 0.31866028708133953))\n",
    "\n",
    "assert(math.isclose(DISCOVERY.mean(), avg_score))\n",
    "\n",
    "print(f\"{tada} All Tests Passed! {tada}\")"
   ]
  },
  {
   "cell_type": "markdown",
   "metadata": {},
   "source": [
    "### Analysis: Highly Qualified Student\n",
    "\n",
    "We find that students in the top 10% of the course are highly qualified in terms of course knowledge.\n",
    "\n",
    "**Q5: What is the minimum grade a student needs to earn in DISCOVERY in Fall 2023 to be highly qualified in terms of course knowledge?**\n",
    "\n",
    "*Use the first cell below to write the Python code to compute the value, and then edit the Markdown cell to **interpret** your answer.*"
   ]
  },
  {
   "cell_type": "code",
   "execution_count": null,
   "metadata": {},
   "outputs": [
    {
     "data": {
      "text/plain": [
       "1003.0"
      ]
     },
     "execution_count": 140,
     "metadata": {},
     "output_type": "execute_result"
    }
   ],
   "source": [
    "# Edit this cell to write the Python code to compute the value, and then\n",
    "# edit the Markdown cell to interpret your answer.\n",
    "\n",
    "DISCOVERY.ppf(0.9).item() "
   ]
  },
  {
   "cell_type": "markdown",
   "metadata": {},
   "source": [
    "They have to get 1003 points to be highly qualified"
   ]
  },
  {
   "cell_type": "markdown",
   "metadata": {},
   "source": []
  },
  {
   "cell_type": "markdown",
   "metadata": {},
   "source": []
  },
  {
   "attachments": {},
   "cell_type": "markdown",
   "metadata": {},
   "source": [
    "<hr style=\"color: #DD3403;\">"
   ]
  },
  {
   "cell_type": "markdown",
   "metadata": {},
   "source": [
    "# Submission\n",
    "\n",
    "You're almost done!  All you need to do is to commit your lab to GitHub:\n",
    "\n",
    "1.  ⚠️ **Make certain to save your work.** ⚠️ To do this, go to **File => Save All**\n",
    "\n",
    "2.  After you have saved, exit this notebook and follow the Canvas instructions to commit this lab to your Git repository!\n",
    "\n",
    "3. Your TA will grade your submission and provide you feedback after the lab is due. :)"
   ]
  }
 ],
 "metadata": {
  "kernelspec": {
   "display_name": "Python 3",
   "language": "python",
   "name": "python3"
  },
  "language_info": {
   "codemirror_mode": {
    "name": "ipython",
    "version": 3
   },
   "file_extension": ".py",
   "mimetype": "text/x-python",
   "name": "python",
   "nbconvert_exporter": "python",
   "pygments_lexer": "ipython3",
   "version": "3.13.2"
  }
 },
 "nbformat": 4,
 "nbformat_minor": 2
}
