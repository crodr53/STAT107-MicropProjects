{
 "cells": [
  {
   "cell_type": "markdown",
   "metadata": {},
   "source": [
    "# Welcome to lab_regression! <img src=\"https://raw.githubusercontent.com/PokeAPI/sprites/master/sprites/items/poke-ball.png\" width=\"35\" style=\"vertical-align: middle; margin-bottom: 4px;\"/>\n",
    "\n",
    "One of the coolest parts of data science is **prediction** with **machine learning**. Up until now, we have done a myriad of data analysis given existing data. We have even generated our own data in simulations! Today, using some foundational concepts of machine learning, we will be making predictions based on data!\n",
    "\n",
    "As you learned in lecture, **linear regression** is a powerful tool that can be used to quantify trends in data. We can use our Python skills to perform **simple linear regression** in this lab! \n",
    "\n",
    "\n",
    "A few tips to remember:\n",
    "\n",
    "- **You are not alone on your journey in learning programming!** You have your lab TA, your CAs, your lab group, and the professors (Prof. Wade and Prof. Karle), who are all here to help you out!\n",
    "- If you find yourself stuck for more than a few minutes, ask a neighbor or course staff for help! When you are giving help to your neighbor, explain the **idea and approach** to the problem without sharing the answer itself so they can have the same ***ah-hah*** moment!\n",
    "- We are here to help you! Don't feel embarrassed or shy to ask us for help!\n",
    "\n",
    "Let's get started!"
   ]
  },
  {
   "cell_type": "code",
   "execution_count": 49,
   "metadata": {},
   "outputs": [],
   "source": [
    "# Meet your CAs and TA if you haven't already!\n",
    "# ...first name is enough, we'll know who they are! :)\n",
    "ta_name = \"Tyler\"\n",
    "ca1_name = \"Renee\"\n",
    "ca2_name = \"Talia\"\n",
    "ca3_name = \"\"\n",
    "\n",
    "\n",
    "# Say hello to each other!\n",
    "# - Groups of 3 are ideal :)\n",
    "# - However, groups of 2 or 4 are fine too!\n",
    "#\n",
    "# Question of the Day (QOTD) to Ask Your Group: \"What was your favorite thing about DISCOVERY this semester?\"\n",
    "partner1_name = \"Advait\"\n",
    "partner1_netid = \"\"\n",
    "partner1_DISCOVERYfave = \"advaitg2\"\n",
    "\n",
    "partner2_name = \"Ravi\"\n",
    "partner2_netid = \"ravip2\"\n",
    "partner2_DISCOVERYfave = \"\"\n",
    "\n",
    "partner3_name = \"\"\n",
    "partner3_netid = \"\"\n",
    "partner3_DISCOVERYfave = \"\"\n",
    "\n",
    "\n",
    "# Which lab section are you in? Record it below! It should start with a Y and have \n",
    "# 2 numbers after the Y. If you're unsure - ask your TA/CAs!\n",
    "lab_section = \"Y10\""
   ]
  },
  {
   "cell_type": "markdown",
   "metadata": {},
   "source": [
    "## Part 1: Exploring the Pokemon Data\n",
    "Today, we'll be working with a **Pokemon** dataset. For those unfamiliar, Pokemon are creatures that can be captured (caught) to fight alongside their trainers in the mythical Pokemon world featured in countless video games, cartoons, and cards. There are **tons** of Pokemon out there, so for the purposes of this lab, we will be dealing with pokemon from Generation One (Gen. One) to Generation Seven (Gen. Seven). Each Pokemon in the dataset is accompanied by its core attributes: Total Base Stat, Attack, Defense, HP, etc. \n",
    " We will use basic **machine learning** techniques in this lab to **predict Total Base Stat** with a **linear regression** model. \n",
    "\n",
    "But before we approach this implementation of **simple linear regression**, let's **familiarize ourselves with the data** by doing some **EDA (Exploratory Data Analysis)**. This will include:\n",
    "- Viewing a correlation matrix of our data\n",
    "- Plotting visualizations to visually see relationships in the data"
   ]
  },
  {
   "cell_type": "markdown",
   "metadata": {},
   "source": [
    "## Puzzle 1.1: Loading In the Data\n",
    "We've provided you with a `pokemon.csv` file containing the Pokemon Dataset. You know the drill. Let's **import the Pokemon Dataset** in the cell below. Make sure you name your DataFrame `df`. "
   ]
  },
  {
   "cell_type": "code",
   "execution_count": 50,
   "metadata": {},
   "outputs": [
    {
     "data": {
      "text/html": [
       "<div>\n",
       "<style scoped>\n",
       "    .dataframe tbody tr th:only-of-type {\n",
       "        vertical-align: middle;\n",
       "    }\n",
       "\n",
       "    .dataframe tbody tr th {\n",
       "        vertical-align: top;\n",
       "    }\n",
       "\n",
       "    .dataframe thead th {\n",
       "        text-align: right;\n",
       "    }\n",
       "</style>\n",
       "<table border=\"1\" class=\"dataframe\">\n",
       "  <thead>\n",
       "    <tr style=\"text-align: right;\">\n",
       "      <th></th>\n",
       "      <th>Pokedex Number</th>\n",
       "      <th>Name</th>\n",
       "      <th>Primary Type</th>\n",
       "      <th>Secondary Type</th>\n",
       "      <th>Height (m)</th>\n",
       "      <th>Weight (kg)</th>\n",
       "      <th>Total Base Stat</th>\n",
       "      <th>Attack</th>\n",
       "      <th>Defense</th>\n",
       "      <th>HP</th>\n",
       "      <th>Speed</th>\n",
       "      <th>Special Attack</th>\n",
       "      <th>Special Defense</th>\n",
       "      <th>Legendary</th>\n",
       "    </tr>\n",
       "  </thead>\n",
       "  <tbody>\n",
       "    <tr>\n",
       "      <th>0</th>\n",
       "      <td>1</td>\n",
       "      <td>Bulbasaur</td>\n",
       "      <td>grass</td>\n",
       "      <td>poison</td>\n",
       "      <td>0.7</td>\n",
       "      <td>6.9</td>\n",
       "      <td>318</td>\n",
       "      <td>49</td>\n",
       "      <td>49</td>\n",
       "      <td>45</td>\n",
       "      <td>45</td>\n",
       "      <td>65</td>\n",
       "      <td>65</td>\n",
       "      <td>0</td>\n",
       "    </tr>\n",
       "    <tr>\n",
       "      <th>1</th>\n",
       "      <td>2</td>\n",
       "      <td>Ivysaur</td>\n",
       "      <td>grass</td>\n",
       "      <td>poison</td>\n",
       "      <td>1.0</td>\n",
       "      <td>13.0</td>\n",
       "      <td>405</td>\n",
       "      <td>62</td>\n",
       "      <td>63</td>\n",
       "      <td>60</td>\n",
       "      <td>60</td>\n",
       "      <td>80</td>\n",
       "      <td>80</td>\n",
       "      <td>0</td>\n",
       "    </tr>\n",
       "    <tr>\n",
       "      <th>2</th>\n",
       "      <td>3</td>\n",
       "      <td>Venusaur</td>\n",
       "      <td>grass</td>\n",
       "      <td>poison</td>\n",
       "      <td>2.0</td>\n",
       "      <td>100.0</td>\n",
       "      <td>625</td>\n",
       "      <td>100</td>\n",
       "      <td>123</td>\n",
       "      <td>80</td>\n",
       "      <td>80</td>\n",
       "      <td>122</td>\n",
       "      <td>120</td>\n",
       "      <td>0</td>\n",
       "    </tr>\n",
       "    <tr>\n",
       "      <th>3</th>\n",
       "      <td>4</td>\n",
       "      <td>Charmander</td>\n",
       "      <td>fire</td>\n",
       "      <td>NaN</td>\n",
       "      <td>0.6</td>\n",
       "      <td>8.5</td>\n",
       "      <td>309</td>\n",
       "      <td>52</td>\n",
       "      <td>43</td>\n",
       "      <td>39</td>\n",
       "      <td>65</td>\n",
       "      <td>60</td>\n",
       "      <td>50</td>\n",
       "      <td>0</td>\n",
       "    </tr>\n",
       "    <tr>\n",
       "      <th>4</th>\n",
       "      <td>5</td>\n",
       "      <td>Charmeleon</td>\n",
       "      <td>fire</td>\n",
       "      <td>NaN</td>\n",
       "      <td>1.1</td>\n",
       "      <td>19.0</td>\n",
       "      <td>405</td>\n",
       "      <td>64</td>\n",
       "      <td>58</td>\n",
       "      <td>58</td>\n",
       "      <td>80</td>\n",
       "      <td>80</td>\n",
       "      <td>65</td>\n",
       "      <td>0</td>\n",
       "    </tr>\n",
       "    <tr>\n",
       "      <th>...</th>\n",
       "      <td>...</td>\n",
       "      <td>...</td>\n",
       "      <td>...</td>\n",
       "      <td>...</td>\n",
       "      <td>...</td>\n",
       "      <td>...</td>\n",
       "      <td>...</td>\n",
       "      <td>...</td>\n",
       "      <td>...</td>\n",
       "      <td>...</td>\n",
       "      <td>...</td>\n",
       "      <td>...</td>\n",
       "      <td>...</td>\n",
       "      <td>...</td>\n",
       "    </tr>\n",
       "    <tr>\n",
       "      <th>796</th>\n",
       "      <td>797</td>\n",
       "      <td>Celesteela</td>\n",
       "      <td>steel</td>\n",
       "      <td>flying</td>\n",
       "      <td>9.2</td>\n",
       "      <td>999.9</td>\n",
       "      <td>570</td>\n",
       "      <td>101</td>\n",
       "      <td>103</td>\n",
       "      <td>97</td>\n",
       "      <td>61</td>\n",
       "      <td>107</td>\n",
       "      <td>101</td>\n",
       "      <td>1</td>\n",
       "    </tr>\n",
       "    <tr>\n",
       "      <th>797</th>\n",
       "      <td>798</td>\n",
       "      <td>Kartana</td>\n",
       "      <td>grass</td>\n",
       "      <td>steel</td>\n",
       "      <td>0.3</td>\n",
       "      <td>0.1</td>\n",
       "      <td>570</td>\n",
       "      <td>181</td>\n",
       "      <td>131</td>\n",
       "      <td>59</td>\n",
       "      <td>109</td>\n",
       "      <td>59</td>\n",
       "      <td>31</td>\n",
       "      <td>1</td>\n",
       "    </tr>\n",
       "    <tr>\n",
       "      <th>798</th>\n",
       "      <td>799</td>\n",
       "      <td>Guzzlord</td>\n",
       "      <td>dark</td>\n",
       "      <td>dragon</td>\n",
       "      <td>5.5</td>\n",
       "      <td>888.0</td>\n",
       "      <td>570</td>\n",
       "      <td>101</td>\n",
       "      <td>53</td>\n",
       "      <td>223</td>\n",
       "      <td>43</td>\n",
       "      <td>97</td>\n",
       "      <td>53</td>\n",
       "      <td>1</td>\n",
       "    </tr>\n",
       "    <tr>\n",
       "      <th>799</th>\n",
       "      <td>800</td>\n",
       "      <td>Necrozma</td>\n",
       "      <td>psychic</td>\n",
       "      <td>NaN</td>\n",
       "      <td>2.4</td>\n",
       "      <td>230.0</td>\n",
       "      <td>600</td>\n",
       "      <td>107</td>\n",
       "      <td>101</td>\n",
       "      <td>97</td>\n",
       "      <td>79</td>\n",
       "      <td>127</td>\n",
       "      <td>89</td>\n",
       "      <td>1</td>\n",
       "    </tr>\n",
       "    <tr>\n",
       "      <th>800</th>\n",
       "      <td>801</td>\n",
       "      <td>Magearna</td>\n",
       "      <td>steel</td>\n",
       "      <td>fairy</td>\n",
       "      <td>1.0</td>\n",
       "      <td>80.5</td>\n",
       "      <td>600</td>\n",
       "      <td>95</td>\n",
       "      <td>115</td>\n",
       "      <td>80</td>\n",
       "      <td>65</td>\n",
       "      <td>130</td>\n",
       "      <td>115</td>\n",
       "      <td>1</td>\n",
       "    </tr>\n",
       "  </tbody>\n",
       "</table>\n",
       "<p>801 rows × 14 columns</p>\n",
       "</div>"
      ],
      "text/plain": [
       "     Pokedex Number        Name Primary Type Secondary Type  Height (m)  \\\n",
       "0                 1   Bulbasaur        grass         poison         0.7   \n",
       "1                 2     Ivysaur        grass         poison         1.0   \n",
       "2                 3    Venusaur        grass         poison         2.0   \n",
       "3                 4  Charmander         fire            NaN         0.6   \n",
       "4                 5  Charmeleon         fire            NaN         1.1   \n",
       "..              ...         ...          ...            ...         ...   \n",
       "796             797  Celesteela        steel         flying         9.2   \n",
       "797             798     Kartana        grass          steel         0.3   \n",
       "798             799    Guzzlord         dark         dragon         5.5   \n",
       "799             800    Necrozma      psychic            NaN         2.4   \n",
       "800             801    Magearna        steel          fairy         1.0   \n",
       "\n",
       "     Weight (kg)  Total Base Stat  Attack  Defense   HP  Speed  \\\n",
       "0            6.9              318      49       49   45     45   \n",
       "1           13.0              405      62       63   60     60   \n",
       "2          100.0              625     100      123   80     80   \n",
       "3            8.5              309      52       43   39     65   \n",
       "4           19.0              405      64       58   58     80   \n",
       "..           ...              ...     ...      ...  ...    ...   \n",
       "796        999.9              570     101      103   97     61   \n",
       "797          0.1              570     181      131   59    109   \n",
       "798        888.0              570     101       53  223     43   \n",
       "799        230.0              600     107      101   97     79   \n",
       "800         80.5              600      95      115   80     65   \n",
       "\n",
       "     Special Attack  Special Defense  Legendary  \n",
       "0                65               65          0  \n",
       "1                80               80          0  \n",
       "2               122              120          0  \n",
       "3                60               50          0  \n",
       "4                80               65          0  \n",
       "..              ...              ...        ...  \n",
       "796             107              101          1  \n",
       "797              59               31          1  \n",
       "798              97               53          1  \n",
       "799             127               89          1  \n",
       "800             130              115          1  \n",
       "\n",
       "[801 rows x 14 columns]"
      ]
     },
     "execution_count": 50,
     "metadata": {},
     "output_type": "execute_result"
    }
   ],
   "source": [
    "import pandas as pd\n",
    "\n",
    "df = pd.read_csv(\"pokemon.csv\")\n",
    "df"
   ]
  },
  {
   "cell_type": "code",
   "execution_count": 51,
   "metadata": {},
   "outputs": [
    {
     "name": "stdout",
     "output_type": "stream",
     "text": [
      "🎉 All tests passed! 🎉\n"
     ]
    }
   ],
   "source": [
    "## == TEST CASES for Puzzle 1.1 ==\n",
    "# - This read-only cell contains test cases for your previous cell.\n",
    "# - If this cell runs without any error our output, you PASSED all test cases!\n",
    "# - If this cell results in any errors, check you previous cell, make changes, and RE-RUN your code and then this cell.\n",
    "assert ( 'df' in vars() ), \"Your DataFrame should be named df.\"\n",
    "assert( len(df) == 801 ), \"This is not the Pokemon Dataset we are looking for...\"\n",
    "\n",
    "## == SUCCESS MESSAGE ==\n",
    "# You will only see this message (with the emoji showing) if you passed all test cases:\n",
    "tada = \"\\N{PARTY POPPER}\"\n",
    "print(f\"{tada} All tests passed! {tada}\")"
   ]
  },
  {
   "cell_type": "markdown",
   "metadata": {},
   "source": [
    "## Puzzle 1.2: Narrowing Down our Dataset\n",
    "You may have noticed that our `df` contains both **quantitative** (numerical) and **qualitative** (text-based) data. For this lab, we only want to consider **quantitative (numerical)** columns to predict **Total Base Stat**. Among the quantitative columns we only want to use the columns that capture **combat stats**. These are the columns titled **Total Base Stat, Attack, Defense, HP, Speed, Special Attack, and Special Defense**\n",
    "\n",
    "Let's narrow down our dataset to only include the **quantitative (numerical) combat data**.\n",
    "\n",
    "First, using the code cell below, define a **list** of **strings** called `numerical_cols` that contains all the columns in our `df` that capture **combat data**. "
   ]
  },
  {
   "cell_type": "code",
   "execution_count": 52,
   "metadata": {},
   "outputs": [],
   "source": [
    "numerical_cols = [\"Total Base Stat\", \"Attack\", \"Defense\", \"HP\", \"Speed\", \"Special Attack\", \"Special Defense\"]"
   ]
  },
  {
   "cell_type": "markdown",
   "metadata": {},
   "source": [
    "Next, we're going to create a new DataFrame called `df_numerical` that **only includes** the **combat columns**. Do this in the cell below."
   ]
  },
  {
   "cell_type": "code",
   "execution_count": 53,
   "metadata": {},
   "outputs": [
    {
     "data": {
      "text/html": [
       "<div>\n",
       "<style scoped>\n",
       "    .dataframe tbody tr th:only-of-type {\n",
       "        vertical-align: middle;\n",
       "    }\n",
       "\n",
       "    .dataframe tbody tr th {\n",
       "        vertical-align: top;\n",
       "    }\n",
       "\n",
       "    .dataframe thead th {\n",
       "        text-align: right;\n",
       "    }\n",
       "</style>\n",
       "<table border=\"1\" class=\"dataframe\">\n",
       "  <thead>\n",
       "    <tr style=\"text-align: right;\">\n",
       "      <th></th>\n",
       "      <th>Total Base Stat</th>\n",
       "      <th>Attack</th>\n",
       "      <th>Defense</th>\n",
       "      <th>HP</th>\n",
       "      <th>Speed</th>\n",
       "      <th>Special Attack</th>\n",
       "      <th>Special Defense</th>\n",
       "    </tr>\n",
       "  </thead>\n",
       "  <tbody>\n",
       "    <tr>\n",
       "      <th>0</th>\n",
       "      <td>318</td>\n",
       "      <td>49</td>\n",
       "      <td>49</td>\n",
       "      <td>45</td>\n",
       "      <td>45</td>\n",
       "      <td>65</td>\n",
       "      <td>65</td>\n",
       "    </tr>\n",
       "    <tr>\n",
       "      <th>1</th>\n",
       "      <td>405</td>\n",
       "      <td>62</td>\n",
       "      <td>63</td>\n",
       "      <td>60</td>\n",
       "      <td>60</td>\n",
       "      <td>80</td>\n",
       "      <td>80</td>\n",
       "    </tr>\n",
       "    <tr>\n",
       "      <th>2</th>\n",
       "      <td>625</td>\n",
       "      <td>100</td>\n",
       "      <td>123</td>\n",
       "      <td>80</td>\n",
       "      <td>80</td>\n",
       "      <td>122</td>\n",
       "      <td>120</td>\n",
       "    </tr>\n",
       "    <tr>\n",
       "      <th>3</th>\n",
       "      <td>309</td>\n",
       "      <td>52</td>\n",
       "      <td>43</td>\n",
       "      <td>39</td>\n",
       "      <td>65</td>\n",
       "      <td>60</td>\n",
       "      <td>50</td>\n",
       "    </tr>\n",
       "    <tr>\n",
       "      <th>4</th>\n",
       "      <td>405</td>\n",
       "      <td>64</td>\n",
       "      <td>58</td>\n",
       "      <td>58</td>\n",
       "      <td>80</td>\n",
       "      <td>80</td>\n",
       "      <td>65</td>\n",
       "    </tr>\n",
       "    <tr>\n",
       "      <th>...</th>\n",
       "      <td>...</td>\n",
       "      <td>...</td>\n",
       "      <td>...</td>\n",
       "      <td>...</td>\n",
       "      <td>...</td>\n",
       "      <td>...</td>\n",
       "      <td>...</td>\n",
       "    </tr>\n",
       "    <tr>\n",
       "      <th>796</th>\n",
       "      <td>570</td>\n",
       "      <td>101</td>\n",
       "      <td>103</td>\n",
       "      <td>97</td>\n",
       "      <td>61</td>\n",
       "      <td>107</td>\n",
       "      <td>101</td>\n",
       "    </tr>\n",
       "    <tr>\n",
       "      <th>797</th>\n",
       "      <td>570</td>\n",
       "      <td>181</td>\n",
       "      <td>131</td>\n",
       "      <td>59</td>\n",
       "      <td>109</td>\n",
       "      <td>59</td>\n",
       "      <td>31</td>\n",
       "    </tr>\n",
       "    <tr>\n",
       "      <th>798</th>\n",
       "      <td>570</td>\n",
       "      <td>101</td>\n",
       "      <td>53</td>\n",
       "      <td>223</td>\n",
       "      <td>43</td>\n",
       "      <td>97</td>\n",
       "      <td>53</td>\n",
       "    </tr>\n",
       "    <tr>\n",
       "      <th>799</th>\n",
       "      <td>600</td>\n",
       "      <td>107</td>\n",
       "      <td>101</td>\n",
       "      <td>97</td>\n",
       "      <td>79</td>\n",
       "      <td>127</td>\n",
       "      <td>89</td>\n",
       "    </tr>\n",
       "    <tr>\n",
       "      <th>800</th>\n",
       "      <td>600</td>\n",
       "      <td>95</td>\n",
       "      <td>115</td>\n",
       "      <td>80</td>\n",
       "      <td>65</td>\n",
       "      <td>130</td>\n",
       "      <td>115</td>\n",
       "    </tr>\n",
       "  </tbody>\n",
       "</table>\n",
       "<p>801 rows × 7 columns</p>\n",
       "</div>"
      ],
      "text/plain": [
       "     Total Base Stat  Attack  Defense   HP  Speed  Special Attack  \\\n",
       "0                318      49       49   45     45              65   \n",
       "1                405      62       63   60     60              80   \n",
       "2                625     100      123   80     80             122   \n",
       "3                309      52       43   39     65              60   \n",
       "4                405      64       58   58     80              80   \n",
       "..               ...     ...      ...  ...    ...             ...   \n",
       "796              570     101      103   97     61             107   \n",
       "797              570     181      131   59    109              59   \n",
       "798              570     101       53  223     43              97   \n",
       "799              600     107      101   97     79             127   \n",
       "800              600      95      115   80     65             130   \n",
       "\n",
       "     Special Defense  \n",
       "0                 65  \n",
       "1                 80  \n",
       "2                120  \n",
       "3                 50  \n",
       "4                 65  \n",
       "..               ...  \n",
       "796              101  \n",
       "797               31  \n",
       "798               53  \n",
       "799               89  \n",
       "800              115  \n",
       "\n",
       "[801 rows x 7 columns]"
      ]
     },
     "execution_count": 53,
     "metadata": {},
     "output_type": "execute_result"
    }
   ],
   "source": [
    "df_numerical = df[numerical_cols]\n",
    "df_numerical"
   ]
  },
  {
   "cell_type": "code",
   "execution_count": 54,
   "metadata": {},
   "outputs": [
    {
     "name": "stdout",
     "output_type": "stream",
     "text": [
      "🎉 All tests passed! 🎉\n"
     ]
    }
   ],
   "source": [
    "## == TEST CASES for Puzzle 1.2  ==\n",
    "# - This read-only cell contains test cases for your previous cell.\n",
    "# - If this cell runs without any error our output, you PASSED all test cases!\n",
    "# - If this cell results in any errors,/ check you previous cell, make changes, and RE-RUN your code and then this cell.\n",
    "import numpy as np \n",
    "assert( ('numerical_cols' in vars()) and (type(numerical_cols) == list)), \"You should be creating a list of numerical columns named `numerical_cols`.\"\n",
    "assert( len(numerical_cols) == 7 ), \"There are exactly 7 numerical columns in this dataset.\"\n",
    "assert( all(df[col].dtype in (np.float64, np.int64) for col in numerical_cols) ), \"There is a non-numerical column in `numerical_cols`.\"\n",
    "\n",
    "assert( 'df_numerical' in vars() ), \"The new DataFrame should be named`df_numerical`.\"\n",
    "assert( len(df) == len(df_numerical) ), \"df_numerical should be the same length as our original df.\"\n",
    "assert (len(df_numerical.columns.to_list()) == 7 ), \"df_numerical should have 7 columns.\"\n",
    "assert( all(df_numerical[col].dtype in (np.float64, np.int64) for col in df_numerical.columns) ), \"There is a non-numerical column in df_numerical.\"\n",
    "\n",
    "## == SUCCESS MESSAGE ==\n",
    "# You will only see this message (with the emoji showing) if you passed all test cases:\n",
    "tada = \"\\N{PARTY POPPER}\"\n",
    "print(f\"{tada} All tests passed! {tada}\")"
   ]
  },
  {
   "cell_type": "markdown",
   "metadata": {},
   "source": [
    "## Puzzle 1.3: Correlation Matrix\n",
    "In lecture, you learned about the correlation coefficient $r$ which measures the **strength of linear association** between two variables ($x$ and $y$).\n",
    "\n",
    "Find the correlation coefficient matrix for the numeric data."
   ]
  },
  {
   "cell_type": "code",
   "execution_count": 55,
   "metadata": {},
   "outputs": [
    {
     "data": {
      "text/html": [
       "<div>\n",
       "<style scoped>\n",
       "    .dataframe tbody tr th:only-of-type {\n",
       "        vertical-align: middle;\n",
       "    }\n",
       "\n",
       "    .dataframe tbody tr th {\n",
       "        vertical-align: top;\n",
       "    }\n",
       "\n",
       "    .dataframe thead th {\n",
       "        text-align: right;\n",
       "    }\n",
       "</style>\n",
       "<table border=\"1\" class=\"dataframe\">\n",
       "  <thead>\n",
       "    <tr style=\"text-align: right;\">\n",
       "      <th></th>\n",
       "      <th>Total Base Stat</th>\n",
       "      <th>Attack</th>\n",
       "      <th>Defense</th>\n",
       "      <th>HP</th>\n",
       "      <th>Speed</th>\n",
       "      <th>Special Attack</th>\n",
       "      <th>Special Defense</th>\n",
       "    </tr>\n",
       "  </thead>\n",
       "  <tbody>\n",
       "    <tr>\n",
       "      <th>Total Base Stat</th>\n",
       "      <td>1.000000</td>\n",
       "      <td>0.730134</td>\n",
       "      <td>0.629620</td>\n",
       "      <td>0.620624</td>\n",
       "      <td>0.547666</td>\n",
       "      <td>0.741120</td>\n",
       "      <td>0.717434</td>\n",
       "    </tr>\n",
       "    <tr>\n",
       "      <th>Attack</th>\n",
       "      <td>0.730134</td>\n",
       "      <td>1.000000</td>\n",
       "      <td>0.468915</td>\n",
       "      <td>0.410616</td>\n",
       "      <td>0.352703</td>\n",
       "      <td>0.368154</td>\n",
       "      <td>0.265836</td>\n",
       "    </tr>\n",
       "    <tr>\n",
       "      <th>Defense</th>\n",
       "      <td>0.629620</td>\n",
       "      <td>0.468915</td>\n",
       "      <td>1.000000</td>\n",
       "      <td>0.242378</td>\n",
       "      <td>0.007934</td>\n",
       "      <td>0.241882</td>\n",
       "      <td>0.526348</td>\n",
       "    </tr>\n",
       "    <tr>\n",
       "      <th>HP</th>\n",
       "      <td>0.620624</td>\n",
       "      <td>0.410616</td>\n",
       "      <td>0.242378</td>\n",
       "      <td>1.000000</td>\n",
       "      <td>0.160760</td>\n",
       "      <td>0.365973</td>\n",
       "      <td>0.366971</td>\n",
       "    </tr>\n",
       "    <tr>\n",
       "      <th>Speed</th>\n",
       "      <td>0.547666</td>\n",
       "      <td>0.352703</td>\n",
       "      <td>0.007934</td>\n",
       "      <td>0.160760</td>\n",
       "      <td>1.000000</td>\n",
       "      <td>0.438981</td>\n",
       "      <td>0.225977</td>\n",
       "    </tr>\n",
       "    <tr>\n",
       "      <th>Special Attack</th>\n",
       "      <td>0.741120</td>\n",
       "      <td>0.368154</td>\n",
       "      <td>0.241882</td>\n",
       "      <td>0.365973</td>\n",
       "      <td>0.438981</td>\n",
       "      <td>1.000000</td>\n",
       "      <td>0.511496</td>\n",
       "    </tr>\n",
       "    <tr>\n",
       "      <th>Special Defense</th>\n",
       "      <td>0.717434</td>\n",
       "      <td>0.265836</td>\n",
       "      <td>0.526348</td>\n",
       "      <td>0.366971</td>\n",
       "      <td>0.225977</td>\n",
       "      <td>0.511496</td>\n",
       "      <td>1.000000</td>\n",
       "    </tr>\n",
       "  </tbody>\n",
       "</table>\n",
       "</div>"
      ],
      "text/plain": [
       "                 Total Base Stat    Attack   Defense        HP     Speed  \\\n",
       "Total Base Stat         1.000000  0.730134  0.629620  0.620624  0.547666   \n",
       "Attack                  0.730134  1.000000  0.468915  0.410616  0.352703   \n",
       "Defense                 0.629620  0.468915  1.000000  0.242378  0.007934   \n",
       "HP                      0.620624  0.410616  0.242378  1.000000  0.160760   \n",
       "Speed                   0.547666  0.352703  0.007934  0.160760  1.000000   \n",
       "Special Attack          0.741120  0.368154  0.241882  0.365973  0.438981   \n",
       "Special Defense         0.717434  0.265836  0.526348  0.366971  0.225977   \n",
       "\n",
       "                 Special Attack  Special Defense  \n",
       "Total Base Stat        0.741120         0.717434  \n",
       "Attack                 0.368154         0.265836  \n",
       "Defense                0.241882         0.526348  \n",
       "HP                     0.365973         0.366971  \n",
       "Speed                  0.438981         0.225977  \n",
       "Special Attack         1.000000         0.511496  \n",
       "Special Defense        0.511496         1.000000  "
      ]
     },
     "execution_count": 55,
     "metadata": {},
     "output_type": "execute_result"
    }
   ],
   "source": [
    "df_numerical.corr()"
   ]
  },
  {
   "cell_type": "markdown",
   "metadata": {},
   "source": [
    "### ML Vocabulary: Features and Labels\n",
    "\n",
    "Quick vocabulary lesson! In machine learning, we often organize **instances** in our dataset into **features** and **labels** (in this lab, an **instance** is one row of our DataFrame). \n",
    "\n",
    "**Features** are characteristics that describe each **instance** in our dataset. These **features** are the **inputs** fed into machine learning models that will make **predictions**. They are our **independent variables**, or $X$. \n",
    "\n",
    "**Labels** are the output or **target** variables we are **trying to predict**. They are our **dependent variables**, or $y$. \n",
    "\n",
    "In the context of our Pokemon dataset, the single **label** we are trying to predict is the **Total Base Stat** of a pokemon. "
   ]
  },
  {
   "cell_type": "markdown",
   "metadata": {},
   "source": [
    "### Analysis: Potential Features\n",
    "\n",
    "**Q1: Given that our label (what we want to predict) is Total Base Stat, what are some *meaningful features* we could use to make a prediction? Use numbers from the correlation matrix to support your answer.**"
   ]
  },
  {
   "cell_type": "markdown",
   "metadata": {},
   "source": [
    "*(✏️ Edit this cell to replace this text with your answer. ✏️)*"
   ]
  },
  {
   "cell_type": "markdown",
   "metadata": {},
   "source": [
    "## Puzzle 1.4: Visualizations\n",
    "For the purposes of this lab, we are ultimately interested in how we can best predict **Total Base Stat** with a **single feature** ($X$) from our DataFrame, `df`. \n",
    "\n",
    "But first, let's observe the relationships between various other columns in `df`. \n",
    "\n",
    "### Scatter Plot #1: Special Defense and Special Attack\n",
    "Generate a scatter plot from `df` where the dependent variable ($y$) is `Special Defense` and independent variable ($X$) is `Special Attack`. Make sure to label the axes and have a title!"
   ]
  },
  {
   "cell_type": "code",
   "execution_count": 56,
   "metadata": {},
   "outputs": [
    {
     "data": {
      "text/plain": [
       "<Axes: title={'center': 'Special Defense and Attack'}, xlabel='Special Attack', ylabel='Special Defense'>"
      ]
     },
     "execution_count": 56,
     "metadata": {},
     "output_type": "execute_result"
    },
    {
     "data": {
      "image/png": "[encoded data removed]",
      "text/plain": [
       "<Figure size 640x480 with 1 Axes>"
      ]
     },
     "metadata": {},
     "output_type": "display_data"
    }
   ],
   "source": [
    "df.plot.scatter(x=\"Special Attack\", y=\"Special Defense\", xlabel=\"Special Attack\", ylabel=\"Special Defense\", title=\"Special Defense and Attack\")"
   ]
  },
  {
   "cell_type": "markdown",
   "metadata": {},
   "source": [
    "**Q2**: Do you see any *trends* in the scatter plot between **Special Defense** and **Special Attack**? If your group were to describe the *correlation*, how would you all describe it? \n",
    "Is the relationship positive or negative? Does it seem linear or non-linear? Is there a strong or weak *relationship* between the variables?\n",
    "\n",
    "Discuss these questions with your group and summarize what was said in your group discussion below."
   ]
  },
  {
   "cell_type": "markdown",
   "metadata": {},
   "source": [
    "*(✏️ Edit this cell to replace this text with your answer. ✏️)*"
   ]
  },
  {
   "cell_type": "markdown",
   "metadata": {},
   "source": [
    "### Scatter Plot #2: Speed and Defense\n",
    "Generate a scatter plot from `df` where the dependent variable ($y$) is `Speed` and independent variable ($X$) is `Defense`. Make sure to label the axes and have a title!"
   ]
  },
  {
   "cell_type": "code",
   "execution_count": 57,
   "metadata": {},
   "outputs": [
    {
     "data": {
      "text/plain": [
       "<Axes: title={'center': 'Speed and Defense'}, xlabel='Defense', ylabel='Speed'>"
      ]
     },
     "execution_count": 57,
     "metadata": {},
     "output_type": "execute_result"
    },
    {
     "data": {
      "image/png": "[encoded data removed]",
      "text/plain": [
       "<Figure size 640x480 with 1 Axes>"
      ]
     },
     "metadata": {},
     "output_type": "display_data"
    }
   ],
   "source": [
    "df.plot.scatter(y=\"Speed\", x=\"Defense\", ylabel=\"Speed\", xlabel=\"Defense\", title= \"Speed and Defense\")"
   ]
  },
  {
   "cell_type": "markdown",
   "metadata": {},
   "source": [
    "**Q3**: Do you see any *trends* in the scatter plot between **Speed** and **Defense**? If your group were to describe the *correlation*, how would you all describe it? \n",
    "Is the relationship positive or negative? Does it seem linear or non-linear? Is there a strong or weak *relationship* between the variables?\n",
    "\n",
    "Discuss these questions with your group and summarize what was said in your group discussion below."
   ]
  },
  {
   "cell_type": "markdown",
   "metadata": {},
   "source": [
    "*(✏️ Edit this cell to replace this text with your answer. ✏️)*"
   ]
  },
  {
   "cell_type": "markdown",
   "metadata": {},
   "source": [
    "### Scatter Plot #3: Total Base Stat and Attack\n",
    "Now, let's circle back to our original goal of predicting **Total Base Stat**. \n",
    "\n",
    "Generate a scatter plot from `df` where the dependent variable ($y$) is `Total Base Stat` and independent variable ($X$) is `Attack`. Make sure to label the axes and have a title!\n",
    "\n"
   ]
  },
  {
   "cell_type": "code",
   "execution_count": 58,
   "metadata": {},
   "outputs": [
    {
     "data": {
      "text/plain": [
       "<Axes: title={'center': 'Total Base Stat and Attack'}, xlabel='Attack', ylabel='Total Base Stat'>"
      ]
     },
     "execution_count": 58,
     "metadata": {},
     "output_type": "execute_result"
    },
    {
     "data": {
      "image/png": "[encoded data removed]",
      "text/plain": [
       "<Figure size 640x480 with 1 Axes>"
      ]
     },
     "metadata": {},
     "output_type": "display_data"
    }
   ],
   "source": [
    "df.plot.scatter(y=\"Total Base Stat\", x=\"Attack\", ylabel= \"Total Base Stat\", xlabel=\"Attack\", title=\"Total Base Stat and Attack\")"
   ]
  },
  {
   "cell_type": "markdown",
   "metadata": {},
   "source": [
    "**Q4**: Do you see any *trends* in the scatter plot between **Total Base Stat** and **Attack**? If your group were to describe the *correlation*, how would you all describe it? \n",
    "Is the relationship positive or negative? Does it seem linear or non-linear? Is there a strong or weak *relationship* between the variables?\n",
    "\n",
    "Discuss these questions with your group and summarize what was said in your group discussion below."
   ]
  },
  {
   "cell_type": "markdown",
   "metadata": {},
   "source": [
    "*(✏️ Edit this cell to replace this text with your answer. ✏️)*"
   ]
  },
  {
   "cell_type": "markdown",
   "metadata": {},
   "source": [
    "<hr style=\"color: #DD3403;\">"
   ]
  },
  {
   "cell_type": "markdown",
   "metadata": {},
   "source": [
    "# Part 2: Simple Linear Regression\n",
    "\n",
    "From Scatter Plot #3 above, you may have noticed that **Total Base Stat** and **Attack** have significant **linear correlation**. \n",
    "\n",
    "In lecture, we learned that **linear regression** allows us to predict values based on a \"line of best fit\". The equation for simple linear regression is:\n",
    "\n",
    "> $$y = (\\text{slope}) * X + \\text{intercept}$$\n",
    "\n",
    "For this portion of the lab, we will be using **linear regression** to explore the relationship between **Attack** and **Total Base Stat** of pokemon in our `df`. \n",
    "\n",
    "We can apply formulas we have learned in lecture alongside Python to create a **linear regression model** to predict **Total Base Stat** ($y$) given **Attack** ($X$)."
   ]
  },
  {
   "cell_type": "markdown",
   "metadata": {},
   "source": [
    "## Puzzle 2.1: Calculating Slope of the Regression Line\n",
    "In lecture, you learned how to **calculate the slope** of the regression line given your $X$ and $y$ columns of data. The formula is as follows:\n",
    "\n",
    "> $$\\text{slope} = r * \\frac{SD(y)}{SD(x)}$$\n",
    "\n",
    "Where $r$ is the correlation coefficient between $X$ and $y$, and $SD$ stands for standard deviation. \n",
    "\n",
    "In the cell below, find the correlation coefficient and store it in a variable called `r`. "
   ]
  },
  {
   "cell_type": "code",
   "execution_count": 59,
   "metadata": {},
   "outputs": [
    {
     "data": {
      "text/plain": [
       "0.7301341119500759"
      ]
     },
     "execution_count": 59,
     "metadata": {},
     "output_type": "execute_result"
    }
   ],
   "source": [
    "r = df_numerical.corr()[\"Attack\"][\"Total Base Stat\"]\n",
    "r.item()"
   ]
  },
  {
   "cell_type": "markdown",
   "metadata": {},
   "source": [
    "With this, find the slope of the regression line where the dependent variable ($y$) is `Total Base Stat` and the independent variable ($X$) is `Attack`, storing your answer in the **numeric variable** `slope` below:\n",
    "\n",
    "**Tip: Be sure to use `df_numerical` when getting $r$ from the correlation matrix. This is because some versions of Pandas will not run a correlation matrix on a DataFrame that contains non-numerical data.**"
   ]
  },
  {
   "cell_type": "code",
   "execution_count": 60,
   "metadata": {},
   "outputs": [
    {
     "data": {
      "text/plain": [
       "2.7063989564936697"
      ]
     },
     "execution_count": 60,
     "metadata": {},
     "output_type": "execute_result"
    }
   ],
   "source": [
    "import numpy as np\n",
    "\n",
    "slope = r * df_numerical[\"Total Base Stat\"].std() / df_numerical[\"Attack\"].std()\n",
    "slope.item()"
   ]
  },
  {
   "cell_type": "markdown",
   "metadata": {},
   "source": [
    "**Q5: How do you interpret your slope?  What does it mean in terms of our problem?**"
   ]
  },
  {
   "cell_type": "markdown",
   "metadata": {},
   "source": [
    "*(✏️ Edit this cell to replace this text with your answer. ✏️)*"
   ]
  },
  {
   "cell_type": "markdown",
   "metadata": {},
   "source": [
    "## Puzzle 2.2: Calculating Intercept of the Regression Line\n",
    "You also learned how to calculate the **y-intercept** of the regression line in lecture. The formula is as follows:\n",
    "\n",
    "> $$\\text{intercept} = \\text{avg}(y) - \\text{slope} * \\text{avg}(X)$$\n",
    "\n",
    "Find the **y-intercept** of the regression line between `Total Base Stat` ($y$) and `Attack` ($X$), storing your result in the numeric variable `intercept` below: "
   ]
  },
  {
   "cell_type": "code",
   "execution_count": 61,
   "metadata": {},
   "outputs": [
    {
     "data": {
      "text/plain": [
       "217.66309048343172"
      ]
     },
     "execution_count": 61,
     "metadata": {},
     "output_type": "execute_result"
    }
   ],
   "source": [
    "intercept = (df_numerical[\"Total Base Stat\"].mean() - slope * df_numerical[\"Attack\"].mean())\n",
    "intercept.item()"
   ]
  },
  {
   "cell_type": "markdown",
   "metadata": {},
   "source": [
    "**Q6: How do you interpret your intercept?  What does it mean in terms of our problem?**"
   ]
  },
  {
   "cell_type": "markdown",
   "metadata": {},
   "source": [
    "*(✏️ Edit this cell to replace this text with your answer. ✏️)*"
   ]
  },
  {
   "cell_type": "code",
   "execution_count": 62,
   "metadata": {},
   "outputs": [
    {
     "name": "stdout",
     "output_type": "stream",
     "text": [
      "🎉 All tests passed! 🎉\n"
     ]
    }
   ],
   "source": [
    "## == TEST CASES for Puzzle 2.1, 2.2 ==\n",
    "# - This read-only cell contains test cases for your previous cell.\n",
    "# - If this cell runs without any error our output, you PASSED all test cases!\n",
    "# - If this cell results in any errors,/ check you previous cell, make changes, and RE-RUN your code and then this cell.\n",
    "from math import isclose\n",
    "assert( isclose(slope, 2.706398956493671) ), \"The slope doesn't seem correct.\"\n",
    "assert( isclose(intercept, 217.66309048343163) ), \"The intercept doesn't seem correct.\"\n",
    "\n",
    "## == SUCCESS MESSAGE ==\n",
    "# You will only see this message (with the emoji showing) if you passed all test cases:\n",
    "tada = \"\\N{PARTY POPPER}\"\n",
    "print(f\"{tada} All tests passed! {tada}\")"
   ]
  },
  {
   "cell_type": "markdown",
   "metadata": {},
   "source": [
    "### Visualizing Your Work: Seaborn \n",
    "\n",
    "If you **do not** have the `seaborn` library installed, try running any one of following commands in your **terminal** until successful installation:\n",
    "- `pip install seaborn`\n",
    "- `pip3 install seaborn`\n",
    "- `py -m pip install seaborn`\n",
    "- `python3 -m pip install seaborn`\n",
    "\n",
    "If you are still having import errors trying these commands, **let your lab CAs and TAs know**! They will help you through the installation process. "
   ]
  },
  {
   "cell_type": "markdown",
   "metadata": {},
   "source": [
    "Now that you have calculated the **slope** and **y-intercept** of your regression line, let's **visualize** it. Run the following code that uses the `seaborn` library to **plot a regression line** on top of a scatter plot of between `Attack` and `Total Base Stat` - your regression line will be **red**. "
   ]
  },
  {
   "cell_type": "code",
   "execution_count": 63,
   "metadata": {},
   "outputs": [
    {
     "data": {
      "text/plain": [
       "Text(0.5, 1.0, 'Attack vs Total Base Stat')"
      ]
     },
     "execution_count": 63,
     "metadata": {},
     "output_type": "execute_result"
    },
    {
     "data": {
      "image/png": "[encoded data removed]",
      "text/plain": [
       "<Figure size 640x480 with 1 Axes>"
      ]
     },
     "metadata": {},
     "output_type": "display_data"
    }
   ],
   "source": [
    "# Run the following code to see the regression line you made!!! :)\n",
    "import seaborn as sns\n",
    "import matplotlib.pyplot as plt\n",
    "\n",
    "# Create scatter plot with regression line:\n",
    "sns.regplot(data=df, x=\"Attack\", y=\"Total Base Stat\", ci=None, line_kws={'color':'red'})\n",
    "plt.title(\"Attack vs Total Base Stat\")"
   ]
  },
  {
   "cell_type": "markdown",
   "metadata": {},
   "source": [
    "### Analysis: Regression Plot\n",
    "**Q7: According to our model if a pokemon has an Attack of 100, what do we predict its Total Base Stat to be? (A range of answers are acceptable, just try your best to be accurate)**"
   ]
  },
  {
   "cell_type": "markdown",
   "metadata": {},
   "source": [
    "*(✏️ Edit this cell to replace this text with your answer. ✏️)*"
   ]
  },
  {
   "cell_type": "markdown",
   "metadata": {},
   "source": [
    "<hr style=\"color: #DD3403;\">"
   ]
  },
  {
   "cell_type": "markdown",
   "metadata": {},
   "source": [
    "# Part 3: Predictions and Residuals\n",
    "\n",
    "## Puzzle 3.1: Predicting Total Base Stat\n",
    "\n",
    "In Part 2, you found the intercept and slope for a line of best fit. Using your regression line, make a new column in our DataFrame `df` named `Total Base Stat Prediction`, which will store the **predicted Total Base Stat** for each Pokemon given its `Attack`. Use the values you calculated above in an equation of the regression line to populate this column. Remember,\n",
    "\n",
    "> $$y = (\\text{slope} * X) + \\text{intercept}$$"
   ]
  },
  {
   "cell_type": "code",
   "execution_count": 64,
   "metadata": {},
   "outputs": [
    {
     "data": {
      "text/plain": [
       "0      350.276639\n",
       "1      385.459826\n",
       "2      488.302986\n",
       "3      358.395836\n",
       "4      390.872624\n",
       "          ...    \n",
       "796    491.009385\n",
       "797    707.521302\n",
       "798    491.009385\n",
       "799    507.247779\n",
       "800    474.770991\n",
       "Name: Total Base Stat Prediction, Length: 801, dtype: float64"
      ]
     },
     "execution_count": 64,
     "metadata": {},
     "output_type": "execute_result"
    }
   ],
   "source": [
    "df[\"Total Base Stat Prediction\"] = (slope * df[\"Attack\"]) + intercept\n",
    "df[\"Total Base Stat Prediction\"]"
   ]
  },
  {
   "cell_type": "code",
   "execution_count": 65,
   "metadata": {},
   "outputs": [
    {
     "name": "stdout",
     "output_type": "stream",
     "text": [
      "🎉 All tests passed! 🎉\n"
     ]
    }
   ],
   "source": [
    "## == TEST CASES for Puzzle 3.1  ==\n",
    "# - This read-only cell contains test cases for your previous cell.\n",
    "# - If this cell runs without any error our output, you PASSED all test cases!\n",
    "# - If this cell results in any errors,/ check you previous cell, make changes, and RE-RUN your code and then this cell.\n",
    "from math import isclose\n",
    "assert( 'Total Base Stat Prediction' in df.columns.to_list() ), \"Your DataFrame df does not contain a new column `Total Base Stat Prediction`.\"\n",
    "assert( isclose(df[\"Total Base Stat Prediction\"].mean(), 428.37702871410744) ), \"You have not calculated the predicted Total Base Stat correctly. Double-check your formula.\"\n",
    "\n",
    "## == SUCCESS MESSAGE ==\n",
    "# You will only see this message (with the emoji showing) if you passed all test cases:\n",
    "tada = \"\\N{PARTY POPPER}\"\n",
    "print(f\"{tada} All tests passed! {tada}\")"
   ]
  },
  {
   "cell_type": "markdown",
   "metadata": {},
   "source": [
    "## Puzzle 3.2: Calculating Residuals\n",
    "Residuals are the **differences between** the **observed (actual) value** of $y$ (`Total Base Stat`) and the **predicted value** of $y$ (`Total Base Stat Prediction`, or just $\\hat{y}$).\n",
    "\n",
    "Let's **find the residuals** and **evaluate** the simple regression model! \n",
    "\n",
    "In the following cell, write the Python code create a new column called `Residual` to store the **residuals** or prediction errors."
   ]
  },
  {
   "cell_type": "code",
   "execution_count": 66,
   "metadata": {},
   "outputs": [],
   "source": [
    "df[\"Residual\"] = df[\"Total Base Stat\"] - df[\"Total Base Stat Prediction\"]"
   ]
  },
  {
   "cell_type": "markdown",
   "metadata": {},
   "source": [
    "Now let us try to find out the top **20 pokemon** with the highest residual in absolute value and store it in a DataFrame `df_worst`.<br>\n",
    "Hint: You will need to create a new column named **Absolute Residual** using the abs functionality."
   ]
  },
  {
   "cell_type": "code",
   "execution_count": 69,
   "metadata": {},
   "outputs": [
    {
     "data": {
      "text/html": [
       "<div>\n",
       "<style scoped>\n",
       "    .dataframe tbody tr th:only-of-type {\n",
       "        vertical-align: middle;\n",
       "    }\n",
       "\n",
       "    .dataframe tbody tr th {\n",
       "        vertical-align: top;\n",
       "    }\n",
       "\n",
       "    .dataframe thead th {\n",
       "        text-align: right;\n",
       "    }\n",
       "</style>\n",
       "<table border=\"1\" class=\"dataframe\">\n",
       "  <thead>\n",
       "    <tr style=\"text-align: right;\">\n",
       "      <th></th>\n",
       "      <th>Pokedex Number</th>\n",
       "      <th>Name</th>\n",
       "      <th>Primary Type</th>\n",
       "      <th>Secondary Type</th>\n",
       "      <th>Height (m)</th>\n",
       "      <th>Weight (kg)</th>\n",
       "      <th>Total Base Stat</th>\n",
       "      <th>Attack</th>\n",
       "      <th>Defense</th>\n",
       "      <th>HP</th>\n",
       "      <th>Speed</th>\n",
       "      <th>Special Attack</th>\n",
       "      <th>Special Defense</th>\n",
       "      <th>Legendary</th>\n",
       "      <th>Total Base Stat Prediction</th>\n",
       "      <th>Residual</th>\n",
       "      <th>Absolute Residual</th>\n",
       "    </tr>\n",
       "  </thead>\n",
       "  <tbody>\n",
       "    <tr>\n",
       "      <th>241</th>\n",
       "      <td>242</td>\n",
       "      <td>Blissey</td>\n",
       "      <td>normal</td>\n",
       "      <td>NaN</td>\n",
       "      <td>1.5</td>\n",
       "      <td>46.8</td>\n",
       "      <td>540</td>\n",
       "      <td>10</td>\n",
       "      <td>10</td>\n",
       "      <td>255</td>\n",
       "      <td>55</td>\n",
       "      <td>75</td>\n",
       "      <td>135</td>\n",
       "      <td>0</td>\n",
       "      <td>244.727080</td>\n",
       "      <td>295.272920</td>\n",
       "      <td>295.272920</td>\n",
       "    </tr>\n",
       "    <tr>\n",
       "      <th>212</th>\n",
       "      <td>213</td>\n",
       "      <td>Shuckle</td>\n",
       "      <td>bug</td>\n",
       "      <td>rock</td>\n",
       "      <td>0.6</td>\n",
       "      <td>20.5</td>\n",
       "      <td>505</td>\n",
       "      <td>10</td>\n",
       "      <td>230</td>\n",
       "      <td>20</td>\n",
       "      <td>5</td>\n",
       "      <td>10</td>\n",
       "      <td>230</td>\n",
       "      <td>0</td>\n",
       "      <td>244.727080</td>\n",
       "      <td>260.272920</td>\n",
       "      <td>260.272920</td>\n",
       "    </tr>\n",
       "    <tr>\n",
       "      <th>64</th>\n",
       "      <td>65</td>\n",
       "      <td>Alakazam</td>\n",
       "      <td>psychic</td>\n",
       "      <td>NaN</td>\n",
       "      <td>1.5</td>\n",
       "      <td>48.0</td>\n",
       "      <td>600</td>\n",
       "      <td>50</td>\n",
       "      <td>65</td>\n",
       "      <td>55</td>\n",
       "      <td>150</td>\n",
       "      <td>175</td>\n",
       "      <td>105</td>\n",
       "      <td>0</td>\n",
       "      <td>352.983038</td>\n",
       "      <td>247.016962</td>\n",
       "      <td>247.016962</td>\n",
       "    </tr>\n",
       "    <tr>\n",
       "      <th>554</th>\n",
       "      <td>555</td>\n",
       "      <td>Darmanitan</td>\n",
       "      <td>fire</td>\n",
       "      <td>fire</td>\n",
       "      <td>1.3</td>\n",
       "      <td>92.9</td>\n",
       "      <td>540</td>\n",
       "      <td>30</td>\n",
       "      <td>105</td>\n",
       "      <td>105</td>\n",
       "      <td>55</td>\n",
       "      <td>140</td>\n",
       "      <td>105</td>\n",
       "      <td>0</td>\n",
       "      <td>298.855059</td>\n",
       "      <td>241.144941</td>\n",
       "      <td>241.144941</td>\n",
       "    </tr>\n",
       "    <tr>\n",
       "      <th>377</th>\n",
       "      <td>378</td>\n",
       "      <td>Regice</td>\n",
       "      <td>ice</td>\n",
       "      <td>NaN</td>\n",
       "      <td>1.8</td>\n",
       "      <td>175.0</td>\n",
       "      <td>580</td>\n",
       "      <td>50</td>\n",
       "      <td>100</td>\n",
       "      <td>80</td>\n",
       "      <td>50</td>\n",
       "      <td>100</td>\n",
       "      <td>200</td>\n",
       "      <td>1</td>\n",
       "      <td>352.983038</td>\n",
       "      <td>227.016962</td>\n",
       "      <td>227.016962</td>\n",
       "    </tr>\n",
       "    <tr>\n",
       "      <th>291</th>\n",
       "      <td>292</td>\n",
       "      <td>Shedinja</td>\n",
       "      <td>bug</td>\n",
       "      <td>ghost</td>\n",
       "      <td>0.8</td>\n",
       "      <td>1.2</td>\n",
       "      <td>236</td>\n",
       "      <td>90</td>\n",
       "      <td>45</td>\n",
       "      <td>1</td>\n",
       "      <td>40</td>\n",
       "      <td>30</td>\n",
       "      <td>30</td>\n",
       "      <td>0</td>\n",
       "      <td>461.238997</td>\n",
       "      <td>-225.238997</td>\n",
       "      <td>225.238997</td>\n",
       "    </tr>\n",
       "    <tr>\n",
       "      <th>717</th>\n",
       "      <td>718</td>\n",
       "      <td>Zygarde</td>\n",
       "      <td>dragon</td>\n",
       "      <td>ground</td>\n",
       "      <td>5.0</td>\n",
       "      <td>284.6</td>\n",
       "      <td>708</td>\n",
       "      <td>100</td>\n",
       "      <td>121</td>\n",
       "      <td>216</td>\n",
       "      <td>85</td>\n",
       "      <td>91</td>\n",
       "      <td>95</td>\n",
       "      <td>1</td>\n",
       "      <td>488.302986</td>\n",
       "      <td>219.697014</td>\n",
       "      <td>219.697014</td>\n",
       "    </tr>\n",
       "    <tr>\n",
       "      <th>112</th>\n",
       "      <td>113</td>\n",
       "      <td>Chansey</td>\n",
       "      <td>normal</td>\n",
       "      <td>NaN</td>\n",
       "      <td>1.1</td>\n",
       "      <td>34.6</td>\n",
       "      <td>450</td>\n",
       "      <td>5</td>\n",
       "      <td>5</td>\n",
       "      <td>250</td>\n",
       "      <td>50</td>\n",
       "      <td>35</td>\n",
       "      <td>105</td>\n",
       "      <td>0</td>\n",
       "      <td>231.195085</td>\n",
       "      <td>218.804915</td>\n",
       "      <td>218.804915</td>\n",
       "    </tr>\n",
       "    <tr>\n",
       "      <th>248</th>\n",
       "      <td>249</td>\n",
       "      <td>Lugia</td>\n",
       "      <td>psychic</td>\n",
       "      <td>flying</td>\n",
       "      <td>5.2</td>\n",
       "      <td>216.0</td>\n",
       "      <td>680</td>\n",
       "      <td>90</td>\n",
       "      <td>130</td>\n",
       "      <td>106</td>\n",
       "      <td>110</td>\n",
       "      <td>90</td>\n",
       "      <td>154</td>\n",
       "      <td>1</td>\n",
       "      <td>461.238997</td>\n",
       "      <td>218.761003</td>\n",
       "      <td>218.761003</td>\n",
       "    </tr>\n",
       "    <tr>\n",
       "      <th>379</th>\n",
       "      <td>380</td>\n",
       "      <td>Latias</td>\n",
       "      <td>dragon</td>\n",
       "      <td>psychic</td>\n",
       "      <td>1.4</td>\n",
       "      <td>40.0</td>\n",
       "      <td>700</td>\n",
       "      <td>100</td>\n",
       "      <td>120</td>\n",
       "      <td>80</td>\n",
       "      <td>110</td>\n",
       "      <td>140</td>\n",
       "      <td>150</td>\n",
       "      <td>1</td>\n",
       "      <td>488.302986</td>\n",
       "      <td>211.697014</td>\n",
       "      <td>211.697014</td>\n",
       "    </tr>\n",
       "    <tr>\n",
       "      <th>792</th>\n",
       "      <td>793</td>\n",
       "      <td>Nihilego</td>\n",
       "      <td>rock</td>\n",
       "      <td>poison</td>\n",
       "      <td>1.2</td>\n",
       "      <td>55.5</td>\n",
       "      <td>570</td>\n",
       "      <td>53</td>\n",
       "      <td>47</td>\n",
       "      <td>109</td>\n",
       "      <td>103</td>\n",
       "      <td>127</td>\n",
       "      <td>131</td>\n",
       "      <td>1</td>\n",
       "      <td>361.102235</td>\n",
       "      <td>208.897765</td>\n",
       "      <td>208.897765</td>\n",
       "    </tr>\n",
       "    <tr>\n",
       "      <th>93</th>\n",
       "      <td>94</td>\n",
       "      <td>Gengar</td>\n",
       "      <td>ghost</td>\n",
       "      <td>poison</td>\n",
       "      <td>1.5</td>\n",
       "      <td>40.5</td>\n",
       "      <td>600</td>\n",
       "      <td>65</td>\n",
       "      <td>80</td>\n",
       "      <td>60</td>\n",
       "      <td>130</td>\n",
       "      <td>170</td>\n",
       "      <td>95</td>\n",
       "      <td>0</td>\n",
       "      <td>393.579023</td>\n",
       "      <td>206.420977</td>\n",
       "      <td>206.420977</td>\n",
       "    </tr>\n",
       "    <tr>\n",
       "      <th>407</th>\n",
       "      <td>408</td>\n",
       "      <td>Cranidos</td>\n",
       "      <td>rock</td>\n",
       "      <td>NaN</td>\n",
       "      <td>0.9</td>\n",
       "      <td>31.5</td>\n",
       "      <td>350</td>\n",
       "      <td>125</td>\n",
       "      <td>40</td>\n",
       "      <td>67</td>\n",
       "      <td>58</td>\n",
       "      <td>30</td>\n",
       "      <td>30</td>\n",
       "      <td>0</td>\n",
       "      <td>555.962960</td>\n",
       "      <td>-205.962960</td>\n",
       "      <td>205.962960</td>\n",
       "    </tr>\n",
       "    <tr>\n",
       "      <th>327</th>\n",
       "      <td>328</td>\n",
       "      <td>Trapinch</td>\n",
       "      <td>ground</td>\n",
       "      <td>NaN</td>\n",
       "      <td>0.7</td>\n",
       "      <td>15.0</td>\n",
       "      <td>290</td>\n",
       "      <td>100</td>\n",
       "      <td>45</td>\n",
       "      <td>45</td>\n",
       "      <td>10</td>\n",
       "      <td>45</td>\n",
       "      <td>45</td>\n",
       "      <td>0</td>\n",
       "      <td>488.302986</td>\n",
       "      <td>-198.302986</td>\n",
       "      <td>198.302986</td>\n",
       "    </tr>\n",
       "    <tr>\n",
       "      <th>487</th>\n",
       "      <td>488</td>\n",
       "      <td>Cresselia</td>\n",
       "      <td>psychic</td>\n",
       "      <td>NaN</td>\n",
       "      <td>1.5</td>\n",
       "      <td>85.6</td>\n",
       "      <td>600</td>\n",
       "      <td>70</td>\n",
       "      <td>120</td>\n",
       "      <td>120</td>\n",
       "      <td>85</td>\n",
       "      <td>75</td>\n",
       "      <td>130</td>\n",
       "      <td>1</td>\n",
       "      <td>407.111017</td>\n",
       "      <td>192.888983</td>\n",
       "      <td>192.888983</td>\n",
       "    </tr>\n",
       "    <tr>\n",
       "      <th>467</th>\n",
       "      <td>468</td>\n",
       "      <td>Togekiss</td>\n",
       "      <td>fairy</td>\n",
       "      <td>flying</td>\n",
       "      <td>1.5</td>\n",
       "      <td>38.0</td>\n",
       "      <td>545</td>\n",
       "      <td>50</td>\n",
       "      <td>95</td>\n",
       "      <td>85</td>\n",
       "      <td>80</td>\n",
       "      <td>120</td>\n",
       "      <td>115</td>\n",
       "      <td>0</td>\n",
       "      <td>352.983038</td>\n",
       "      <td>192.016962</td>\n",
       "      <td>192.016962</td>\n",
       "    </tr>\n",
       "    <tr>\n",
       "      <th>492</th>\n",
       "      <td>493</td>\n",
       "      <td>Arceus</td>\n",
       "      <td>normal</td>\n",
       "      <td>NaN</td>\n",
       "      <td>3.2</td>\n",
       "      <td>320.0</td>\n",
       "      <td>720</td>\n",
       "      <td>120</td>\n",
       "      <td>120</td>\n",
       "      <td>120</td>\n",
       "      <td>120</td>\n",
       "      <td>120</td>\n",
       "      <td>120</td>\n",
       "      <td>1</td>\n",
       "      <td>542.430965</td>\n",
       "      <td>177.569035</td>\n",
       "      <td>177.569035</td>\n",
       "    </tr>\n",
       "    <tr>\n",
       "      <th>97</th>\n",
       "      <td>98</td>\n",
       "      <td>Krabby</td>\n",
       "      <td>water</td>\n",
       "      <td>NaN</td>\n",
       "      <td>0.4</td>\n",
       "      <td>6.5</td>\n",
       "      <td>325</td>\n",
       "      <td>105</td>\n",
       "      <td>90</td>\n",
       "      <td>30</td>\n",
       "      <td>50</td>\n",
       "      <td>25</td>\n",
       "      <td>25</td>\n",
       "      <td>0</td>\n",
       "      <td>501.834981</td>\n",
       "      <td>-176.834981</td>\n",
       "      <td>176.834981</td>\n",
       "    </tr>\n",
       "    <tr>\n",
       "      <th>281</th>\n",
       "      <td>282</td>\n",
       "      <td>Gardevoir</td>\n",
       "      <td>psychic</td>\n",
       "      <td>fairy</td>\n",
       "      <td>1.6</td>\n",
       "      <td>48.4</td>\n",
       "      <td>618</td>\n",
       "      <td>85</td>\n",
       "      <td>65</td>\n",
       "      <td>68</td>\n",
       "      <td>100</td>\n",
       "      <td>165</td>\n",
       "      <td>135</td>\n",
       "      <td>0</td>\n",
       "      <td>447.707002</td>\n",
       "      <td>170.292998</td>\n",
       "      <td>170.292998</td>\n",
       "    </tr>\n",
       "    <tr>\n",
       "      <th>636</th>\n",
       "      <td>637</td>\n",
       "      <td>Volcarona</td>\n",
       "      <td>bug</td>\n",
       "      <td>fire</td>\n",
       "      <td>1.6</td>\n",
       "      <td>46.0</td>\n",
       "      <td>550</td>\n",
       "      <td>60</td>\n",
       "      <td>65</td>\n",
       "      <td>85</td>\n",
       "      <td>100</td>\n",
       "      <td>135</td>\n",
       "      <td>105</td>\n",
       "      <td>0</td>\n",
       "      <td>380.047028</td>\n",
       "      <td>169.952972</td>\n",
       "      <td>169.952972</td>\n",
       "    </tr>\n",
       "  </tbody>\n",
       "</table>\n",
       "</div>"
      ],
      "text/plain": [
       "     Pokedex Number        Name Primary Type Secondary Type  Height (m)  \\\n",
       "241             242     Blissey       normal            NaN         1.5   \n",
       "212             213     Shuckle          bug           rock         0.6   \n",
       "64               65    Alakazam      psychic            NaN         1.5   \n",
       "554             555  Darmanitan         fire           fire         1.3   \n",
       "377             378      Regice          ice            NaN         1.8   \n",
       "291             292    Shedinja          bug          ghost         0.8   \n",
       "717             718     Zygarde       dragon         ground         5.0   \n",
       "112             113     Chansey       normal            NaN         1.1   \n",
       "248             249       Lugia      psychic         flying         5.2   \n",
       "379             380      Latias       dragon        psychic         1.4   \n",
       "792             793    Nihilego         rock         poison         1.2   \n",
       "93               94      Gengar        ghost         poison         1.5   \n",
       "407             408    Cranidos         rock            NaN         0.9   \n",
       "327             328    Trapinch       ground            NaN         0.7   \n",
       "487             488   Cresselia      psychic            NaN         1.5   \n",
       "467             468    Togekiss        fairy         flying         1.5   \n",
       "492             493      Arceus       normal            NaN         3.2   \n",
       "97               98      Krabby        water            NaN         0.4   \n",
       "281             282   Gardevoir      psychic          fairy         1.6   \n",
       "636             637   Volcarona          bug           fire         1.6   \n",
       "\n",
       "     Weight (kg)  Total Base Stat  Attack  Defense   HP  Speed  \\\n",
       "241         46.8              540      10       10  255     55   \n",
       "212         20.5              505      10      230   20      5   \n",
       "64          48.0              600      50       65   55    150   \n",
       "554         92.9              540      30      105  105     55   \n",
       "377        175.0              580      50      100   80     50   \n",
       "291          1.2              236      90       45    1     40   \n",
       "717        284.6              708     100      121  216     85   \n",
       "112         34.6              450       5        5  250     50   \n",
       "248        216.0              680      90      130  106    110   \n",
       "379         40.0              700     100      120   80    110   \n",
       "792         55.5              570      53       47  109    103   \n",
       "93          40.5              600      65       80   60    130   \n",
       "407         31.5              350     125       40   67     58   \n",
       "327         15.0              290     100       45   45     10   \n",
       "487         85.6              600      70      120  120     85   \n",
       "467         38.0              545      50       95   85     80   \n",
       "492        320.0              720     120      120  120    120   \n",
       "97           6.5              325     105       90   30     50   \n",
       "281         48.4              618      85       65   68    100   \n",
       "636         46.0              550      60       65   85    100   \n",
       "\n",
       "     Special Attack  Special Defense  Legendary  Total Base Stat Prediction  \\\n",
       "241              75              135          0                  244.727080   \n",
       "212              10              230          0                  244.727080   \n",
       "64              175              105          0                  352.983038   \n",
       "554             140              105          0                  298.855059   \n",
       "377             100              200          1                  352.983038   \n",
       "291              30               30          0                  461.238997   \n",
       "717              91               95          1                  488.302986   \n",
       "112              35              105          0                  231.195085   \n",
       "248              90              154          1                  461.238997   \n",
       "379             140              150          1                  488.302986   \n",
       "792             127              131          1                  361.102235   \n",
       "93              170               95          0                  393.579023   \n",
       "407              30               30          0                  555.962960   \n",
       "327              45               45          0                  488.302986   \n",
       "487              75              130          1                  407.111017   \n",
       "467             120              115          0                  352.983038   \n",
       "492             120              120          1                  542.430965   \n",
       "97               25               25          0                  501.834981   \n",
       "281             165              135          0                  447.707002   \n",
       "636             135              105          0                  380.047028   \n",
       "\n",
       "       Residual  Absolute Residual  \n",
       "241  295.272920         295.272920  \n",
       "212  260.272920         260.272920  \n",
       "64   247.016962         247.016962  \n",
       "554  241.144941         241.144941  \n",
       "377  227.016962         227.016962  \n",
       "291 -225.238997         225.238997  \n",
       "717  219.697014         219.697014  \n",
       "112  218.804915         218.804915  \n",
       "248  218.761003         218.761003  \n",
       "379  211.697014         211.697014  \n",
       "792  208.897765         208.897765  \n",
       "93   206.420977         206.420977  \n",
       "407 -205.962960         205.962960  \n",
       "327 -198.302986         198.302986  \n",
       "487  192.888983         192.888983  \n",
       "467  192.016962         192.016962  \n",
       "492  177.569035         177.569035  \n",
       "97  -176.834981         176.834981  \n",
       "281  170.292998         170.292998  \n",
       "636  169.952972         169.952972  "
      ]
     },
     "execution_count": 69,
     "metadata": {},
     "output_type": "execute_result"
    }
   ],
   "source": [
    "df[\"Absolute Residual\"] = df[\"Residual\"].abs()\n",
    "\n",
    "df_worst = df.sort_values(by=\"Absolute Residual\", ascending=False).head(20)\n",
    "df_worst"
   ]
  },
  {
   "cell_type": "code",
   "execution_count": 70,
   "metadata": {},
   "outputs": [
    {
     "name": "stdout",
     "output_type": "stream",
     "text": [
      "🎉 All tests passed! 🎉\n"
     ]
    }
   ],
   "source": [
    "## == TEST CASES for Puzzle 3.2  ==\n",
    "# - This read-only cell contains test cases for your previous cell.\n",
    "# - If this cell runs without any error our output, you PASSED all test cases!\n",
    "# - If this cell results in any errors,/ check you previous cell, make changes, and RE-RUN your code and then this cell.\n",
    "import math\n",
    "assert(abs(df['Residual'].sum()) < 0.0001), \"The residuals might not be correct. Please check again!\"\n",
    "assert( 'Absolute Residual' in df.columns.to_list() ), \"Your DataFrame df does not contain a new column `Absolute Residual`.\"\n",
    "assert( 'df_worst' in vars() ), \"You should be creating a DataFrame named `df_worst`.\"\n",
    "assert( len(df_worst) == 20 ), \"There should be 20 rows in df_worst.\"\n",
    "assert(isclose(df_worst['Absolute Residual'].mean(), 213.2032132585081) ), \"You have not populated the Absolute Residual column correctly.\"\n",
    "\n",
    "\n",
    "\n",
    "## == SUCCESS MESSAGE ==\n",
    "# You will only see this message (with the emoji showing) if you passed all test cases:\n",
    "tada = \"\\N{PARTY POPPER}\"\n",
    "print(f\"{tada} All tests passed! {tada}\")"
   ]
  },
  {
   "cell_type": "markdown",
   "metadata": {},
   "source": [
    "## Puzzle 3.3: Legendary Pokemon\n",
    "What percentage of the 20 pokemon in `df_worst` are legendary pokemon? Legendary Pokemon are ultra-rare, high-powered Pokemon. These pokemon have a value of 1 in the `Legendary` column of our DataFrame. Store the result in a variable named `percentage_legendary_worst`."
   ]
  },
  {
   "cell_type": "code",
   "execution_count": 90,
   "metadata": {},
   "outputs": [
    {
     "ename": "TypeError",
     "evalue": "unsupported operand type(s) for +: 'int' and 'str'",
     "output_type": "error",
     "traceback": [
      "\u001b[1;31m---------------------------------------------------------------------------\u001b[0m",
      "\u001b[1;31mTypeError\u001b[0m                                 Traceback (most recent call last)",
      "Cell \u001b[1;32mIn[90], line 1\u001b[0m\n\u001b[1;32m----> 1\u001b[0m Legendary \u001b[38;5;241m=\u001b[39m \u001b[43mdf_worst\u001b[49m\u001b[43m[\u001b[49m\u001b[43mdf_worst\u001b[49m\u001b[43m[\u001b[49m\u001b[38;5;124;43m\"\u001b[39;49m\u001b[38;5;124;43mLegendary\u001b[39;49m\u001b[38;5;124;43m\"\u001b[39;49m\u001b[43m]\u001b[49m\u001b[43m \u001b[49m\u001b[38;5;241;43m==\u001b[39;49m\u001b[43m \u001b[49m\u001b[38;5;241;43m1\u001b[39;49m\u001b[43m]\u001b[49m\u001b[38;5;241;43m.\u001b[39;49m\u001b[43msum\u001b[49m\u001b[43m(\u001b[49m\u001b[43m)\u001b[49m\n\u001b[0;32m      3\u001b[0m percentage_legendary_worst \u001b[38;5;241m=\u001b[39m  Legendary \u001b[38;5;241m/\u001b[39m \u001b[38;5;28mlen\u001b[39m(df_worst) \u001b[38;5;241m*\u001b[39m \u001b[38;5;241m100\u001b[39m \n\u001b[0;32m      4\u001b[0m percentage_legendary_worst\u001b[38;5;241m.\u001b[39mitem()\n",
      "File \u001b[1;32m~\\AppData\\Local\\Packages\\PythonSoftwareFoundation.Python.3.13_qbz5n2kfra8p0\\LocalCache\\local-packages\\Python313\\site-packages\\pandas\\core\\frame.py:11670\u001b[0m, in \u001b[0;36mDataFrame.sum\u001b[1;34m(self, axis, skipna, numeric_only, min_count, **kwargs)\u001b[0m\n\u001b[0;32m  11661\u001b[0m \u001b[38;5;129m@doc\u001b[39m(make_doc(\u001b[38;5;124m\"\u001b[39m\u001b[38;5;124msum\u001b[39m\u001b[38;5;124m\"\u001b[39m, ndim\u001b[38;5;241m=\u001b[39m\u001b[38;5;241m2\u001b[39m))\n\u001b[0;32m  11662\u001b[0m \u001b[38;5;28;01mdef\u001b[39;00m\u001b[38;5;250m \u001b[39m\u001b[38;5;21msum\u001b[39m(\n\u001b[0;32m  11663\u001b[0m     \u001b[38;5;28mself\u001b[39m,\n\u001b[1;32m   (...)\u001b[0m\n\u001b[0;32m  11668\u001b[0m     \u001b[38;5;241m*\u001b[39m\u001b[38;5;241m*\u001b[39mkwargs,\n\u001b[0;32m  11669\u001b[0m ):\n\u001b[1;32m> 11670\u001b[0m     result \u001b[38;5;241m=\u001b[39m \u001b[38;5;28;43msuper\u001b[39;49m\u001b[43m(\u001b[49m\u001b[43m)\u001b[49m\u001b[38;5;241;43m.\u001b[39;49m\u001b[43msum\u001b[49m\u001b[43m(\u001b[49m\u001b[43maxis\u001b[49m\u001b[43m,\u001b[49m\u001b[43m \u001b[49m\u001b[43mskipna\u001b[49m\u001b[43m,\u001b[49m\u001b[43m \u001b[49m\u001b[43mnumeric_only\u001b[49m\u001b[43m,\u001b[49m\u001b[43m \u001b[49m\u001b[43mmin_count\u001b[49m\u001b[43m,\u001b[49m\u001b[43m \u001b[49m\u001b[38;5;241;43m*\u001b[39;49m\u001b[38;5;241;43m*\u001b[39;49m\u001b[43mkwargs\u001b[49m\u001b[43m)\u001b[49m\n\u001b[0;32m  11671\u001b[0m     \u001b[38;5;28;01mreturn\u001b[39;00m result\u001b[38;5;241m.\u001b[39m__finalize__(\u001b[38;5;28mself\u001b[39m, method\u001b[38;5;241m=\u001b[39m\u001b[38;5;124m\"\u001b[39m\u001b[38;5;124msum\u001b[39m\u001b[38;5;124m\"\u001b[39m)\n",
      "File \u001b[1;32m~\\AppData\\Local\\Packages\\PythonSoftwareFoundation.Python.3.13_qbz5n2kfra8p0\\LocalCache\\local-packages\\Python313\\site-packages\\pandas\\core\\generic.py:12506\u001b[0m, in \u001b[0;36mNDFrame.sum\u001b[1;34m(self, axis, skipna, numeric_only, min_count, **kwargs)\u001b[0m\n\u001b[0;32m  12498\u001b[0m \u001b[38;5;28;01mdef\u001b[39;00m\u001b[38;5;250m \u001b[39m\u001b[38;5;21msum\u001b[39m(\n\u001b[0;32m  12499\u001b[0m     \u001b[38;5;28mself\u001b[39m,\n\u001b[0;32m  12500\u001b[0m     axis: Axis \u001b[38;5;241m|\u001b[39m \u001b[38;5;28;01mNone\u001b[39;00m \u001b[38;5;241m=\u001b[39m \u001b[38;5;241m0\u001b[39m,\n\u001b[1;32m   (...)\u001b[0m\n\u001b[0;32m  12504\u001b[0m     \u001b[38;5;241m*\u001b[39m\u001b[38;5;241m*\u001b[39mkwargs,\n\u001b[0;32m  12505\u001b[0m ):\n\u001b[1;32m> 12506\u001b[0m     \u001b[38;5;28;01mreturn\u001b[39;00m \u001b[38;5;28;43mself\u001b[39;49m\u001b[38;5;241;43m.\u001b[39;49m\u001b[43m_min_count_stat_function\u001b[49m\u001b[43m(\u001b[49m\n\u001b[0;32m  12507\u001b[0m \u001b[43m        \u001b[49m\u001b[38;5;124;43m\"\u001b[39;49m\u001b[38;5;124;43msum\u001b[39;49m\u001b[38;5;124;43m\"\u001b[39;49m\u001b[43m,\u001b[49m\u001b[43m \u001b[49m\u001b[43mnanops\u001b[49m\u001b[38;5;241;43m.\u001b[39;49m\u001b[43mnansum\u001b[49m\u001b[43m,\u001b[49m\u001b[43m \u001b[49m\u001b[43maxis\u001b[49m\u001b[43m,\u001b[49m\u001b[43m \u001b[49m\u001b[43mskipna\u001b[49m\u001b[43m,\u001b[49m\u001b[43m \u001b[49m\u001b[43mnumeric_only\u001b[49m\u001b[43m,\u001b[49m\u001b[43m \u001b[49m\u001b[43mmin_count\u001b[49m\u001b[43m,\u001b[49m\u001b[43m \u001b[49m\u001b[38;5;241;43m*\u001b[39;49m\u001b[38;5;241;43m*\u001b[39;49m\u001b[43mkwargs\u001b[49m\n\u001b[0;32m  12508\u001b[0m \u001b[43m    \u001b[49m\u001b[43m)\u001b[49m\n",
      "File \u001b[1;32m~\\AppData\\Local\\Packages\\PythonSoftwareFoundation.Python.3.13_qbz5n2kfra8p0\\LocalCache\\local-packages\\Python313\\site-packages\\pandas\\core\\generic.py:12489\u001b[0m, in \u001b[0;36mNDFrame._min_count_stat_function\u001b[1;34m(self, name, func, axis, skipna, numeric_only, min_count, **kwargs)\u001b[0m\n\u001b[0;32m  12486\u001b[0m \u001b[38;5;28;01melif\u001b[39;00m axis \u001b[38;5;129;01mis\u001b[39;00m lib\u001b[38;5;241m.\u001b[39mno_default:\n\u001b[0;32m  12487\u001b[0m     axis \u001b[38;5;241m=\u001b[39m \u001b[38;5;241m0\u001b[39m\n\u001b[1;32m> 12489\u001b[0m \u001b[38;5;28;01mreturn\u001b[39;00m \u001b[38;5;28;43mself\u001b[39;49m\u001b[38;5;241;43m.\u001b[39;49m\u001b[43m_reduce\u001b[49m\u001b[43m(\u001b[49m\n\u001b[0;32m  12490\u001b[0m \u001b[43m    \u001b[49m\u001b[43mfunc\u001b[49m\u001b[43m,\u001b[49m\n\u001b[0;32m  12491\u001b[0m \u001b[43m    \u001b[49m\u001b[43mname\u001b[49m\u001b[38;5;241;43m=\u001b[39;49m\u001b[43mname\u001b[49m\u001b[43m,\u001b[49m\n\u001b[0;32m  12492\u001b[0m \u001b[43m    \u001b[49m\u001b[43maxis\u001b[49m\u001b[38;5;241;43m=\u001b[39;49m\u001b[43maxis\u001b[49m\u001b[43m,\u001b[49m\n\u001b[0;32m  12493\u001b[0m \u001b[43m    \u001b[49m\u001b[43mskipna\u001b[49m\u001b[38;5;241;43m=\u001b[39;49m\u001b[43mskipna\u001b[49m\u001b[43m,\u001b[49m\n\u001b[0;32m  12494\u001b[0m \u001b[43m    \u001b[49m\u001b[43mnumeric_only\u001b[49m\u001b[38;5;241;43m=\u001b[39;49m\u001b[43mnumeric_only\u001b[49m\u001b[43m,\u001b[49m\n\u001b[0;32m  12495\u001b[0m \u001b[43m    \u001b[49m\u001b[43mmin_count\u001b[49m\u001b[38;5;241;43m=\u001b[39;49m\u001b[43mmin_count\u001b[49m\u001b[43m,\u001b[49m\n\u001b[0;32m  12496\u001b[0m \u001b[43m\u001b[49m\u001b[43m)\u001b[49m\n",
      "File \u001b[1;32m~\\AppData\\Local\\Packages\\PythonSoftwareFoundation.Python.3.13_qbz5n2kfra8p0\\LocalCache\\local-packages\\Python313\\site-packages\\pandas\\core\\frame.py:11562\u001b[0m, in \u001b[0;36mDataFrame._reduce\u001b[1;34m(self, op, name, axis, skipna, numeric_only, filter_type, **kwds)\u001b[0m\n\u001b[0;32m  11558\u001b[0m     df \u001b[38;5;241m=\u001b[39m df\u001b[38;5;241m.\u001b[39mT\n\u001b[0;32m  11560\u001b[0m \u001b[38;5;66;03m# After possibly _get_data and transposing, we are now in the\u001b[39;00m\n\u001b[0;32m  11561\u001b[0m \u001b[38;5;66;03m#  simple case where we can use BlockManager.reduce\u001b[39;00m\n\u001b[1;32m> 11562\u001b[0m res \u001b[38;5;241m=\u001b[39m \u001b[43mdf\u001b[49m\u001b[38;5;241;43m.\u001b[39;49m\u001b[43m_mgr\u001b[49m\u001b[38;5;241;43m.\u001b[39;49m\u001b[43mreduce\u001b[49m\u001b[43m(\u001b[49m\u001b[43mblk_func\u001b[49m\u001b[43m)\u001b[49m\n\u001b[0;32m  11563\u001b[0m out \u001b[38;5;241m=\u001b[39m df\u001b[38;5;241m.\u001b[39m_constructor_from_mgr(res, axes\u001b[38;5;241m=\u001b[39mres\u001b[38;5;241m.\u001b[39maxes)\u001b[38;5;241m.\u001b[39miloc[\u001b[38;5;241m0\u001b[39m]\n\u001b[0;32m  11564\u001b[0m \u001b[38;5;28;01mif\u001b[39;00m out_dtype \u001b[38;5;129;01mis\u001b[39;00m \u001b[38;5;129;01mnot\u001b[39;00m \u001b[38;5;28;01mNone\u001b[39;00m \u001b[38;5;129;01mand\u001b[39;00m out\u001b[38;5;241m.\u001b[39mdtype \u001b[38;5;241m!=\u001b[39m \u001b[38;5;124m\"\u001b[39m\u001b[38;5;124mboolean\u001b[39m\u001b[38;5;124m\"\u001b[39m:\n",
      "File \u001b[1;32m~\\AppData\\Local\\Packages\\PythonSoftwareFoundation.Python.3.13_qbz5n2kfra8p0\\LocalCache\\local-packages\\Python313\\site-packages\\pandas\\core\\internals\\managers.py:1500\u001b[0m, in \u001b[0;36mBlockManager.reduce\u001b[1;34m(self, func)\u001b[0m\n\u001b[0;32m   1498\u001b[0m res_blocks: \u001b[38;5;28mlist\u001b[39m[Block] \u001b[38;5;241m=\u001b[39m []\n\u001b[0;32m   1499\u001b[0m \u001b[38;5;28;01mfor\u001b[39;00m blk \u001b[38;5;129;01min\u001b[39;00m \u001b[38;5;28mself\u001b[39m\u001b[38;5;241m.\u001b[39mblocks:\n\u001b[1;32m-> 1500\u001b[0m     nbs \u001b[38;5;241m=\u001b[39m \u001b[43mblk\u001b[49m\u001b[38;5;241;43m.\u001b[39;49m\u001b[43mreduce\u001b[49m\u001b[43m(\u001b[49m\u001b[43mfunc\u001b[49m\u001b[43m)\u001b[49m\n\u001b[0;32m   1501\u001b[0m     res_blocks\u001b[38;5;241m.\u001b[39mextend(nbs)\n\u001b[0;32m   1503\u001b[0m index \u001b[38;5;241m=\u001b[39m Index([\u001b[38;5;28;01mNone\u001b[39;00m])  \u001b[38;5;66;03m# placeholder\u001b[39;00m\n",
      "File \u001b[1;32m~\\AppData\\Local\\Packages\\PythonSoftwareFoundation.Python.3.13_qbz5n2kfra8p0\\LocalCache\\local-packages\\Python313\\site-packages\\pandas\\core\\internals\\blocks.py:404\u001b[0m, in \u001b[0;36mBlock.reduce\u001b[1;34m(self, func)\u001b[0m\n\u001b[0;32m    398\u001b[0m \u001b[38;5;129m@final\u001b[39m\n\u001b[0;32m    399\u001b[0m \u001b[38;5;28;01mdef\u001b[39;00m\u001b[38;5;250m \u001b[39m\u001b[38;5;21mreduce\u001b[39m(\u001b[38;5;28mself\u001b[39m, func) \u001b[38;5;241m-\u001b[39m\u001b[38;5;241m>\u001b[39m \u001b[38;5;28mlist\u001b[39m[Block]:\n\u001b[0;32m    400\u001b[0m     \u001b[38;5;66;03m# We will apply the function and reshape the result into a single-row\u001b[39;00m\n\u001b[0;32m    401\u001b[0m     \u001b[38;5;66;03m#  Block with the same mgr_locs; squeezing will be done at a higher level\u001b[39;00m\n\u001b[0;32m    402\u001b[0m     \u001b[38;5;28;01massert\u001b[39;00m \u001b[38;5;28mself\u001b[39m\u001b[38;5;241m.\u001b[39mndim \u001b[38;5;241m==\u001b[39m \u001b[38;5;241m2\u001b[39m\n\u001b[1;32m--> 404\u001b[0m     result \u001b[38;5;241m=\u001b[39m \u001b[43mfunc\u001b[49m\u001b[43m(\u001b[49m\u001b[38;5;28;43mself\u001b[39;49m\u001b[38;5;241;43m.\u001b[39;49m\u001b[43mvalues\u001b[49m\u001b[43m)\u001b[49m\n\u001b[0;32m    406\u001b[0m     \u001b[38;5;28;01mif\u001b[39;00m \u001b[38;5;28mself\u001b[39m\u001b[38;5;241m.\u001b[39mvalues\u001b[38;5;241m.\u001b[39mndim \u001b[38;5;241m==\u001b[39m \u001b[38;5;241m1\u001b[39m:\n\u001b[0;32m    407\u001b[0m         res_values \u001b[38;5;241m=\u001b[39m result\n",
      "File \u001b[1;32m~\\AppData\\Local\\Packages\\PythonSoftwareFoundation.Python.3.13_qbz5n2kfra8p0\\LocalCache\\local-packages\\Python313\\site-packages\\pandas\\core\\frame.py:11481\u001b[0m, in \u001b[0;36mDataFrame._reduce.<locals>.blk_func\u001b[1;34m(values, axis)\u001b[0m\n\u001b[0;32m  11479\u001b[0m         \u001b[38;5;28;01mreturn\u001b[39;00m np\u001b[38;5;241m.\u001b[39marray([result])\n\u001b[0;32m  11480\u001b[0m \u001b[38;5;28;01melse\u001b[39;00m:\n\u001b[1;32m> 11481\u001b[0m     \u001b[38;5;28;01mreturn\u001b[39;00m \u001b[43mop\u001b[49m\u001b[43m(\u001b[49m\u001b[43mvalues\u001b[49m\u001b[43m,\u001b[49m\u001b[43m \u001b[49m\u001b[43maxis\u001b[49m\u001b[38;5;241;43m=\u001b[39;49m\u001b[43maxis\u001b[49m\u001b[43m,\u001b[49m\u001b[43m \u001b[49m\u001b[43mskipna\u001b[49m\u001b[38;5;241;43m=\u001b[39;49m\u001b[43mskipna\u001b[49m\u001b[43m,\u001b[49m\u001b[43m \u001b[49m\u001b[38;5;241;43m*\u001b[39;49m\u001b[38;5;241;43m*\u001b[39;49m\u001b[43mkwds\u001b[49m\u001b[43m)\u001b[49m\n",
      "File \u001b[1;32m~\\AppData\\Local\\Packages\\PythonSoftwareFoundation.Python.3.13_qbz5n2kfra8p0\\LocalCache\\local-packages\\Python313\\site-packages\\pandas\\core\\nanops.py:85\u001b[0m, in \u001b[0;36mdisallow.__call__.<locals>._f\u001b[1;34m(*args, **kwargs)\u001b[0m\n\u001b[0;32m     81\u001b[0m     \u001b[38;5;28;01mraise\u001b[39;00m \u001b[38;5;167;01mTypeError\u001b[39;00m(\n\u001b[0;32m     82\u001b[0m         \u001b[38;5;124mf\u001b[39m\u001b[38;5;124m\"\u001b[39m\u001b[38;5;124mreduction operation \u001b[39m\u001b[38;5;124m'\u001b[39m\u001b[38;5;132;01m{\u001b[39;00mf_name\u001b[38;5;132;01m}\u001b[39;00m\u001b[38;5;124m'\u001b[39m\u001b[38;5;124m not allowed for this dtype\u001b[39m\u001b[38;5;124m\"\u001b[39m\n\u001b[0;32m     83\u001b[0m     )\n\u001b[0;32m     84\u001b[0m \u001b[38;5;28;01mtry\u001b[39;00m:\n\u001b[1;32m---> 85\u001b[0m     \u001b[38;5;28;01mreturn\u001b[39;00m \u001b[43mf\u001b[49m\u001b[43m(\u001b[49m\u001b[38;5;241;43m*\u001b[39;49m\u001b[43margs\u001b[49m\u001b[43m,\u001b[49m\u001b[43m \u001b[49m\u001b[38;5;241;43m*\u001b[39;49m\u001b[38;5;241;43m*\u001b[39;49m\u001b[43mkwargs\u001b[49m\u001b[43m)\u001b[49m\n\u001b[0;32m     86\u001b[0m \u001b[38;5;28;01mexcept\u001b[39;00m \u001b[38;5;167;01mValueError\u001b[39;00m \u001b[38;5;28;01mas\u001b[39;00m e:\n\u001b[0;32m     87\u001b[0m     \u001b[38;5;66;03m# we want to transform an object array\u001b[39;00m\n\u001b[0;32m     88\u001b[0m     \u001b[38;5;66;03m# ValueError message to the more typical TypeError\u001b[39;00m\n\u001b[0;32m     89\u001b[0m     \u001b[38;5;66;03m# e.g. this is normally a disallowed function on\u001b[39;00m\n\u001b[0;32m     90\u001b[0m     \u001b[38;5;66;03m# object arrays that contain strings\u001b[39;00m\n\u001b[0;32m     91\u001b[0m     \u001b[38;5;28;01mif\u001b[39;00m is_object_dtype(args[\u001b[38;5;241m0\u001b[39m]):\n",
      "File \u001b[1;32m~\\AppData\\Local\\Packages\\PythonSoftwareFoundation.Python.3.13_qbz5n2kfra8p0\\LocalCache\\local-packages\\Python313\\site-packages\\pandas\\core\\nanops.py:404\u001b[0m, in \u001b[0;36m_datetimelike_compat.<locals>.new_func\u001b[1;34m(values, axis, skipna, mask, **kwargs)\u001b[0m\n\u001b[0;32m    401\u001b[0m \u001b[38;5;28;01mif\u001b[39;00m datetimelike \u001b[38;5;129;01mand\u001b[39;00m mask \u001b[38;5;129;01mis\u001b[39;00m \u001b[38;5;28;01mNone\u001b[39;00m:\n\u001b[0;32m    402\u001b[0m     mask \u001b[38;5;241m=\u001b[39m isna(values)\n\u001b[1;32m--> 404\u001b[0m result \u001b[38;5;241m=\u001b[39m \u001b[43mfunc\u001b[49m\u001b[43m(\u001b[49m\u001b[43mvalues\u001b[49m\u001b[43m,\u001b[49m\u001b[43m \u001b[49m\u001b[43maxis\u001b[49m\u001b[38;5;241;43m=\u001b[39;49m\u001b[43maxis\u001b[49m\u001b[43m,\u001b[49m\u001b[43m \u001b[49m\u001b[43mskipna\u001b[49m\u001b[38;5;241;43m=\u001b[39;49m\u001b[43mskipna\u001b[49m\u001b[43m,\u001b[49m\u001b[43m \u001b[49m\u001b[43mmask\u001b[49m\u001b[38;5;241;43m=\u001b[39;49m\u001b[43mmask\u001b[49m\u001b[43m,\u001b[49m\u001b[43m \u001b[49m\u001b[38;5;241;43m*\u001b[39;49m\u001b[38;5;241;43m*\u001b[39;49m\u001b[43mkwargs\u001b[49m\u001b[43m)\u001b[49m\n\u001b[0;32m    406\u001b[0m \u001b[38;5;28;01mif\u001b[39;00m datetimelike:\n\u001b[0;32m    407\u001b[0m     result \u001b[38;5;241m=\u001b[39m _wrap_results(result, orig_values\u001b[38;5;241m.\u001b[39mdtype, fill_value\u001b[38;5;241m=\u001b[39miNaT)\n",
      "File \u001b[1;32m~\\AppData\\Local\\Packages\\PythonSoftwareFoundation.Python.3.13_qbz5n2kfra8p0\\LocalCache\\local-packages\\Python313\\site-packages\\pandas\\core\\nanops.py:477\u001b[0m, in \u001b[0;36mmaybe_operate_rowwise.<locals>.newfunc\u001b[1;34m(values, axis, **kwargs)\u001b[0m\n\u001b[0;32m    474\u001b[0m         results \u001b[38;5;241m=\u001b[39m [func(x, \u001b[38;5;241m*\u001b[39m\u001b[38;5;241m*\u001b[39mkwargs) \u001b[38;5;28;01mfor\u001b[39;00m x \u001b[38;5;129;01min\u001b[39;00m arrs]\n\u001b[0;32m    475\u001b[0m     \u001b[38;5;28;01mreturn\u001b[39;00m np\u001b[38;5;241m.\u001b[39marray(results)\n\u001b[1;32m--> 477\u001b[0m \u001b[38;5;28;01mreturn\u001b[39;00m \u001b[43mfunc\u001b[49m\u001b[43m(\u001b[49m\u001b[43mvalues\u001b[49m\u001b[43m,\u001b[49m\u001b[43m \u001b[49m\u001b[43maxis\u001b[49m\u001b[38;5;241;43m=\u001b[39;49m\u001b[43maxis\u001b[49m\u001b[43m,\u001b[49m\u001b[43m \u001b[49m\u001b[38;5;241;43m*\u001b[39;49m\u001b[38;5;241;43m*\u001b[39;49m\u001b[43mkwargs\u001b[49m\u001b[43m)\u001b[49m\n",
      "File \u001b[1;32m~\\AppData\\Local\\Packages\\PythonSoftwareFoundation.Python.3.13_qbz5n2kfra8p0\\LocalCache\\local-packages\\Python313\\site-packages\\pandas\\core\\nanops.py:646\u001b[0m, in \u001b[0;36mnansum\u001b[1;34m(values, axis, skipna, min_count, mask)\u001b[0m\n\u001b[0;32m    643\u001b[0m \u001b[38;5;28;01melif\u001b[39;00m dtype\u001b[38;5;241m.\u001b[39mkind \u001b[38;5;241m==\u001b[39m \u001b[38;5;124m\"\u001b[39m\u001b[38;5;124mm\u001b[39m\u001b[38;5;124m\"\u001b[39m:\n\u001b[0;32m    644\u001b[0m     dtype_sum \u001b[38;5;241m=\u001b[39m np\u001b[38;5;241m.\u001b[39mdtype(np\u001b[38;5;241m.\u001b[39mfloat64)\n\u001b[1;32m--> 646\u001b[0m the_sum \u001b[38;5;241m=\u001b[39m \u001b[43mvalues\u001b[49m\u001b[38;5;241;43m.\u001b[39;49m\u001b[43msum\u001b[49m\u001b[43m(\u001b[49m\u001b[43maxis\u001b[49m\u001b[43m,\u001b[49m\u001b[43m \u001b[49m\u001b[43mdtype\u001b[49m\u001b[38;5;241;43m=\u001b[39;49m\u001b[43mdtype_sum\u001b[49m\u001b[43m)\u001b[49m\n\u001b[0;32m    647\u001b[0m the_sum \u001b[38;5;241m=\u001b[39m _maybe_null_out(the_sum, axis, mask, values\u001b[38;5;241m.\u001b[39mshape, min_count\u001b[38;5;241m=\u001b[39mmin_count)\n\u001b[0;32m    649\u001b[0m \u001b[38;5;28;01mreturn\u001b[39;00m the_sum\n",
      "File \u001b[1;32m~\\AppData\\Local\\Packages\\PythonSoftwareFoundation.Python.3.13_qbz5n2kfra8p0\\LocalCache\\local-packages\\Python313\\site-packages\\numpy\\_core\\_methods.py:52\u001b[0m, in \u001b[0;36m_sum\u001b[1;34m(a, axis, dtype, out, keepdims, initial, where)\u001b[0m\n\u001b[0;32m     50\u001b[0m \u001b[38;5;28;01mdef\u001b[39;00m\u001b[38;5;250m \u001b[39m\u001b[38;5;21m_sum\u001b[39m(a, axis\u001b[38;5;241m=\u001b[39m\u001b[38;5;28;01mNone\u001b[39;00m, dtype\u001b[38;5;241m=\u001b[39m\u001b[38;5;28;01mNone\u001b[39;00m, out\u001b[38;5;241m=\u001b[39m\u001b[38;5;28;01mNone\u001b[39;00m, keepdims\u001b[38;5;241m=\u001b[39m\u001b[38;5;28;01mFalse\u001b[39;00m,\n\u001b[0;32m     51\u001b[0m          initial\u001b[38;5;241m=\u001b[39m_NoValue, where\u001b[38;5;241m=\u001b[39m\u001b[38;5;28;01mTrue\u001b[39;00m):\n\u001b[1;32m---> 52\u001b[0m     \u001b[38;5;28;01mreturn\u001b[39;00m \u001b[43mumr_sum\u001b[49m\u001b[43m(\u001b[49m\u001b[43ma\u001b[49m\u001b[43m,\u001b[49m\u001b[43m \u001b[49m\u001b[43maxis\u001b[49m\u001b[43m,\u001b[49m\u001b[43m \u001b[49m\u001b[43mdtype\u001b[49m\u001b[43m,\u001b[49m\u001b[43m \u001b[49m\u001b[43mout\u001b[49m\u001b[43m,\u001b[49m\u001b[43m \u001b[49m\u001b[43mkeepdims\u001b[49m\u001b[43m,\u001b[49m\u001b[43m \u001b[49m\u001b[43minitial\u001b[49m\u001b[43m,\u001b[49m\u001b[43m \u001b[49m\u001b[43mwhere\u001b[49m\u001b[43m)\u001b[49m\n",
      "\u001b[1;31mTypeError\u001b[0m: unsupported operand type(s) for +: 'int' and 'str'"
     ]
    }
   ],
   "source": [
    "Legendary = df_worst[df_worst[\"Legendary\"] == 1].sum()\n",
    "\n",
    "percentage_legendary_worst =  Legendary / len(df_worst) * 100 \n",
    "percentage_legendary_worst.item()"
   ]
  },
  {
   "cell_type": "markdown",
   "metadata": {},
   "source": [
    "**Q8: Does our model appear to perform worse on legendary or non-legendary pokemon? Think about what other information we need to answer this question. Use the code cell below to obtain this information and answer the question in the following markdown cell**"
   ]
  },
  {
   "cell_type": "code",
   "execution_count": 82,
   "metadata": {},
   "outputs": [
    {
     "data": {
      "text/plain": [
       "Legendary\n",
       "0     61.692450\n",
       "1    109.802943\n",
       "Name: Absolute Residual, dtype: float64"
      ]
     },
     "execution_count": 82,
     "metadata": {},
     "output_type": "execute_result"
    }
   ],
   "source": [
    "# Use this code cell to help answer Q8\n",
    "\n",
    "avg_residuals = df.groupby(\"Legendary\")[\"Absolute Residual\"].mean()\n",
    "avg_residuals"
   ]
  },
  {
   "cell_type": "markdown",
   "metadata": {},
   "source": [
    "*(✏️ Edit this cell to replace this text with your answer. ✏️)*"
   ]
  },
  {
   "cell_type": "code",
   "execution_count": 83,
   "metadata": {},
   "outputs": [
    {
     "ename": "AssertionError",
     "evalue": "The percentage of Legendary Pokemon in the worst 20 residuals is not correct. Check your code.",
     "output_type": "error",
     "traceback": [
      "\u001b[1;31m---------------------------------------------------------------------------\u001b[0m",
      "\u001b[1;31mAssertionError\u001b[0m                            Traceback (most recent call last)",
      "Cell \u001b[1;32mIn[83], line 5\u001b[0m\n\u001b[0;32m      1\u001b[0m \u001b[38;5;66;03m## == TEST CASES for Puzzle 3.3  ==\u001b[39;00m\n\u001b[0;32m      2\u001b[0m \u001b[38;5;66;03m# - This read-only cell contains test cases for your previous cell.\u001b[39;00m\n\u001b[0;32m      3\u001b[0m \u001b[38;5;66;03m# - If this cell runs without any error our output, you PASSED all test cases!\u001b[39;00m\n\u001b[0;32m      4\u001b[0m \u001b[38;5;66;03m# - If this cell results in any errors,/ check you previous cell, make changes, and RE-RUN your code and then this cell.\u001b[39;00m\n\u001b[1;32m----> 5\u001b[0m \u001b[38;5;28;01massert\u001b[39;00m(isclose(percentage_legendary_worst, \u001b[38;5;28mround\u001b[39m(np\u001b[38;5;241m.\u001b[39mpi \u001b[38;5;241m*\u001b[39m \u001b[38;5;241m0.1115\u001b[39m, \u001b[38;5;241m2\u001b[39m) )), \u001b[38;5;124m\"\u001b[39m\u001b[38;5;124mThe percentage of Legendary Pokemon in the worst 20 residuals is not correct. Check your code.\u001b[39m\u001b[38;5;124m\"\u001b[39m\n\u001b[0;32m      7\u001b[0m \u001b[38;5;66;03m## == SUCCESS MESSAGE ==\u001b[39;00m\n\u001b[0;32m      8\u001b[0m \u001b[38;5;66;03m# You will only see this message (with the emoji showing) if you passed all test cases:\u001b[39;00m\n\u001b[0;32m      9\u001b[0m tada \u001b[38;5;241m=\u001b[39m \u001b[38;5;124m\"\u001b[39m\u001b[38;5;130;01m\\N{PARTY POPPER}\u001b[39;00m\u001b[38;5;124m\"\u001b[39m\n",
      "\u001b[1;31mAssertionError\u001b[0m: The percentage of Legendary Pokemon in the worst 20 residuals is not correct. Check your code."
     ]
    }
   ],
   "source": [
    "## == TEST CASES for Puzzle 3.3  ==\n",
    "# - This read-only cell contains test cases for your previous cell.\n",
    "# - If this cell runs without any error our output, you PASSED all test cases!\n",
    "# - If this cell results in any errors,/ check you previous cell, make changes, and RE-RUN your code and then this cell.\n",
    "assert(isclose(percentage_legendary_worst, round(np.pi * 0.1115, 2) )), \"The percentage of Legendary Pokemon in the worst 20 residuals is not correct. Check your code.\"\n",
    "\n",
    "## == SUCCESS MESSAGE ==\n",
    "# You will only see this message (with the emoji showing) if you passed all test cases:\n",
    "tada = \"\\N{PARTY POPPER}\"\n",
    "print(f\"{tada} All tests passed! {tada}\")"
   ]
  },
  {
   "cell_type": "markdown",
   "metadata": {},
   "source": [
    "<hr style=\"color: #DD3403;\">"
   ]
  },
  {
   "cell_type": "markdown",
   "metadata": {},
   "source": [
    "# Submission\n",
    "\n",
    "You're almost done!  All you need to do is to commit your lab to GitHub:\n",
    "\n",
    "1.  ⚠️ **Make certain to save your work.** ⚠️ To do this, go to **File => Save All**\n",
    "\n",
    "2.  After you have saved, exit this notebook and follow the Canvas instructions to commit this lab to your Git repository!\n",
    "\n",
    "3. Your TA will grade your submission and provide you feedback after the lab is due. :)"
   ]
  }
 ],
 "metadata": {
  "kernelspec": {
   "display_name": "Python 3",
   "language": "python",
   "name": "python3"
  },
  "language_info": {
   "codemirror_mode": {
    "name": "ipython",
    "version": 3
   },
   "file_extension": ".py",
   "mimetype": "text/x-python",
   "name": "python",
   "nbconvert_exporter": "python",
   "pygments_lexer": "ipython3",
   "version": "3.13.3"
  }
 },
 "nbformat": 4,
 "nbformat_minor": 2
}
